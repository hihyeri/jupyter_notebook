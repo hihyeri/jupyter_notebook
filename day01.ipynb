{
 "cells": [
  {
   "cell_type": "code",
   "execution_count": 2,
   "metadata": {},
   "outputs": [
    {
     "data": {
      "text/plain": [
       "4"
      ]
     },
     "execution_count": 2,
     "metadata": {},
     "output_type": "execute_result"
    }
   ],
   "source": [
    "1+3"
   ]
  },
  {
   "cell_type": "code",
   "execution_count": 3,
   "metadata": {
    "scrolled": true
   },
   "outputs": [
    {
     "data": {
      "text/plain": [
       "'3.7.4 (default, Aug  9 2019, 18:34:13) [MSC v.1915 64 bit (AMD64)]'"
      ]
     },
     "execution_count": 3,
     "metadata": {},
     "output_type": "execute_result"
    }
   ],
   "source": [
    "import sys\n",
    "sys.version"
   ]
  },
  {
   "cell_type": "markdown",
   "metadata": {},
   "source": [
    "conda list"
   ]
  },
  {
   "cell_type": "code",
   "execution_count": 4,
   "metadata": {
    "scrolled": true
   },
   "outputs": [
    {
     "name": "stdout",
     "output_type": "stream",
     "text": [
      "# packages in environment at C:\\Users\\student\\Anaconda3:\n",
      "#\n",
      "# Name                    Version                   Build  Channel\n",
      "_ipyw_jlab_nb_ext_conf    0.1.0                    py37_0  \n",
      "alabaster                 0.7.12                   py37_0  \n",
      "anaconda                  2019.10                  py37_0  \n",
      "anaconda-client           1.7.2                    py37_0  \n",
      "anaconda-navigator        1.9.7                    py37_0  \n",
      "anaconda-project          0.8.3                      py_0  \n",
      "asn1crypto                1.0.1                    py37_0  \n",
      "astroid                   2.3.1                    py37_0  \n",
      "astropy                   3.2.1            py37he774522_0  \n",
      "atomicwrites              1.3.0                    py37_1  \n",
      "attrs                     19.2.0                     py_0  \n",
      "babel                     2.7.0                      py_0  \n",
      "backcall                  0.1.0                    py37_0  \n",
      "backports                 1.0                        py_2  \n",
      "backports.functools_lru_cache 1.5                        py_2  \n",
      "backports.os              0.1.1                    py37_0  \n",
      "backports.shutil_get_terminal_size 1.0.0                    py37_2  \n",
      "backports.tempfile        1.0                        py_1  \n",
      "backports.weakref         1.0.post1                  py_1  \n",
      "beautifulsoup4            4.8.0                    py37_0  \n",
      "bitarray                  1.0.1            py37he774522_0  \n",
      "bkcharts                  0.2                      py37_0  \n",
      "blas                      1.0                         mkl  \n",
      "bleach                    3.1.0                    py37_0  \n",
      "blosc                     1.16.3               h7bd577a_0  \n",
      "bokeh                     1.3.4                    py37_0  \n",
      "boto                      2.49.0                   py37_0  \n",
      "bottleneck                1.2.1            py37h452e1ab_1  \n",
      "bzip2                     1.0.8                he774522_0  \n",
      "ca-certificates           2019.8.28                     0  \n",
      "certifi                   2019.9.11                py37_0  \n",
      "cffi                      1.12.3           py37h7a1dbc1_0  \n",
      "chardet                   3.0.4                 py37_1003  \n",
      "click                     7.0                      py37_0  \n",
      "cloudpickle               1.2.2                      py_0  \n",
      "clyent                    1.2.2                    py37_1  \n",
      "colorama                  0.4.1                    py37_0  \n",
      "comtypes                  1.1.7                    py37_0  \n",
      "conda                     4.7.12                   py37_0  \n",
      "conda-build               3.18.9                   py37_3  \n",
      "conda-env                 2.6.0                         1  \n",
      "conda-package-handling    1.6.0            py37h62dcd97_0  \n",
      "conda-verify              3.4.2                      py_1  \n",
      "console_shortcut          0.1.1                         3  \n",
      "contextlib2               0.6.0                      py_0  \n",
      "cryptography              2.7              py37h7a1dbc1_0  \n",
      "curl                      7.65.3               h2a8f88b_0  \n",
      "cycler                    0.10.0                   py37_0  \n",
      "cython                    0.29.13          py37ha925a31_0  \n",
      "cytoolz                   0.10.0           py37he774522_0  \n",
      "dask                      2.5.2                      py_0  \n",
      "dask-core                 2.5.2                      py_0  \n",
      "decorator                 4.4.0                    py37_1  \n",
      "defusedxml                0.6.0                      py_0  \n",
      "distributed               2.5.2                      py_0  \n",
      "docutils                  0.15.2                   py37_0  \n",
      "entrypoints               0.3                      py37_0  \n",
      "et_xmlfile                1.0.1                    py37_0  \n",
      "fastcache                 1.1.0            py37he774522_0  \n",
      "filelock                  3.0.12                     py_0  \n",
      "flask                     1.1.1                      py_0  \n",
      "freetype                  2.9.1                ha9979f8_1  \n",
      "fsspec                    0.5.2                      py_0  \n",
      "future                    0.17.1                   py37_0  \n",
      "get_terminal_size         1.0.0                h38e98db_0  \n",
      "gevent                    1.4.0            py37he774522_0  \n",
      "glob2                     0.7                        py_0  \n",
      "greenlet                  0.4.15           py37hfa6e2cd_0  \n",
      "h5py                      2.9.0            py37h5e291fa_0  \n",
      "hdf5                      1.10.4               h7ebc959_0  \n",
      "heapdict                  1.0.1                      py_0  \n",
      "html5lib                  1.0.1                    py37_0  \n",
      "icc_rt                    2019.0.0             h0cc432a_1  \n",
      "icu                       58.2                 ha66f8fd_1  \n",
      "idna                      2.8                      py37_0  \n",
      "imageio                   2.6.0                    py37_0  \n",
      "imagesize                 1.1.0                    py37_0  \n",
      "importlib_metadata        0.23                     py37_0  \n",
      "intel-openmp              2019.4                      245  \n",
      "ipykernel                 5.1.2            py37h39e3cac_0  \n",
      "ipython                   7.8.0            py37h39e3cac_0  \n",
      "ipython_genutils          0.2.0                    py37_0  \n",
      "ipywidgets                7.5.1                      py_0  \n",
      "isort                     4.3.21                   py37_0  \n",
      "itsdangerous              1.1.0                    py37_0  \n",
      "jdcal                     1.4.1                      py_0  \n",
      "jedi                      0.15.1                   py37_0  \n",
      "jinja2                    2.10.3                     py_0  \n",
      "joblib                    0.13.2                   py37_0  \n",
      "jpeg                      9b                   hb83a4c4_2  \n",
      "json5                     0.8.5                      py_0  \n",
      "jsonschema                3.0.2                    py37_0  \n",
      "jupyter                   1.0.0                    py37_7  \n",
      "jupyter_client            5.3.3                    py37_1  \n",
      "jupyter_console           6.0.0                    py37_0  \n",
      "jupyter_core              4.5.0                      py_0  \n",
      "jupyterlab                1.1.4              pyhf63ae98_0  \n",
      "jupyterlab_server         1.0.6                      py_0  \n",
      "keyring                   18.0.0                   py37_0  \n",
      "kiwisolver                1.1.0            py37ha925a31_0  \n",
      "krb5                      1.16.1               hc04afaa_7  \n",
      "lazy-object-proxy         1.4.2            py37he774522_0  \n",
      "libarchive                3.3.3                h0643e63_5  \n",
      "libcurl                   7.65.3               h2a8f88b_0  \n",
      "libiconv                  1.15                 h1df5818_7  \n",
      "liblief                   0.9.0                ha925a31_2  \n",
      "libpng                    1.6.37               h2a8f88b_0  \n",
      "libsodium                 1.0.16               h9d3ae62_0  \n",
      "libssh2                   1.8.2                h7a1dbc1_0  \n",
      "libtiff                   4.0.10               hb898794_2  \n",
      "libxml2                   2.9.9                h464c3ec_0  \n",
      "libxslt                   1.1.33               h579f668_0  \n",
      "llvmlite                  0.29.0           py37ha925a31_0  \n",
      "locket                    0.2.0                    py37_1  \n",
      "lxml                      4.4.1            py37h1350720_0  \n",
      "lz4-c                     1.8.1.2              h2fa13f4_0  \n",
      "lzo                       2.10                 h6df0209_2  \n",
      "m2w64-gcc-libgfortran     5.3.0                         6  \n",
      "m2w64-gcc-libs            5.3.0                         7  \n",
      "m2w64-gcc-libs-core       5.3.0                         7  \n",
      "m2w64-gmp                 6.1.0                         2  \n",
      "m2w64-libwinpthread-git   5.0.0.4634.697f757               2  \n",
      "markupsafe                1.1.1            py37he774522_0  \n",
      "matplotlib                3.1.1            py37hc8f65d3_0  \n",
      "mccabe                    0.6.1                    py37_1  \n",
      "menuinst                  1.4.16           py37he774522_0  \n",
      "mistune                   0.8.4            py37he774522_0  \n",
      "mkl                       2019.4                      245  \n",
      "mkl-service               2.3.0            py37hb782905_0  \n",
      "mkl_fft                   1.0.14           py37h14836fe_0  \n",
      "mkl_random                1.1.0            py37h675688f_0  \n",
      "mock                      3.0.5                    py37_0  \n",
      "more-itertools            7.2.0                    py37_0  \n",
      "mpmath                    1.1.0                    py37_0  \n",
      "msgpack-python            0.6.1            py37h74a9793_1  \n",
      "msys2-conda-epoch         20160418                      1  \n",
      "multipledispatch          0.6.0                    py37_0  \n",
      "navigator-updater         0.2.1                    py37_0  \n",
      "nbconvert                 5.6.0                    py37_1  \n",
      "nbformat                  4.4.0                    py37_0  \n",
      "networkx                  2.3                        py_0  \n",
      "nltk                      3.4.5                    py37_0  \n",
      "nose                      1.3.7                    py37_2  \n",
      "notebook                  6.0.1                    py37_0  \n",
      "numba                     0.45.1           py37hf9181ef_0  \n",
      "numexpr                   2.7.0            py37hdce8814_0  \n",
      "numpy                     1.16.5           py37h19fb1c0_0  \n",
      "numpy-base                1.16.5           py37hc3f5095_0  \n",
      "numpydoc                  0.9.1                      py_0  \n",
      "olefile                   0.46                     py37_0  \n",
      "openpyxl                  3.0.0                      py_0  \n",
      "openssl                   1.1.1d               he774522_2  \n",
      "packaging                 19.2                       py_0  \n",
      "pandas                    0.25.1           py37ha925a31_0  \n",
      "pandoc                    2.2.3.2                       0  \n",
      "pandocfilters             1.4.2                    py37_1  \n",
      "parso                     0.5.1                      py_0  \n",
      "partd                     1.0.0                      py_0  \n",
      "path.py                   12.0.1                     py_0  \n",
      "pathlib2                  2.3.5                    py37_0  \n",
      "patsy                     0.5.1                    py37_0  \n",
      "pep8                      1.7.1                    py37_0  \n",
      "pickleshare               0.7.5                    py37_0  \n",
      "pillow                    6.2.0            py37hdc69c19_0  \n",
      "pip                       19.2.3                   py37_0  \n",
      "pkginfo                   1.5.0.1                  py37_0  \n",
      "pluggy                    0.13.0                   py37_0  \n",
      "ply                       3.11                     py37_0  \n",
      "powershell_shortcut       0.0.1                         2  \n",
      "prometheus_client         0.7.1                      py_0  \n",
      "prompt_toolkit            2.0.10                     py_0  \n",
      "psutil                    5.6.3            py37he774522_0  \n",
      "py                        1.8.0                    py37_0  \n",
      "py-lief                   0.9.0            py37ha925a31_2  \n",
      "pycodestyle               2.5.0                    py37_0  \n",
      "pycosat                   0.6.3            py37hfa6e2cd_0  \n",
      "pycparser                 2.19                     py37_0  \n",
      "pycrypto                  2.6.1            py37hfa6e2cd_9  \n",
      "pycurl                    7.43.0.3         py37h7a1dbc1_0  \n",
      "pyflakes                  2.1.1                    py37_0  \n",
      "pygments                  2.4.2                      py_0  \n",
      "pylint                    2.4.2                    py37_0  \n",
      "pyodbc                    4.0.27           py37ha925a31_0  \n",
      "pyopenssl                 19.0.0                   py37_0  \n",
      "pyparsing                 2.4.2                      py_0  \n",
      "pyqt                      5.9.2            py37h6538335_2  \n",
      "pyreadline                2.1                      py37_1  \n",
      "pyrsistent                0.15.4           py37he774522_0  \n",
      "pysocks                   1.7.1                    py37_0  \n",
      "pytables                  3.5.2            py37h1da0976_1  \n",
      "pytest                    5.2.1                    py37_0  \n",
      "pytest-arraydiff          0.3              py37h39e3cac_0  \n",
      "pytest-astropy            0.5.0                    py37_0  \n",
      "pytest-doctestplus        0.4.0                      py_0  \n",
      "pytest-openfiles          0.4.0                      py_0  \n",
      "pytest-remotedata         0.3.2                    py37_0  \n",
      "python                    3.7.4                h5263a28_0  \n",
      "python-dateutil           2.8.0                    py37_0  \n",
      "python-libarchive-c       2.8                     py37_13  \n",
      "pytz                      2019.3                     py_0  \n",
      "pywavelets                1.0.3            py37h8c2d366_1  \n",
      "pywin32                   223              py37hfa6e2cd_1  \n",
      "pywinpty                  0.5.5                 py37_1000  \n",
      "pyyaml                    5.1.2            py37he774522_0  \n",
      "pyzmq                     18.1.0           py37ha925a31_0  \n",
      "qt                        5.9.7            vc14h73c81de_0  \n",
      "qtawesome                 0.6.0                      py_0  \n",
      "qtconsole                 4.5.5                      py_0  \n",
      "qtpy                      1.9.0                      py_0  \n",
      "requests                  2.22.0                   py37_0  \n",
      "rope                      0.14.0                     py_0  \n",
      "ruamel_yaml               0.15.46          py37hfa6e2cd_0  \n",
      "scikit-image              0.15.0           py37ha925a31_0  \n",
      "scikit-learn              0.21.3           py37h6288b17_0  \n",
      "scipy                     1.3.1            py37h29ff71c_0  \n",
      "seaborn                   0.9.0                    py37_0  \n",
      "send2trash                1.5.0                    py37_0  \n",
      "setuptools                41.4.0                   py37_0  \n",
      "simplegeneric             0.8.1                    py37_2  \n",
      "singledispatch            3.4.0.3                  py37_0  \n",
      "sip                       4.19.8           py37h6538335_0  \n",
      "six                       1.12.0                   py37_0  \n",
      "snappy                    1.1.7                h777316e_3  \n",
      "snowballstemmer           2.0.0                      py_0  \n",
      "sortedcollections         1.1.2                    py37_0  \n",
      "sortedcontainers          2.1.0                    py37_0  \n",
      "soupsieve                 1.9.3                    py37_0  \n",
      "sphinx                    2.2.0                      py_0  \n",
      "sphinxcontrib             1.0                      py37_1  \n",
      "sphinxcontrib-applehelp   1.0.1                      py_0  \n",
      "sphinxcontrib-devhelp     1.0.1                      py_0  \n",
      "sphinxcontrib-htmlhelp    1.0.2                      py_0  \n",
      "sphinxcontrib-jsmath      1.0.1                      py_0  \n",
      "sphinxcontrib-qthelp      1.0.2                      py_0  \n",
      "sphinxcontrib-serializinghtml 1.1.3                      py_0  \n",
      "sphinxcontrib-websupport  1.1.2                      py_0  \n",
      "spyder                    3.3.6                    py37_0  \n",
      "spyder-kernels            0.5.2                    py37_0  \n",
      "sqlalchemy                1.3.9            py37he774522_0  \n",
      "sqlite                    3.30.0               he774522_0  \n",
      "statsmodels               0.10.1           py37h8c2d366_0  \n",
      "sympy                     1.4                      py37_0  \n",
      "tbb                       2019.4               h74a9793_0  \n",
      "tblib                     1.4.0                      py_0  \n",
      "terminado                 0.8.2                    py37_0  \n",
      "testpath                  0.4.2                    py37_0  \n",
      "tk                        8.6.8                hfa6e2cd_0  \n",
      "toolz                     0.10.0                     py_0  \n",
      "tornado                   6.0.3            py37he774522_0  \n",
      "tqdm                      4.36.1                     py_0  \n",
      "traitlets                 4.3.3                    py37_0  \n",
      "unicodecsv                0.14.1                   py37_0  \n",
      "urllib3                   1.24.2                   py37_0  \n",
      "vc                        14.1                 h0510ff6_4  \n",
      "vs2015_runtime            14.16.27012          hf0eaf9b_0  \n",
      "wcwidth                   0.1.7                    py37_0  \n",
      "webencodings              0.5.1                    py37_1  \n",
      "werkzeug                  0.16.0                     py_0  \n",
      "wheel                     0.33.6                   py37_0  \n",
      "widgetsnbextension        3.5.1                    py37_0  \n",
      "win_inet_pton             1.1.0                    py37_0  \n",
      "win_unicode_console       0.5                      py37_0  \n",
      "wincertstore              0.2                      py37_0  \n",
      "winpty                    0.4.3                         4  \n",
      "wrapt                     1.11.2           py37he774522_0  \n",
      "xlrd                      1.2.0                    py37_0  \n",
      "xlsxwriter                1.2.1                      py_0  \n",
      "xlwings                   0.15.10                  py37_0  \n",
      "xlwt                      1.3.0                    py37_0  \n",
      "xz                        5.2.4                h2fa13f4_4  \n",
      "yaml                      0.1.7                hc54c509_2  \n",
      "zeromq                    4.3.1                h33f27b4_3  \n",
      "zict                      1.0.0                      py_0  \n",
      "zipp                      0.6.0                      py_0  \n",
      "zlib                      1.2.11               h62dcd97_3  \n",
      "zstd                      1.3.7                h508b16e_0  \n"
     ]
    }
   ],
   "source": [
    "! conda list"
   ]
  },
  {
   "cell_type": "code",
   "execution_count": 44,
   "metadata": {},
   "outputs": [
    {
     "name": "stdout",
     "output_type": "stream",
     "text": [
      "# packages in environment at C:\\Users\\student\\Anaconda3\\envs\\multicamp:\n",
      "#\n",
      "# Name                    Version                   Build  Channel\n",
      "backcall                  0.1.0                    pypi_0    pypi\n",
      "certifi                   2019.11.28               py36_0  \n",
      "colorama                  0.4.3                    pypi_0    pypi\n",
      "decorator                 4.4.1                    pypi_0    pypi\n",
      "ipykernel                 5.1.3                    pypi_0    pypi\n",
      "ipython                   7.11.1                   pypi_0    pypi\n",
      "ipython-genutils          0.2.0                    pypi_0    pypi\n",
      "jedi                      0.15.2                   pypi_0    pypi\n",
      "jupyter-client            5.3.4                    pypi_0    pypi\n",
      "jupyter-core              4.6.1                    pypi_0    pypi\n",
      "parso                     0.5.2                    pypi_0    pypi\n",
      "pickleshare               0.7.5                    pypi_0    pypi\n",
      "pip                       19.3.1                   py36_0  \n",
      "prompt-toolkit            3.0.2                    pypi_0    pypi\n",
      "pygments                  2.5.2                    pypi_0    pypi\n",
      "python                    3.6.10               h9f7ef89_0  \n",
      "python-dateutil           2.8.1                    pypi_0    pypi\n",
      "pywin32                   227                      pypi_0    pypi\n",
      "pyzmq                     18.1.1                   pypi_0    pypi\n",
      "setuptools                44.0.0                   py36_0  \n",
      "six                       1.14.0                   pypi_0    pypi\n",
      "sqlite                    3.30.1               he774522_0  \n",
      "tornado                   6.0.3                    pypi_0    pypi\n",
      "traitlets                 4.3.3                    pypi_0    pypi\n",
      "vc                        14.1                 h0510ff6_4  \n",
      "vs2015_runtime            14.16.27012          hf0eaf9b_1  \n",
      "wcwidth                   0.1.8                    pypi_0    pypi\n",
      "wheel                     0.33.6                   py36_0  \n",
      "wincertstore              0.2              py36h7fe50ca_0  \n"
     ]
    }
   ],
   "source": [
    "! conda list"
   ]
  },
  {
   "cell_type": "markdown",
   "metadata": {},
   "source": [
    "*이탤릭* <br>\n",
    "\n",
    "**볼드** <br>\n",
    "\n",
    "***이탤릭체 볼드***\n",
    "\n",
    "- 번호 없는 리스트\n",
    "\n",
    "(1) 번호있는 리스트\n",
    "\n",
    "$ 수식\n",
    "\n",
    "$$\\sqrt{2}$$\n",
    "\n",
    "% <<- magic이라 한다."
   ]
  },
  {
   "cell_type": "markdown",
   "metadata": {},
   "source": [
    "- 번호없는 리스트<br>\n",
    "* 번호없는 리스트<br>\n",
    "+ 번호없는 리스트<br>"
   ]
  },
  {
   "cell_type": "code",
   "execution_count": 5,
   "metadata": {},
   "outputs": [
    {
     "name": "stdout",
     "output_type": "stream",
     "text": [
      "Wall time: 0 ns\n"
     ]
    }
   ],
   "source": [
    "%time"
   ]
  },
  {
   "cell_type": "code",
   "execution_count": 6,
   "metadata": {},
   "outputs": [
    {
     "name": "stdout",
     "output_type": "stream",
     "text": [
      "Overwriting aa.txt\n"
     ]
    }
   ],
   "source": [
    "%%writefile aa.txt\n",
    "# 파일저장하기\n",
    "파이썬배우기"
   ]
  },
  {
   "cell_type": "code",
   "execution_count": 6,
   "metadata": {},
   "outputs": [
    {
     "data": {
      "text/plain": [
       "'\\n파이썬 코딩 도장\\nhttps://dojang.io/course/view.php?id=7\\n'"
      ]
     },
     "execution_count": 6,
     "metadata": {},
     "output_type": "execute_result"
    }
   ],
   "source": [
    "'''\n",
    "파이썬 코딩 도장\n",
    "https://dojang.io/course/view.php?id=7\n",
    "'''"
   ]
  },
  {
   "cell_type": "code",
   "execution_count": 7,
   "metadata": {},
   "outputs": [
    {
     "name": "stdout",
     "output_type": "stream",
     "text": [
      "python print practice\n"
     ]
    }
   ],
   "source": [
    "print('python print practice')"
   ]
  },
  {
   "cell_type": "code",
   "execution_count": 8,
   "metadata": {},
   "outputs": [
    {
     "name": "stdout",
     "output_type": "stream",
     "text": [
      "Overwriting test.py\n"
     ]
    }
   ],
   "source": [
    "%%writefile test.py\n",
    "print('파이썬연습하기')\n",
    "print(10+20)"
   ]
  },
  {
   "cell_type": "code",
   "execution_count": 11,
   "metadata": {},
   "outputs": [
    {
     "name": "stdout",
     "output_type": "stream",
     "text": [
      "파이썬연습하기\n",
      "30\n"
     ]
    }
   ],
   "source": [
    "!python test.py #새로 만들기"
   ]
  },
  {
   "cell_type": "code",
   "execution_count": 11,
   "metadata": {},
   "outputs": [
    {
     "name": "stdout",
     "output_type": "stream",
     "text": [
      "12\n",
      "20\n"
     ]
    }
   ],
   "source": [
    "print(10 + 2); print(20)"
   ]
  },
  {
   "cell_type": "code",
   "execution_count": 12,
   "metadata": {},
   "outputs": [],
   "source": [
    "# R 언어, 파이썬 언어의 주석은 #\n",
    "# PLSQL 언어는 주석은 --"
   ]
  },
  {
   "cell_type": "code",
   "execution_count": 24,
   "metadata": {},
   "outputs": [],
   "source": [
    "a = 1"
   ]
  },
  {
   "cell_type": "code",
   "execution_count": 25,
   "metadata": {},
   "outputs": [
    {
     "name": "stdout",
     "output_type": "stream",
     "text": [
      "whdfyek\n"
     ]
    }
   ],
   "source": [
    "if a == 10:\n",
    "    print(\"a는 10이다링\")\n",
    "print(\"whdfyek\")\n",
    "\n",
    "# 파이썬은 들여쓰기로 블럭을 잡는다\n",
    "# tab or 공백 4개"
   ]
  },
  {
   "cell_type": "code",
   "execution_count": 31,
   "metadata": {},
   "outputs": [
    {
     "data": {
      "text/plain": [
       "(3.3333333333333335, 3, 1, 3, 220)"
      ]
     },
     "execution_count": 31,
     "metadata": {},
     "output_type": "execute_result"
    }
   ],
   "source": [
    "10/3, 10//3, 10%3, int(10/3), int('20')+200"
   ]
  },
  {
   "cell_type": "markdown",
   "metadata": {},
   "source": [
    "#### 5.1.6 객체의 자료형 알아내기"
   ]
  },
  {
   "cell_type": "code",
   "execution_count": 39,
   "metadata": {},
   "outputs": [
    {
     "data": {
      "text/plain": [
       "(bool, False)"
      ]
     },
     "execution_count": 39,
     "metadata": {},
     "output_type": "execute_result"
    }
   ],
   "source": [
    "# R언어 >> typeof(), mode() , class() -- > 원시적인 데이터 타입알아보기\n",
    "# python >> type()\n",
    "type('가나다')\n",
    "\n",
    "a = 10 # int\n",
    "a = '파이썬' # str\n",
    "a = 3.14 # float\n",
    "a = 10 > 20 # bool\n",
    "type(a), a  # bool, false\n",
    "# 값이 들어가면 타입이 나온다 >>> '동적 타이핑'\n",
    "\n",
    "# type(10)\n",
    "# type(3.14)\n",
    "# type(10 > 20)"
   ]
  },
  {
   "cell_type": "markdown",
   "metadata": {},
   "source": [
    "##### 몫과 나머지 한번에 구하기\n",
    "divmod(100, 6)"
   ]
  },
  {
   "cell_type": "code",
   "execution_count": 43,
   "metadata": {},
   "outputs": [
    {
     "name": "stdout",
     "output_type": "stream",
     "text": [
      "몫은 3 나머지는 1\n"
     ]
    }
   ],
   "source": [
    "x, y = divmod(10, 3)\n",
    "print(\"몫은\", x,\"나머지는\", y)"
   ]
  },
  {
   "cell_type": "markdown",
   "metadata": {},
   "source": [
    "6장"
   ]
  },
  {
   "cell_type": "code",
   "execution_count": 1,
   "metadata": {},
   "outputs": [
    {
     "name": "stdout",
     "output_type": "stream",
     "text": [
      "10 20 30\n"
     ]
    }
   ],
   "source": [
    "a,b, c=10, 20, 30\n",
    "print(a, b, c)"
   ]
  },
  {
   "cell_type": "code",
   "execution_count": 16,
   "metadata": {},
   "outputs": [],
   "source": [
    "del(int) # 메모리에서 지우기"
   ]
  },
  {
   "cell_type": "code",
   "execution_count": 14,
   "metadata": {},
   "outputs": [
    {
     "ename": "TypeError",
     "evalue": "'int' object is not callable",
     "output_type": "error",
     "traceback": [
      "\u001b[1;31m---------------------------------------------------------------------------\u001b[0m",
      "\u001b[1;31mTypeError\u001b[0m                                 Traceback (most recent call last)",
      "\u001b[1;32m<ipython-input-14-80f06cfc8c7b>\u001b[0m in \u001b[0;36m<module>\u001b[1;34m\u001b[0m\n\u001b[0;32m      1\u001b[0m \u001b[0ms\u001b[0m \u001b[1;33m=\u001b[0m \u001b[1;34m'20'\u001b[0m\u001b[1;33m\u001b[0m\u001b[1;33m\u001b[0m\u001b[0m\n\u001b[0;32m      2\u001b[0m \u001b[0mint\u001b[0m \u001b[1;33m=\u001b[0m \u001b[1;36m40\u001b[0m\u001b[1;33m\u001b[0m\u001b[1;33m\u001b[0m\u001b[0m\n\u001b[1;32m----> 3\u001b[1;33m \u001b[0mint\u001b[0m\u001b[1;33m(\u001b[0m\u001b[0ms\u001b[0m\u001b[1;33m)\u001b[0m \u001b[1;33m+\u001b[0m \u001b[1;36m30\u001b[0m\u001b[1;33m\u001b[0m\u001b[1;33m\u001b[0m\u001b[0m\n\u001b[0m",
      "\u001b[1;31mTypeError\u001b[0m: 'int' object is not callable"
     ]
    }
   ],
   "source": [
    "s = '20'\n",
    "int = 40\n",
    "int(s) + 30"
   ]
  },
  {
   "cell_type": "code",
   "execution_count": 17,
   "metadata": {},
   "outputs": [
    {
     "data": {
      "text/plain": [
       "50"
      ]
     },
     "execution_count": 17,
     "metadata": {},
     "output_type": "execute_result"
    }
   ],
   "source": [
    "int(s) + 30"
   ]
  },
  {
   "cell_type": "code",
   "execution_count": 20,
   "metadata": {},
   "outputs": [
    {
     "ename": "TypeError",
     "evalue": "'str' object is not callable",
     "output_type": "error",
     "traceback": [
      "\u001b[1;31m---------------------------------------------------------------------------\u001b[0m",
      "\u001b[1;31mTypeError\u001b[0m                                 Traceback (most recent call last)",
      "\u001b[1;32m<ipython-input-20-2a97f66b0cda>\u001b[0m in \u001b[0;36m<module>\u001b[1;34m\u001b[0m\n\u001b[1;32m----> 1\u001b[1;33m \u001b[0mstr\u001b[0m\u001b[1;33m(\u001b[0m\u001b[1;36m10\u001b[0m\u001b[1;33m)\u001b[0m \u001b[1;33m+\u001b[0m \u001b[1;34m'30'\u001b[0m\u001b[1;33m\u001b[0m\u001b[1;33m\u001b[0m\u001b[0m\n\u001b[0m",
      "\u001b[1;31mTypeError\u001b[0m: 'str' object is not callable"
     ]
    }
   ],
   "source": [
    "str(10) + '30'"
   ]
  },
  {
   "cell_type": "code",
   "execution_count": 19,
   "metadata": {},
   "outputs": [
    {
     "name": "stdout",
     "output_type": "stream",
     "text": [
      "hellojhi\n"
     ]
    }
   ],
   "source": [
    "str = 'hellojhi'\n",
    "print(str) # str이라는 함수가 있는데 변수로 잘못 사용한 경우"
   ]
  },
  {
   "cell_type": "code",
   "execution_count": 21,
   "metadata": {},
   "outputs": [
    {
     "ename": "TypeError",
     "evalue": "'str' object is not callable",
     "output_type": "error",
     "traceback": [
      "\u001b[1;31m---------------------------------------------------------------------------\u001b[0m",
      "\u001b[1;31mTypeError\u001b[0m                                 Traceback (most recent call last)",
      "\u001b[1;32m<ipython-input-21-2a97f66b0cda>\u001b[0m in \u001b[0;36m<module>\u001b[1;34m\u001b[0m\n\u001b[1;32m----> 1\u001b[1;33m \u001b[0mstr\u001b[0m\u001b[1;33m(\u001b[0m\u001b[1;36m10\u001b[0m\u001b[1;33m)\u001b[0m \u001b[1;33m+\u001b[0m \u001b[1;34m'30'\u001b[0m\u001b[1;33m\u001b[0m\u001b[1;33m\u001b[0m\u001b[0m\n\u001b[0m",
      "\u001b[1;31mTypeError\u001b[0m: 'str' object is not callable"
     ]
    }
   ],
   "source": [
    "str(10) + '30'"
   ]
  },
  {
   "cell_type": "code",
   "execution_count": 22,
   "metadata": {},
   "outputs": [],
   "source": [
    "del str"
   ]
  },
  {
   "cell_type": "code",
   "execution_count": 23,
   "metadata": {},
   "outputs": [
    {
     "data": {
      "text/plain": [
       "'1030'"
      ]
     },
     "execution_count": 23,
     "metadata": {},
     "output_type": "execute_result"
    }
   ],
   "source": [
    "str(10) + '30' # 다시 문자열로 바꾸는 str로 간다."
   ]
  },
  {
   "cell_type": "code",
   "execution_count": 26,
   "metadata": {},
   "outputs": [
    {
     "name": "stdout",
     "output_type": "stream",
     "text": [
      "None\n"
     ]
    }
   ],
   "source": [
    "a = None # 아직 결정된 값이 없지만 변수는 필요할 때 None으로 넣는다.\n",
    "print(a)"
   ]
  },
  {
   "cell_type": "code",
   "execution_count": 27,
   "metadata": {},
   "outputs": [
    {
     "data": {
      "text/plain": [
       "30"
      ]
     },
     "execution_count": 27,
     "metadata": {},
     "output_type": "execute_result"
    }
   ],
   "source": [
    "a = 10\n",
    "b= 20\n",
    "c = a+b\n",
    "c"
   ]
  },
  {
   "cell_type": "code",
   "execution_count": 29,
   "metadata": {},
   "outputs": [
    {
     "data": {
      "text/plain": [
       "45"
      ]
     },
     "execution_count": 29,
     "metadata": {},
     "output_type": "execute_result"
    }
   ],
   "source": [
    "d = 20\n",
    "d += 25\n",
    "d"
   ]
  },
  {
   "cell_type": "code",
   "execution_count": 30,
   "metadata": {},
   "outputs": [
    {
     "name": "stdin",
     "output_type": "stream",
     "text": [
      " 10\n"
     ]
    },
    {
     "data": {
      "text/plain": [
       "'10'"
      ]
     },
     "execution_count": 30,
     "metadata": {},
     "output_type": "execute_result"
    }
   ],
   "source": [
    "input() # user가 입력하면 문자로 들어감"
   ]
  },
  {
   "cell_type": "code",
   "execution_count": 32,
   "metadata": {},
   "outputs": [
    {
     "name": "stdin",
     "output_type": "stream",
     "text": [
      "숫자1을 입력>> 123\n",
      "숫자2를 입력>> 456\n"
     ]
    },
    {
     "name": "stdout",
     "output_type": "stream",
     "text": [
      "123456\n"
     ]
    }
   ],
   "source": [
    "# python에서 ' + ' 가 연결연산자다\n",
    "a = input('숫자1을 입력>>')\n",
    "b = input('숫자2를 입력>>')\n",
    "print(a + b)"
   ]
  },
  {
   "cell_type": "code",
   "execution_count": 33,
   "metadata": {},
   "outputs": [
    {
     "name": "stdin",
     "output_type": "stream",
     "text": [
      "숫자1 >>> 123\n",
      "숫자2 >>> 2\n"
     ]
    },
    {
     "name": "stdout",
     "output_type": "stream",
     "text": [
      "125\n"
     ]
    }
   ],
   "source": [
    "a = int(input('숫자1 >>>'))\n",
    "b = (input('숫자2 >>>'))\n",
    "print(a + int(b))"
   ]
  },
  {
   "cell_type": "code",
   "execution_count": 36,
   "metadata": {},
   "outputs": [
    {
     "name": "stdin",
     "output_type": "stream",
     "text": [
      "문자열 2개를 입력하세여:  aaa bbb\n"
     ]
    },
    {
     "name": "stdout",
     "output_type": "stream",
     "text": [
      "aaa bbb\n"
     ]
    }
   ],
   "source": [
    "a, b = input('문자열 2개를 입력하세여: ').split()\n",
    "print(a, b)"
   ]
  },
  {
   "cell_type": "code",
   "execution_count": 47,
   "metadata": {},
   "outputs": [
    {
     "name": "stdin",
     "output_type": "stream",
     "text": [
      "숫자입력(10, 20)>>>> 1, 2\n"
     ]
    },
    {
     "name": "stdout",
     "output_type": "stream",
     "text": [
      "3\n"
     ]
    }
   ],
   "source": [
    "a, b = input('숫자입력(10, 20)>>>>').split(',') # comma 로 구분하기\n",
    "#print(int(a + b))\n",
    "print(int(a) + int(b))"
   ]
  },
  {
   "cell_type": "code",
   "execution_count": 48,
   "metadata": {},
   "outputs": [
    {
     "name": "stdin",
     "output_type": "stream",
     "text": [
      "숫자입력(10, 20)>>>> 1 2\n"
     ]
    },
    {
     "name": "stdout",
     "output_type": "stream",
     "text": [
      "3\n"
     ]
    }
   ],
   "source": [
    "a, b = input('숫자입력(10, 20)>>>>').split(' ') # 공백으로 구분하기\n",
    "#print(int(a + b))\n",
    "print(int(a) + int(b))"
   ]
  },
  {
   "cell_type": "code",
   "execution_count": 52,
   "metadata": {},
   "outputs": [
    {
     "name": "stdin",
     "output_type": "stream",
     "text": [
      "숫자 2개를 공백으로 분류해서 써봐라라ㅏ라랄>>>> 1, 2\n"
     ]
    },
    {
     "name": "stdout",
     "output_type": "stream",
     "text": [
      "3\n"
     ]
    }
   ],
   "source": [
    "# map : 함수처럼 값을 주면 뭔가 변형되서 온다.\n",
    "# split의 결과를 매번 int로 변환하기 귀찮을 때 map을 사용!!!\n",
    "\n",
    "a, b =map(int, input('숫자 2개를 공백으로 분류해서 써봐라라ㅏ라랄>>>>').split(','))\n",
    "print(a+b)"
   ]
  },
  {
   "cell_type": "markdown",
   "metadata": {},
   "source": [
    "#### 6.6 연습문제 : 정수 3개를 입력받고 합계 출력하기"
   ]
  },
  {
   "cell_type": "code",
   "execution_count": 60,
   "metadata": {},
   "outputs": [
    {
     "name": "stdout",
     "output_type": "stream",
     "text": [
      "Writing practice_input_split.py\n"
     ]
    }
   ],
   "source": [
    "%%writefile practice_input_split.py\n",
    "a, b, c = map(int, input('정수 3개 입력하기').split(' '))\n",
    "print(a+b+c)"
   ]
  },
  {
   "cell_type": "code",
   "execution_count": 4,
   "metadata": {},
   "outputs": [],
   "source": [
    "# !python practice_input_split.py"
   ]
  },
  {
   "cell_type": "markdown",
   "metadata": {},
   "source": [
    "7장"
   ]
  },
  {
   "cell_type": "code",
   "execution_count": 8,
   "metadata": {},
   "outputs": [
    {
     "name": "stdout",
     "output_type": "stream",
     "text": [
      "1..2..3\n",
      "1\n",
      "2\n",
      "3\n",
      "1 2 3..1*2*3*4\n"
     ]
    }
   ],
   "source": [
    "print(1, 2, 3, sep = '..')\n",
    "print(1, 2, 3, sep = '\\n')\n",
    "print(1, 2, 3, end = '..') #맨 마지막에만 ..을 출력하기\n",
    "# 한줄을 다 찍고나서 찍기\n",
    "print(1, 2, 3, 4, sep = '*')"
   ]
  },
  {
   "cell_type": "code",
   "execution_count": 17,
   "metadata": {},
   "outputs": [
    {
     "name": "stdout",
     "output_type": "stream",
     "text": [
      "2000/10/27\\11/43/59\n",
      "2000/10/27\t11:43:59\n"
     ]
    }
   ],
   "source": [
    "year = 2000\n",
    "month =10\n",
    "day = 27\n",
    "hour= 11\n",
    "minute = 43\n",
    "second = 59\n",
    "\n",
    "print(year, month, day, sep = '/', end = '\\\\')\n",
    "print(hour, minute, second, sep = '/')\n",
    "\n",
    "print(year, month, day, sep = '/', end = '\\t')\n",
    "print(hour, minute, second, sep = ':')"
   ]
  },
  {
   "cell_type": "code",
   "execution_count": 23,
   "metadata": {},
   "outputs": [
    {
     "name": "stdout",
     "output_type": "stream",
     "text": [
      "False\n",
      "True\n",
      "False\n"
     ]
    }
   ],
   "source": [
    "a = 1\n",
    "print(a == 10)\n",
    "print(a == 1.0)\n",
    "print(a is 1.0) # 객체로 봤을 때 다른것임"
   ]
  },
  {
   "cell_type": "code",
   "execution_count": 24,
   "metadata": {},
   "outputs": [
    {
     "name": "stdout",
     "output_type": "stream",
     "text": [
      "True\n",
      "True\n",
      "True\n",
      "False\n",
      "140712377557680\n",
      "140712377557680\n",
      "2144083535184\n"
     ]
    }
   ],
   "source": [
    "# 정수 객체와 실수 객체가 다른것을 확인하기\n",
    "a = 10\n",
    "b = 10\n",
    "c = 10.0\n",
    "\n",
    "print(a == b)\n",
    "print(a is b)\n",
    "\n",
    "print(a == c)\n",
    "print(a is c)\n",
    "\n",
    "print(id(a))\n",
    "print(id(b))\n",
    "print(id(c))"
   ]
  },
  {
   "cell_type": "code",
   "execution_count": 27,
   "metadata": {},
   "outputs": [
    {
     "data": {
      "text/plain": [
       "True"
      ]
     },
     "execution_count": 27,
     "metadata": {},
     "output_type": "execute_result"
    }
   ],
   "source": [
    "# 연산자 우선순위 : * /  >>> + -\n",
    "# 논리 연산자 우선순위 : NOT , AND, OR\n",
    "((not True) and False) or (not False)\n",
    "\n",
    "# FALSE OR TRUE >> TRUE"
   ]
  },
  {
   "cell_type": "code",
   "execution_count": 29,
   "metadata": {},
   "outputs": [
    {
     "data": {
      "text/plain": [
       "(True, False, False, False, True, False, True)"
      ]
     },
     "execution_count": 29,
     "metadata": {},
     "output_type": "execute_result"
    }
   ],
   "source": [
    "bool('aaa'), bool(''), bool(0), bool(None), bool(not None), bool(0.0), bool(1.0)\n",
    "# 값이 있냐 없냐 판단할때 bool 사용"
   ]
  },
  {
   "cell_type": "code",
   "execution_count": 31,
   "metadata": {},
   "outputs": [
    {
     "name": "stdout",
     "output_type": "stream",
     "text": [
      "True\n"
     ]
    }
   ],
   "source": [
    "print(True)"
   ]
  },
  {
   "cell_type": "code",
   "execution_count": 41,
   "metadata": {},
   "outputs": [
    {
     "name": "stdout",
     "output_type": "stream",
     "text": [
      "False\n"
     ]
    }
   ],
   "source": [
    "# 8장 연습문제\n",
    "# 국어, 영어, 수학, 과학점수가 있을 때 한 과목이라도 50점 미만이면 불합격\n",
    "# 합격이면 true, 불합격이면 false\n",
    "\n",
    "korean = 92\n",
    "english = 47\n",
    "mathematics = 86\n",
    "science = 81\n",
    "\n",
    "print(not bool(korean or english or mathematics or science <50))"
   ]
  },
  {
   "cell_type": "markdown",
   "metadata": {},
   "source": [
    "a = 'aaaa\n",
    "aaaaaaa' \n",
    ">> 불가능함\n",
    "\n",
    "a = 'aaaa' \\\n",
    "'aaaaaaa' "
   ]
  },
  {
   "cell_type": "code",
   "execution_count": 46,
   "metadata": {},
   "outputs": [
    {
     "data": {
      "text/plain": [
       "[' ',\n",
       " '연합뉴스 속보| 이 페이지는 연합뉴스가 직접 편집합니다.',\n",
       " '\"우한 폐렴, 中 공식 발표보다 훨씬 심각\" 곳곳 우려 목소리',\n",
       " '\"우한 폐렴, 中 공식 발표보다 훨씬 심각\" 곳곳 우려 목소리',\n",
       " '中 당국 축소 발표 우려…홍콩 연구진 \"1천459명 이미 감염\"\"사스처럼 전면적 확산 단계 근접\"…\\'슈퍼 전파자\\' 우려 커 우한폐렴 미...',\n",
       " '연합뉴스2020.01.22  100+',\n",
       " \"'우한 폐렴' 증상자 4명 '검사중'…3명은 확진환자 접촉자연합뉴스2020.01.22  100+\",\n",
       " '문대통령 \"코로나바이러스 예방 만전\"…경제영향 점검도 지시연합뉴스2020.01.22  100+',\n",
       " '\\'우한 폐렴\\' 완치 환자 \"41도 고열…음식 먹으면 바로 토해\"연합뉴스2020.01.22',\n",
       " \"중국 '우한 폐렴'과 전쟁 돌입…사스 사태 수준 격상연합뉴스2020.01.22\",\n",
       " \"중국, 하루 '춘제 여객' 8천만 넘어…'우한폐렴' 확산 우려연합뉴스2020.01.22  10+\",\n",
       " '월급쟁이 평균소득 297만원…남성소득은 여성의 1.5배 연합뉴스 2020.01.22. 오후 12:00  700+',\n",
       " \"작년 육아휴직 남성 2만명 돌파…사용자 5명 중 1명 '아빠' 연합뉴스 2020.01.22. 오후 12:00  30+\",\n",
       " '현대차 작년 영업이익 3조6천847억원…전년보다 52.1% 증가 연합뉴스 2020.01.22. 오후 2:01',\n",
       " '서울 동작구 표준단독주택 공시가 상승률 10.61%…전국 1위 연합뉴스 2020.01.22. 오후 2:05  10+',\n",
       " '\"순식간에\" 생존 교사들이 전한 안나푸르나 눈사태 연합뉴스 2020.01.22. 오전 11:51  100+',\n",
       " '지하철 7호선 열차 고장…보라매-부평구청 93분간 중단 연합뉴스 2020.01.22. 오후 2:08  10+',\n",
       " '정경심 재판부 \"증거조사후 공소권 남용에 관해 판단\" 연합뉴스 2020.01.22. 오전 11:41  100+',\n",
       " '여 \"야당심판\" 한국당 \"폭주저지\"…공천본격화 속 보수통합 속도 연합뉴스 2020.01.22. 오후 12:02  100+',\n",
       " \"'법정구속' 면한 조용병 회장, 2기 경영체제 구축 들어가나 연합뉴스 2020.01.22. 오후 12:00\",\n",
       " '']"
      ]
     },
     "execution_count": 46,
     "metadata": {},
     "output_type": "execute_result"
    }
   ],
   "source": [
    "news = ''' \n",
    "연합뉴스 속보| 이 페이지는 연합뉴스가 직접 편집합니다.\n",
    "\"우한 폐렴, 中 공식 발표보다 훨씬 심각\" 곳곳 우려 목소리\n",
    "\"우한 폐렴, 中 공식 발표보다 훨씬 심각\" 곳곳 우려 목소리\n",
    "中 당국 축소 발표 우려…홍콩 연구진 \"1천459명 이미 감염\"\"사스처럼 전면적 확산 단계 근접\"…'슈퍼 전파자' 우려 커 우한폐렴 미...\n",
    "연합뉴스2020.01.22  100+\n",
    "'우한 폐렴' 증상자 4명 '검사중'…3명은 확진환자 접촉자연합뉴스2020.01.22  100+\n",
    "문대통령 \"코로나바이러스 예방 만전\"…경제영향 점검도 지시연합뉴스2020.01.22  100+\n",
    "'우한 폐렴' 완치 환자 \"41도 고열…음식 먹으면 바로 토해\"연합뉴스2020.01.22\n",
    "중국 '우한 폐렴'과 전쟁 돌입…사스 사태 수준 격상연합뉴스2020.01.22\n",
    "중국, 하루 '춘제 여객' 8천만 넘어…'우한폐렴' 확산 우려연합뉴스2020.01.22  10+\n",
    "월급쟁이 평균소득 297만원…남성소득은 여성의 1.5배 연합뉴스 2020.01.22. 오후 12:00  700+\n",
    "작년 육아휴직 남성 2만명 돌파…사용자 5명 중 1명 '아빠' 연합뉴스 2020.01.22. 오후 12:00  30+\n",
    "현대차 작년 영업이익 3조6천847억원…전년보다 52.1% 증가 연합뉴스 2020.01.22. 오후 2:01\n",
    "서울 동작구 표준단독주택 공시가 상승률 10.61%…전국 1위 연합뉴스 2020.01.22. 오후 2:05  10+\n",
    "\"순식간에\" 생존 교사들이 전한 안나푸르나 눈사태 연합뉴스 2020.01.22. 오전 11:51  100+\n",
    "지하철 7호선 열차 고장…보라매-부평구청 93분간 중단 연합뉴스 2020.01.22. 오후 2:08  10+\n",
    "정경심 재판부 \"증거조사후 공소권 남용에 관해 판단\" 연합뉴스 2020.01.22. 오전 11:41  100+\n",
    "여 \"야당심판\" 한국당 \"폭주저지\"…공천본격화 속 보수통합 속도 연합뉴스 2020.01.22. 오후 12:02  100+\n",
    "'법정구속' 면한 조용병 회장, 2기 경영체제 구축 들어가나 연합뉴스 2020.01.22. 오후 12:00\n",
    "'''\n",
    "news.split('\\n') # 리스트 형태로 가져온다. \\n은 newline을 의미한다."
   ]
  },
  {
   "cell_type": "code",
   "execution_count": 52,
   "metadata": {},
   "outputs": [
    {
     "name": "stdout",
     "output_type": "stream",
     "text": [
      "python \"P\" RORORORO\n",
      "python 'P' RORORORO\n",
      "python \"P\" RORORORO\n"
     ]
    }
   ],
   "source": [
    "a = 'python \"P\" RORORORO'\n",
    "b = 'python \\'P\\' RORORORO'\n",
    "c = '''python \"P\" RORORORO'''\n",
    "\n",
    "print(a)\n",
    "print(b)\n",
    "print(c)"
   ]
  },
  {
   "cell_type": "markdown",
   "metadata": {},
   "source": [
    "#### 10장"
   ]
  },
  {
   "cell_type": "code",
   "execution_count": 56,
   "metadata": {},
   "outputs": [
    {
     "data": {
      "text/plain": [
       "[1, 2, 3, 4, 5, '파이선', True, (1+2j), 3.14]"
      ]
     },
     "execution_count": 56,
     "metadata": {},
     "output_type": "execute_result"
    }
   ],
   "source": [
    "# R : 벡터 == PYTHON : 리스트\n",
    "# a = c(1, 2, '3', 4, 5) --- 데이터 형변환\n",
    "\n",
    "# python\n",
    "a = [1, 2, 3, 4, 5, '파이선', True, 1+2j, 3.14]\n",
    "a"
   ]
  },
  {
   "cell_type": "code",
   "execution_count": 59,
   "metadata": {},
   "outputs": [
    {
     "data": {
      "text/plain": [
       "(1, 4, int, str, bool, complex, float)"
      ]
     },
     "execution_count": 59,
     "metadata": {},
     "output_type": "execute_result"
    }
   ],
   "source": [
    "# index, 첨자.... PL/SQL(table of), R, ... 1부터 시작하고\n",
    "# 이외의 언어들은 0부터 시작한다.\n",
    "a[0], a[3], type(a[4]), type(a[5]), type(a[6]), type(a[7]), type(a[8])"
   ]
  },
  {
   "cell_type": "markdown",
   "metadata": {},
   "source": [
    "##### *python은 여러 타입의 값을 여러개 저장*"
   ]
  },
  {
   "cell_type": "markdown",
   "metadata": {},
   "source": [
    "리스트 = [] <br>\n",
    "리스트 = list()"
   ]
  },
  {
   "cell_type": "code",
   "execution_count": 61,
   "metadata": {},
   "outputs": [
    {
     "name": "stdout",
     "output_type": "stream",
     "text": [
      "<class 'list'> <class 'list'>\n"
     ]
    }
   ],
   "source": [
    "a = []\n",
    "b = list()\n",
    "print(type(a), type(b))"
   ]
  },
  {
   "cell_type": "code",
   "execution_count": 62,
   "metadata": {},
   "outputs": [
    {
     "data": {
      "text/plain": [
       "[]"
      ]
     },
     "execution_count": 62,
     "metadata": {},
     "output_type": "execute_result"
    }
   ],
   "source": [
    "a"
   ]
  },
  {
   "cell_type": "code",
   "execution_count": 63,
   "metadata": {},
   "outputs": [
    {
     "data": {
      "text/plain": [
       "[]"
      ]
     },
     "execution_count": 63,
     "metadata": {},
     "output_type": "execute_result"
    }
   ],
   "source": [
    "b"
   ]
  },
  {
   "cell_type": "code",
   "execution_count": 64,
   "metadata": {},
   "outputs": [
    {
     "data": {
      "text/plain": [
       "list"
      ]
     },
     "execution_count": 64,
     "metadata": {},
     "output_type": "execute_result"
    }
   ],
   "source": [
    "type(a)"
   ]
  },
  {
   "cell_type": "code",
   "execution_count": 65,
   "metadata": {},
   "outputs": [
    {
     "data": {
      "text/plain": [
       "list"
      ]
     },
     "execution_count": 65,
     "metadata": {},
     "output_type": "execute_result"
    }
   ],
   "source": [
    "type(b)"
   ]
  },
  {
   "cell_type": "code",
   "execution_count": 73,
   "metadata": {},
   "outputs": [
    {
     "data": {
      "text/plain": [
       "[0, 1, 2, 3, 4, 5, 6, 7, 8, 9]"
      ]
     },
     "execution_count": 73,
     "metadata": {},
     "output_type": "execute_result"
    }
   ],
   "source": [
    "a = range(10) # 0 이상부터 10미만인 정수 ... 0 ~ 9\n",
    "b = list(a)\n",
    "b"
   ]
  },
  {
   "cell_type": "code",
   "execution_count": 78,
   "metadata": {},
   "outputs": [
    {
     "data": {
      "text/plain": [
       "[1, 2, 3, 4, 5, 6, 7, 8, 9, 10]"
      ]
     },
     "execution_count": 78,
     "metadata": {},
     "output_type": "execute_result"
    }
   ],
   "source": [
    "aa = range(1, 11) # 1 ~ 10\n",
    "list(aa)"
   ]
  },
  {
   "cell_type": "code",
   "execution_count": 79,
   "metadata": {},
   "outputs": [
    {
     "data": {
      "text/plain": [
       "[1, 3, 5, 7, 9]"
      ]
     },
     "execution_count": 79,
     "metadata": {},
     "output_type": "execute_result"
    }
   ],
   "source": [
    "bb = range(1, 11, 2) # 1 ~ 10인데 2씩 증가하기\n",
    "list(bb)"
   ]
  },
  {
   "cell_type": "code",
   "execution_count": 81,
   "metadata": {},
   "outputs": [
    {
     "data": {
      "text/plain": [
       "[2, 4, 6, 8, 10]"
      ]
     },
     "execution_count": 81,
     "metadata": {},
     "output_type": "execute_result"
    }
   ],
   "source": [
    "a = range(2, 11, 2) # 2, 4, 6, 8, 10\n",
    "list(a)"
   ]
  },
  {
   "cell_type": "code",
   "execution_count": 82,
   "metadata": {},
   "outputs": [
    {
     "data": {
      "text/plain": [
       "[10, 9, 8, 7, 6, 5, 4, 3, 2, 1]"
      ]
     },
     "execution_count": 82,
     "metadata": {},
     "output_type": "execute_result"
    }
   ],
   "source": [
    "a = range(10, 0, -1) # 10부터 1까지\n",
    "list(a)"
   ]
  },
  {
   "cell_type": "markdown",
   "metadata": {},
   "source": [
    "튜플"
   ]
  },
  {
   "cell_type": "markdown",
   "metadata": {},
   "source": [
    "### 튜플은 값 변경 불가능!!!\n",
    "#### 리스트는 값 변경 가능\n",
    "##### 리스트 & 튜플 >> 값 여러개 묶음, 서로 다른 타입도 가능!"
   ]
  },
  {
   "cell_type": "code",
   "execution_count": 90,
   "metadata": {},
   "outputs": [
    {
     "name": "stdout",
     "output_type": "stream",
     "text": [
      "<class 'tuple'> <class 'tuple'>\n"
     ]
    },
    {
     "data": {
      "text/plain": [
       "(10, '40')"
      ]
     },
     "execution_count": 90,
     "metadata": {},
     "output_type": "execute_result"
    }
   ],
   "source": [
    "# 튜플\n",
    "a = 10, 20 ,30\n",
    "b = (10, 20, 30, '40')\n",
    "print(type(a), type(b))\n",
    "a[0], b[3]\n",
    "\n",
    "\n",
    "#-- a[0] = 99 # 가장 큰 차이점!!!"
   ]
  },
  {
   "cell_type": "code",
   "execution_count": 91,
   "metadata": {},
   "outputs": [
    {
     "data": {
      "text/plain": [
       "10"
      ]
     },
     "execution_count": 91,
     "metadata": {},
     "output_type": "execute_result"
    }
   ],
   "source": [
    "(10)"
   ]
  },
  {
   "cell_type": "code",
   "execution_count": 92,
   "metadata": {},
   "outputs": [
    {
     "data": {
      "text/plain": [
       "int"
      ]
     },
     "execution_count": 92,
     "metadata": {},
     "output_type": "execute_result"
    }
   ],
   "source": [
    "a = 10\n",
    "type(a)"
   ]
  },
  {
   "cell_type": "code",
   "execution_count": 93,
   "metadata": {},
   "outputs": [
    {
     "data": {
      "text/plain": [
       "int"
      ]
     },
     "execution_count": 93,
     "metadata": {},
     "output_type": "execute_result"
    }
   ],
   "source": [
    "a = (10) # 연산식의 연산자 우선수위 바꾸는 괄호를 의미한다.\n",
    "type(a)"
   ]
  },
  {
   "cell_type": "code",
   "execution_count": 94,
   "metadata": {},
   "outputs": [
    {
     "data": {
      "text/plain": [
       "tuple"
      ]
     },
     "execution_count": 94,
     "metadata": {},
     "output_type": "execute_result"
    }
   ],
   "source": [
    "a = (10, ) # 값이 1개만 있는 튜플만들기\n",
    "type(a)"
   ]
  },
  {
   "cell_type": "code",
   "execution_count": 100,
   "metadata": {},
   "outputs": [
    {
     "name": "stdout",
     "output_type": "stream",
     "text": [
      "range(0, 10)\n",
      "<class 'range'>\n",
      "[0, 1, 2, 3, 4, 5, 6, 7, 8, 9]\n",
      "(0, 1, 2, 3, 4, 5, 6, 7, 8, 9)\n",
      "0 입니다링\n",
      "1 입니다링\n",
      "2 입니다링\n",
      "3 입니다링\n",
      "4 입니다링\n",
      "5 입니다링\n",
      "6 입니다링\n",
      "7 입니다링\n",
      "8 입니다링\n",
      "9 입니다링\n"
     ]
    }
   ],
   "source": [
    "# 튜풀 = tuple(시작, 끝)\n",
    "a = range(10) # 0 ~ 9\n",
    "print(a)\n",
    "print(type(a))\n",
    "print(list(a))\n",
    "print(tuple(a))\n",
    "\n",
    "for i in a:\n",
    "    print(i, '입니다링')"
   ]
  },
  {
   "cell_type": "code",
   "execution_count": 103,
   "metadata": {},
   "outputs": [
    {
     "name": "stdout",
     "output_type": "stream",
     "text": [
      "Pythone ['P', 'y', 't', 'h', 'o', 'n', 'e'] ('P', 'y', 't', 'h', 'o', 'n', 'e')\n"
     ]
    }
   ],
   "source": [
    "a ='Pythone' #순서가 있는 애를 리스트 & 튜플로 바꾸기\n",
    "a[0], a[1]\n",
    "b = list(a)\n",
    "c = tuple(a)\n",
    "\n",
    "print(a, b, c)"
   ]
  },
  {
   "cell_type": "code",
   "execution_count": 104,
   "metadata": {},
   "outputs": [],
   "source": [
    "x = [1,2,3] # 패킹\n",
    "a, b, c = x # 언패킹"
   ]
  },
  {
   "cell_type": "code",
   "execution_count": 105,
   "metadata": {},
   "outputs": [
    {
     "name": "stdout",
     "output_type": "stream",
     "text": [
      "(1, 2, 3)**1**2**3\n"
     ]
    }
   ],
   "source": [
    "a = 1, 2, 3 # 하나로 다 묶기\n",
    "b, c, d = a # a안에 있던애들 다ㅡ\n",
    "print(a, b, c, d, sep='**')"
   ]
  },
  {
   "cell_type": "markdown",
   "metadata": {},
   "source": [
    "10.4 연습문제: range로 리스트 만들기\n",
    "[5, 3, 1, -1, -3, -5, -7,-9] 가 출력되게 만들기\n",
    "리스트를 만들 때 range를 사용해야함"
   ]
  },
  {
   "cell_type": "code",
   "execution_count": 108,
   "metadata": {},
   "outputs": [
    {
     "data": {
      "text/plain": [
       "[5, 3, 1, -1, -3, -5, -7, -9]"
      ]
     },
     "execution_count": 108,
     "metadata": {},
     "output_type": "execute_result"
    }
   ],
   "source": [
    "list(range(5, -10, -2))"
   ]
  },
  {
   "cell_type": "code",
   "execution_count": 109,
   "metadata": {},
   "outputs": [
    {
     "data": {
      "text/plain": [
       "(5, 3, 1, -1, -3, -5, -7, -9)"
      ]
     },
     "execution_count": 109,
     "metadata": {},
     "output_type": "execute_result"
    }
   ],
   "source": [
    "tuple(range(5, -10, -2))"
   ]
  },
  {
   "cell_type": "code",
   "execution_count": 111,
   "metadata": {},
   "outputs": [
    {
     "data": {
      "text/plain": [
       "-16"
      ]
     },
     "execution_count": 111,
     "metadata": {},
     "output_type": "execute_result"
    }
   ],
   "source": [
    "-25 + 9"
   ]
  },
  {
   "cell_type": "code",
   "execution_count": 112,
   "metadata": {},
   "outputs": [
    {
     "name": "stdout",
     "output_type": "stream",
     "text": [
      "합게는  -16\n"
     ]
    }
   ],
   "source": [
    "total = 0\n",
    "for val in range(5, -10, -2): # lazy 계산\n",
    "    total += val\n",
    "\n",
    "print('합게는 ', total)"
   ]
  },
  {
   "cell_type": "code",
   "execution_count": null,
   "metadata": {},
   "outputs": [],
   "source": []
  },
  {
   "cell_type": "code",
   "execution_count": null,
   "metadata": {},
   "outputs": [],
   "source": []
  },
  {
   "cell_type": "code",
   "execution_count": null,
   "metadata": {},
   "outputs": [],
   "source": []
  },
  {
   "cell_type": "code",
   "execution_count": null,
   "metadata": {},
   "outputs": [],
   "source": []
  },
  {
   "cell_type": "code",
   "execution_count": null,
   "metadata": {},
   "outputs": [],
   "source": []
  },
  {
   "cell_type": "code",
   "execution_count": null,
   "metadata": {},
   "outputs": [],
   "source": []
  },
  {
   "cell_type": "code",
   "execution_count": null,
   "metadata": {},
   "outputs": [],
   "source": []
  },
  {
   "cell_type": "code",
   "execution_count": null,
   "metadata": {},
   "outputs": [],
   "source": []
  },
  {
   "cell_type": "code",
   "execution_count": null,
   "metadata": {},
   "outputs": [],
   "source": []
  },
  {
   "cell_type": "code",
   "execution_count": null,
   "metadata": {},
   "outputs": [],
   "source": []
  },
  {
   "cell_type": "code",
   "execution_count": null,
   "metadata": {},
   "outputs": [],
   "source": []
  },
  {
   "cell_type": "code",
   "execution_count": null,
   "metadata": {},
   "outputs": [],
   "source": []
  },
  {
   "cell_type": "code",
   "execution_count": null,
   "metadata": {},
   "outputs": [],
   "source": []
  },
  {
   "cell_type": "code",
   "execution_count": null,
   "metadata": {},
   "outputs": [],
   "source": []
  },
  {
   "cell_type": "code",
   "execution_count": null,
   "metadata": {},
   "outputs": [],
   "source": []
  },
  {
   "cell_type": "code",
   "execution_count": null,
   "metadata": {},
   "outputs": [],
   "source": []
  },
  {
   "cell_type": "code",
   "execution_count": null,
   "metadata": {},
   "outputs": [],
   "source": []
  },
  {
   "cell_type": "code",
   "execution_count": null,
   "metadata": {},
   "outputs": [],
   "source": []
  },
  {
   "cell_type": "code",
   "execution_count": null,
   "metadata": {},
   "outputs": [],
   "source": []
  }
 ],
 "metadata": {
  "kernelspec": {
   "display_name": "Python 3",
   "language": "python",
   "name": "python3"
  },
  "language_info": {
   "codemirror_mode": {
    "name": "ipython",
    "version": 3
   },
   "file_extension": ".py",
   "mimetype": "text/x-python",
   "name": "python",
   "nbconvert_exporter": "python",
   "pygments_lexer": "ipython3",
   "version": "3.7.4"
  }
 },
 "nbformat": 4,
 "nbformat_minor": 4
}
