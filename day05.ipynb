{
 "cells": [
  {
   "cell_type": "markdown",
   "metadata": {},
   "source": [
    "unit 34 class"
   ]
  },
  {
   "cell_type": "code",
   "execution_count": null,
   "metadata": {},
   "outputs": [],
   "source": [
    "# class : 객체를 만드는 틀, object 틀의 공통점을 정의\n",
    "            # 특성(변수정의), 기능(함수, 메서드)\n",
    "\n",
    "# object : class를 이용해서 만든 실체(instance) == instance\n",
    "\n",
    "class A\n",
    "\n",
    "a = A()\n",
    "b = A()\n",
    "c = A()"
   ]
  },
  {
   "cell_type": "code",
   "execution_count": 41,
   "metadata": {},
   "outputs": [],
   "source": [
    "class Person:\n",
    "    # 속성, 매서드\n",
    "    # __init__ 매서드는 class를 이용해서 object생성시 자동 호출된다.\n",
    "    \n",
    "    # 초기화 시키기\n",
    "    # init 부분은 자동으로 호출된다.\n",
    "    \n",
    "    def __init__(self, name2, age2):\n",
    "        print('사람객체가 생성됩니다')\n",
    "        self.name = name2\n",
    "        self.age = age2\n",
    "        \n",
    "    def personInfo(aa):\n",
    "        print('이름은 {} 이고, 나이는 {} 입니다.'.format(aa.name, aa.age))\n",
    "        \n",
    "    def eat(self): # 괄호안에 인스턴스 들어감\n",
    "        print('사람은 먹느당..........')\n",
    "        \n",
    "    def greeting(self):\n",
    "        print('사람은 인사를 한다.....')\n",
    "        \n",
    "    def hello(self):\n",
    "        print('hallowowowoww')\n",
    "        self.greeting()"
   ]
  },
  {
   "cell_type": "code",
   "execution_count": 42,
   "metadata": {},
   "outputs": [
    {
     "name": "stdout",
     "output_type": "stream",
     "text": [
      "사람객체가 생성됩니다\n",
      "김길동\n",
      "20\n",
      "이름은 김길동 이고, 나이는 20 입니다.\n"
     ]
    }
   ],
   "source": [
    "# kim = Person() # name이랑 age가 없어서 오류가 발생한다.\n",
    "\n",
    "kim = Person('김길동', 20)\n",
    "\n",
    "print(kim.name)\n",
    "print(kim.age)\n",
    "\n",
    "kim.personInfo()"
   ]
  },
  {
   "cell_type": "markdown",
   "metadata": {},
   "source": [
    "a = 10 \n",
    "##### a = int(10)\n",
    "##### int를 하나 만들고 a라는 변수에 담고 a는 object가 된다."
   ]
  },
  {
   "cell_type": "code",
   "execution_count": 19,
   "metadata": {},
   "outputs": [],
   "source": [
    "# Person() :: instance 를 생성한다.\n",
    "# kim, lee :: object 이다.\n",
    "kim = Person()  # kim 이라는 object를 생성하라\n",
    "lee = Person()"
   ]
  },
  {
   "cell_type": "code",
   "execution_count": 22,
   "metadata": {},
   "outputs": [
    {
     "name": "stdout",
     "output_type": "stream",
     "text": [
      "hallowowowoww\n",
      "사람은 인사를 한다.....\n"
     ]
    },
    {
     "data": {
      "text/plain": [
       "True"
      ]
     },
     "execution_count": 22,
     "metadata": {},
     "output_type": "execute_result"
    }
   ],
   "source": [
    "kim.hello()\n",
    "\n",
    "# 인스턴스인지 아닌지 체크하기\n",
    "isinstance(kim, Person)\n",
    "isinstance(a, int)"
   ]
  },
  {
   "cell_type": "code",
   "execution_count": 15,
   "metadata": {},
   "outputs": [
    {
     "name": "stdout",
     "output_type": "stream",
     "text": [
      "사람은 먹느당..........\n",
      "사람은 먹느당..........\n",
      "사람은 인사를 한다.....\n",
      "사람은 인사를 한다.....\n",
      "hallowowowoww\n",
      "사람은 인사를 한다.....\n"
     ]
    }
   ],
   "source": [
    "kim.eat() # kim . 은 aa가 들어가는 것임\n",
    "lee.eat()\n",
    "\n",
    "kim.greeting()\n",
    "lee.greeting()\n",
    "\n",
    "kim.hello()"
   ]
  },
  {
   "cell_type": "code",
   "execution_count": 7,
   "metadata": {},
   "outputs": [
    {
     "name": "stdout",
     "output_type": "stream",
     "text": [
      "<class 'int'>\n",
      "<class '__main__.Person'>\n"
     ]
    }
   ],
   "source": [
    "a = 10        # a = int(10)\n",
    "print(type(a))\n",
    "print(type(kim))"
   ]
  },
  {
   "cell_type": "code",
   "execution_count": 50,
   "metadata": {},
   "outputs": [],
   "source": [
    "# 정의\n",
    "class Person:\n",
    "    # 변수, 매서드\n",
    "    def __init__(self, name, age2):\n",
    "        self.변수 = '값'\n",
    "        self.su = 100\n",
    "        self.name = name\n",
    "        self.age = age2\n",
    "        \n",
    "    def display(aa, deco):\n",
    "        print('이름:{}'.format(aa.name))\n",
    "        print('나이:{}'.format(aa.age))\n",
    "        print('변수:{}'.format(aa.변수))\n",
    "        print('su:{}'.format(aa.su))\n",
    "#        print('-'*50)\n",
    "        print(deco * 50)"
   ]
  },
  {
   "cell_type": "code",
   "execution_count": 51,
   "metadata": {},
   "outputs": [
    {
     "name": "stdout",
     "output_type": "stream",
     "text": [
      "이름:길동홍\n",
      "나이:20\n",
      "변수:값\n",
      "su:100\n",
      "--------------------------------------------------\n"
     ]
    }
   ],
   "source": [
    "p1 = Person('길동홍', 20) # 만들때 init과 똑같이 만들어야한다.\n",
    "# 위 문장은 init이 수행된 것이다.\n",
    "p1.display('-')"
   ]
  },
  {
   "cell_type": "code",
   "execution_count": 52,
   "metadata": {},
   "outputs": [],
   "source": [
    "class Person:\n",
    "    # 변수, 매서드\n",
    "    def __init__(self, *args): # 변수의 개수가 가변이다\n",
    "        self.변수 = '값'\n",
    "        self.su = 100\n",
    "        self.name = args[0]\n",
    "        self.age = args[1]\n",
    "        \n",
    "    def display(aa, deco):\n",
    "        print('이름:{}'.format(aa.name))\n",
    "        print('나이:{}'.format(aa.age))\n",
    "        print('변수:{}'.format(aa.변수))\n",
    "        print('su:{}'.format(aa.su))\n",
    "        print(deco * 50)"
   ]
  },
  {
   "cell_type": "code",
   "execution_count": 57,
   "metadata": {},
   "outputs": [
    {
     "name": "stdout",
     "output_type": "stream",
     "text": [
      "이름:홍길동\n",
      "나이:22\n",
      "변수:값\n",
      "su:100\n",
      "**************************************************\n"
     ]
    }
   ],
   "source": [
    "alist = ['홍길동', 22]\n",
    "\n",
    "# p1 = Person('홍길동', 20)\n",
    "# p1 = Person(alist) # 파라미터로 하나가 간다....\n",
    "# alist 1개가 args[0] 에 들어감, args[1] 은 없어서 오류가 발생\n",
    "\n",
    "p1 = Person(*alist) # alist의 값이 unpacking 되야해서 파라미터가 2개가 와야함\n",
    "\n",
    "p1.display('*') # deco를 *로 주기"
   ]
  },
  {
   "cell_type": "code",
   "execution_count": 65,
   "metadata": {},
   "outputs": [],
   "source": [
    "class Person:\n",
    "    # 변수, 매서드\n",
    "    # 정보 은닉을 위해 변수이름 앞에 __붙인다\n",
    "    \n",
    "    def __init__(self, **kwargs): # 키워드 argument, 딕셔너리(키, 값) 생각하기\n",
    "        self.변수 = '값'\n",
    "        self.su = 100\n",
    "        self.__name = kwargs['name']\n",
    "        self.__age = kwargs['age']\n",
    "       \n",
    "    def __info(self):\n",
    "        print('PERSON의 정보입니다')\n",
    "        \n",
    "    def display(aa, deco):\n",
    "        aa.__info()\n",
    "        print('이름:{}'.format(aa.__name))\n",
    "        print('나이:{}'.format(aa.__age))\n",
    "        print('변수:{}'.format(aa.변수))\n",
    "        print('su:{}'.format(aa.su))\n",
    "        print(deco * 50)"
   ]
  },
  {
   "cell_type": "code",
   "execution_count": 63,
   "metadata": {},
   "outputs": [
    {
     "name": "stdout",
     "output_type": "stream",
     "text": [
      "이름:홍길동동도링\n",
      "나이:40\n",
      "변수:값\n",
      "su:100\n",
      "**************************************************\n"
     ]
    }
   ],
   "source": [
    "# p1 = Person(name = '홍길동이', age = 30)\n",
    "a = {'name':'홍길동동도링', 'age':40}\n",
    "p1 = Person(**a) #키 값으로 unpacking된다. \n",
    "\n",
    "p1.display('*')"
   ]
  },
  {
   "cell_type": "code",
   "execution_count": 66,
   "metadata": {},
   "outputs": [
    {
     "ename": "AttributeError",
     "evalue": "'Person' object has no attribute '__info'",
     "output_type": "error",
     "traceback": [
      "\u001b[1;31m---------------------------------------------------------------------------\u001b[0m",
      "\u001b[1;31mAttributeError\u001b[0m                            Traceback (most recent call last)",
      "\u001b[1;32m<ipython-input-66-e7eabe566f94>\u001b[0m in \u001b[0;36m<module>\u001b[1;34m\u001b[0m\n\u001b[0;32m      1\u001b[0m \u001b[1;31m# p1.__name\u001b[0m\u001b[1;33m\u001b[0m\u001b[1;33m\u001b[0m\u001b[1;33m\u001b[0m\u001b[0m\n\u001b[1;32m----> 2\u001b[1;33m \u001b[0mp1\u001b[0m\u001b[1;33m.\u001b[0m\u001b[0m__info\u001b[0m\u001b[1;33m(\u001b[0m\u001b[1;33m)\u001b[0m\u001b[1;33m\u001b[0m\u001b[1;33m\u001b[0m\u001b[0m\n\u001b[0m",
      "\u001b[1;31mAttributeError\u001b[0m: 'Person' object has no attribute '__info'"
     ]
    }
   ],
   "source": [
    "# p1.__name\n",
    "p1.__info()"
   ]
  },
  {
   "cell_type": "markdown",
   "metadata": {},
   "source": [
    "### unit 35 클래스 속성과 정적, 클래스 메서드 사용하기"
   ]
  },
  {
   "cell_type": "code",
   "execution_count": 85,
   "metadata": {},
   "outputs": [],
   "source": [
    "class Person:\n",
    "    \n",
    "    # 독립변수\n",
    "    address = 'seoul'\n",
    "    bag = []               #list는 중복을 허용한다.1\n",
    "    \n",
    "    # 공유변수.....객체에 없으면 이것을 사용한다(부모꺼 bag)\n",
    "    \n",
    "    def __init__(self, name, age):\n",
    "        self.name = name\n",
    "        self.age = age\n",
    "        \n",
    "    def putbag(self, goods):\n",
    "        self.bag.append(goods)"
   ]
  },
  {
   "cell_type": "code",
   "execution_count": 72,
   "metadata": {},
   "outputs": [
    {
     "data": {
      "text/plain": [
       "('홍', '길', 'BUSAN', 'incheon')"
      ]
     },
     "execution_count": 72,
     "metadata": {},
     "output_type": "execute_result"
    }
   ],
   "source": [
    "p1 = Person('홍', 10)\n",
    "p1.address= 'BUSAN'\n",
    "\n",
    "p2 = Person('길', 20)\n",
    "p2.address = 'incheon'\n",
    "\n",
    "p1.name, p2.name, p1.address, p2.address"
   ]
  },
  {
   "cell_type": "code",
   "execution_count": 78,
   "metadata": {},
   "outputs": [
    {
     "data": {
      "text/plain": [
       "['마우스']"
      ]
     },
     "execution_count": 78,
     "metadata": {},
     "output_type": "execute_result"
    }
   ],
   "source": [
    "p1 = Person('홍', 10)\n",
    "p2 = Person('김김', 20)\n",
    "\n",
    "p1.putbag('마우스')\n",
    "\n",
    "p1.bag\n",
    "p2.bag"
   ]
  },
  {
   "cell_type": "code",
   "execution_count": 79,
   "metadata": {},
   "outputs": [
    {
     "data": {
      "text/plain": [
       "'seoul'"
      ]
     },
     "execution_count": 79,
     "metadata": {},
     "output_type": "execute_result"
    }
   ],
   "source": [
    "p1.address"
   ]
  },
  {
   "cell_type": "code",
   "execution_count": 80,
   "metadata": {},
   "outputs": [
    {
     "data": {
      "text/plain": [
       "{'__name__': '__main__',\n",
       " '__doc__': 'Automatically created module for IPython interactive environment',\n",
       " '__package__': None,\n",
       " '__loader__': None,\n",
       " '__spec__': None,\n",
       " '__builtin__': <module 'builtins' (built-in)>,\n",
       " '__builtins__': <module 'builtins' (built-in)>,\n",
       " '_ih': ['',\n",
       "  \"class Person:\\n    # 속성, 매서드\\n    def eat(aa): # 괄호안에 인스턴스 들어감\\n        print('사람은 먹느당..........')\\n    def greeting(bb):\\n        print('사람은 인사를 한다.....')\",\n",
       "  'kim = Person()# kim 이라는 object\\nlee = Person()',\n",
       "  '# Person() :: instance 를 생성한다.\\n# kim, lee :: object 이다.\\nkim = Person()# kim 이라는 object\\nlee = Person()\\n\\n\\nkim.eat()',\n",
       "  '# Person() :: instance 를 생성한다.\\n# kim, lee :: object 이다.\\nkim = Person()# kim 이라는 object\\nlee = Person()\\n\\n\\nkim.eat() # kim . 은 aa가 들어가는 것임\\nlee.eat()',\n",
       "  '# Person() :: instance 를 생성한다.\\n# kim, lee :: object 이다.\\nkim = Person()# kim 이라는 object\\nlee = Person()\\n\\n\\nkim.eat() # kim . 은 aa가 들어가는 것임\\nlee.eat()\\n\\n\\nkim.greeting()\\nlee.greeting()',\n",
       "  'a = 10\\nprint(type(a))',\n",
       "  'a = 10\\nprint(type(a))\\nprint(type(kim))',\n",
       "  \"class Person:\\n    # 속성, 매서드\\n    def eat(aa): # 괄호안에 인스턴스 들어감\\n        print('사람은 먹느당..........')\\n    def greeting(bb):\\n        print('사람은 인사를 한다.....')\\n    def hello():\\n        print('hallowowowoww')\",\n",
       "  '# Person() :: instance 를 생성한다.\\n# kim, lee :: object 이다.\\nkim = Person()  # kim 이라는 object를 생성하라\\nlee = Person()\\n\\n\\nkim.eat() # kim . 은 aa가 들어가는 것임\\nlee.eat()\\n\\n\\nkim.greeting()\\nlee.greeting()\\n\\nkim.hello()',\n",
       "  \"class Person:\\n    # 속성, 매서드\\n    def eat(aa): # 괄호안에 인스턴스 들어감\\n        print('사람은 먹느당..........')\\n    def greeting(bb):\\n        print('사람은 인사를 한다.....')\\n    def hello(aa):\\n        print('hallowowowoww')\",\n",
       "  '# Person() :: instance 를 생성한다.\\n# kim, lee :: object 이다.\\nkim = Person()  # kim 이라는 object를 생성하라\\nlee = Person()\\n\\n\\nkim.eat() # kim . 은 aa가 들어가는 것임\\nlee.eat()\\n\\n\\nkim.greeting()\\nlee.greeting()\\n\\nkim.hello()',\n",
       "  \"class Person:\\n    # 속성, 매서드\\n    def eat(aa): # 괄호안에 인스턴스 들어감\\n        print('사람은 먹느당..........')\\n    def greeting(bb):\\n        print('사람은 인사를 한다.....')\\n    def hello(aa):\\n        print('hallowowowoww')\\n        greeting()\",\n",
       "  \"class Person:\\n    # 속성, 매서드\\n    def eat(aa): # 괄호안에 인스턴스 들어감\\n        print('사람은 먹느당..........')\\n    def greeting(bb):\\n        print('사람은 인사를 한다.....')\\n    def hello(aa):\\n        print('hallowowowoww')\\n        aa.greeting()\",\n",
       "  \"class Person:\\n    # 속성, 매서드\\n    def eat(aa): # 괄호안에 인스턴스 들어감\\n        print('사람은 먹느당..........')\\n    def greeting(bb):\\n        print('사람은 인사를 한다.....')\\n    def hello(aa):\\n        print('hallowowowoww')\\n        aa.greeting()\",\n",
       "  '# Person() :: instance 를 생성한다.\\n# kim, lee :: object 이다.\\nkim = Person()  # kim 이라는 object를 생성하라\\nlee = Person()\\n\\n\\nkim.eat() # kim . 은 aa가 들어가는 것임\\nlee.eat()\\n\\n\\nkim.greeting()\\nlee.greeting()\\n\\nkim.hello()',\n",
       "  '# Person() :: instance 를 생성한다.\\n# kim, lee :: object 이다.\\nkim = Person()  # kim 이라는 object를 생성하라\\nlee = Person()',\n",
       "  'kim.hello()',\n",
       "  \"class Person:\\n    # 속성, 매서드\\n    def eat(aa): # 괄호안에 인스턴스 들어감\\n        print('사람은 먹느당..........')\\n        \\n    def greeting(bb):\\n        print('사람은 인사를 한다.....')\\n        \\n    def hello(self):\\n        print('hallowowowoww')\\n        self.greeting()\",\n",
       "  '# Person() :: instance 를 생성한다.\\n# kim, lee :: object 이다.\\nkim = Person()  # kim 이라는 object를 생성하라\\nlee = Person()',\n",
       "  'kim.hello()',\n",
       "  'kim.hello()\\n\\nisinstance(kim, Person)',\n",
       "  'kim.hello()\\n\\n# 인스턴스인지 아닌지 체크하기\\nisinstance(kim, Person)\\nisinstance(a, int)',\n",
       "  \"class Person:\\n    # 속성, 매서드\\n    \\n    # 초기화\\n    def __init__(self):\\n        self.name = '홍길동'\\n        self.age = 20\\n        \\n    def eat(aa): # 괄호안에 인스턴스 들어감\\n        print('사람은 먹느당..........')\\n        \\n    def greeting(bb):\\n        print('사람은 인사를 한다.....')\\n        \\n    def hello(self):\\n        print('hallowowowoww')\\n        self.greeting()\",\n",
       "  \"class Person:\\n    # 속성, 매서드\\n    \\n    # 초기화\\n    def __init__(self):\\n        self.name = '홍길동'\\n        self.age = 20\\n        \\n    def personInfo(self):\\n        print('이름은 {} 이고, 나이는 {}입니다.', format(self.name, self.age))\\n    def eat(aa): # 괄호안에 인스턴스 들어감\\n        print('사람은 먹느당..........')\\n        \\n    def greeting(bb):\\n        print('사람은 인사를 한다.....')\\n        \\n    def hello(self):\\n        print('hallowowowoww')\\n        self.greeting()\",\n",
       "  \"class Person:\\n    # 속성, 매서드\\n    \\n    # 초기화\\n    def __init__(self):\\n        self.name = '홍길동'\\n        self.age = 20\\n        \\n    def personInfo(self):\\n        print('이름은 {} 이고, 나이는 {}입니다.', format(self.name, self.age))\\n    def eat(aa): # 괄호안에 인스턴스 들어감\\n        print('사람은 먹느당..........')\\n        \\n    def greeting(bb):\\n        print('사람은 인사를 한다.....')\\n        \\n    def hello(self):\\n        print('hallowowowoww')\\n        self.greeting()\",\n",
       "  'kim = Person()',\n",
       "  \"class Person:\\n    # 속성, 매서드\\n    # __init__ 매서드는 class를 이용해서 object생성시 자동 호출된다.\\n    \\n    # 초기화 시키기\\n    # init 부분은 자동으로 호출된다.\\n    \\n    def __init__(self, name2, age2):\\n        print('사람객체가 생성됩니다')\\n        self.name = name2\\n        self.age = age2\\n        \\n    def personInfo(self):\\n        print('이름은 {} 이고, 나이는 {}입니다.', format(self.name, self.age))\\n    def eat(aa): # 괄호안에 인스턴스 들어감\\n        print('사람은 먹느당..........')\\n        \\n    def greeting(bb):\\n        print('사람은 인사를 한다.....')\\n        \\n    def hello(self):\\n        print('hallowowowoww')\\n        self.greeting()\",\n",
       "  'kim = Person()',\n",
       "  \"# kim = Person() # name이랑 age가 없어서 오류가 발생한다.\\n\\nkim = Person('김길동', 20)\",\n",
       "  \"# kim = Person() # name이랑 age가 없어서 오류가 발생한다.\\n\\nkim = Person('김길동', 20)\\nprint(kim.name)\",\n",
       "  \"# kim = Person() # name이랑 age가 없어서 오류가 발생한다.\\n\\nkim = Person('김길동', 20)\\nprint(kim.name)\\nprint(kim.age)\\n\\nkim.personInfo()\",\n",
       "  \"class Person:\\n    # 속성, 매서드\\n    # __init__ 매서드는 class를 이용해서 object생성시 자동 호출된다.\\n    \\n    # 초기화 시키기\\n    # init 부분은 자동으로 호출된다.\\n    \\n    def __init__(self, name2, age2):\\n        print('사람객체가 생성됩니다')\\n        self.name = name2\\n        self.age = age2\\n        \\n    def personInfo(self):\\n        print('이름은 {} 이고, 나이는 {}입니다.', format(self.name, self.age))\\n        \\n    def eat(self): # 괄호안에 인스턴스 들어감\\n        print('사람은 먹느당..........')\\n        \\n    def greeting(self):\\n        print('사람은 인사를 한다.....')\\n        \\n    def hello(self):\\n        print('hallowowowoww')\\n        self.greeting()\",\n",
       "  \"# kim = Person() # name이랑 age가 없어서 오류가 발생한다.\\n\\nkim = Person('김길동', 20)\\nprint(kim.name)\\nprint(kim.age)\\n\\nkim.personInfo()\",\n",
       "  \"# kim = Person() # name이랑 age가 없어서 오류가 발생한다.\\n\\nkim = Person('김길동', 20)\\n\\nprint(kim.name)\\nprint(kim.age)\\n\\nkim.personInfo()\",\n",
       "  \"# kim = Person() # name이랑 age가 없어서 오류가 발생한다.\\n\\nkim = Person('김길동', 20)\\n\\nprint(kim.name)\\nprint(kim.age)\\n\\nkim.personInfo()\",\n",
       "  \"class Person:\\n    # 속성, 매서드\\n    # __init__ 매서드는 class를 이용해서 object생성시 자동 호출된다.\\n    \\n    # 초기화 시키기\\n    # init 부분은 자동으로 호출된다.\\n    \\n    def __init__(self, name2, age2):\\n        print('사람객체가 생성됩니다')\\n        self.name = name2\\n        self.age = age2\\n        \\n    def personInfo(aa):\\n        print('이름은 {} 이고, 나이는 {}입니다.', format(aa.name, aa.age))\\n        \\n    def eat(self): # 괄호안에 인스턴스 들어감\\n        print('사람은 먹느당..........')\\n        \\n    def greeting(self):\\n        print('사람은 인사를 한다.....')\\n        \\n    def hello(self):\\n        print('hallowowowoww')\\n        self.greeting()\",\n",
       "  \"class Person:\\n    # 속성, 매서드\\n    # __init__ 매서드는 class를 이용해서 object생성시 자동 호출된다.\\n    \\n    # 초기화 시키기\\n    # init 부분은 자동으로 호출된다.\\n    \\n    def __init__(self, name2, age2):\\n        print('사람객체가 생성됩니다')\\n        self.name = name2\\n        self.age = age2\\n        \\n    def personInfo(aa):\\n        print('이름은 {} 이고, 나이는 {}입니다.', format(aa.name, aa.age))\\n        \\n    def eat(self): # 괄호안에 인스턴스 들어감\\n        print('사람은 먹느당..........')\\n        \\n    def greeting(self):\\n        print('사람은 인사를 한다.....')\\n        \\n    def hello(self):\\n        print('hallowowowoww')\\n        self.greeting()\",\n",
       "  \"# kim = Person() # name이랑 age가 없어서 오류가 발생한다.\\n\\nkim = Person('김길동', 20)\\n\\nprint(kim.name)\\nprint(kim.age)\\n\\nkim.personInfo()\",\n",
       "  \"class Person:\\n    # 속성, 매서드\\n    # __init__ 매서드는 class를 이용해서 object생성시 자동 호출된다.\\n    \\n    # 초기화 시키기\\n    # init 부분은 자동으로 호출된다.\\n    \\n    def __init__(self, name2, age2):\\n        print('사람객체가 생성됩니다')\\n        self.name = name2\\n        self.age = age2\\n        \\n    def personInfo(aa):\\n        print('이름은 {} 이고, 나이는 {}입니다.'.format(aa.name, aa.age))\\n        \\n    def eat(self): # 괄호안에 인스턴스 들어감\\n        print('사람은 먹느당..........')\\n        \\n    def greeting(self):\\n        print('사람은 인사를 한다.....')\\n        \\n    def hello(self):\\n        print('hallowowowoww')\\n        self.greeting()\",\n",
       "  \"# kim = Person() # name이랑 age가 없어서 오류가 발생한다.\\n\\nkim = Person('김길동', 20)\\n\\nprint(kim.name)\\nprint(kim.age)\\n\\nkim.personInfo()\",\n",
       "  \"class Person:\\n    # 속성, 매서드\\n    # __init__ 매서드는 class를 이용해서 object생성시 자동 호출된다.\\n    \\n    # 초기화 시키기\\n    # init 부분은 자동으로 호출된다.\\n    \\n    def __init__(self, name2, age2):\\n        print('사람객체가 생성됩니다')\\n        self.name = name2\\n        self.age = age2\\n        \\n    def personInfo(aa):\\n        print('이름은 {} 이고, 나이는 {} 입니다.'.format(aa.name, aa.age))\\n        \\n    def eat(self): # 괄호안에 인스턴스 들어감\\n        print('사람은 먹느당..........')\\n        \\n    def greeting(self):\\n        print('사람은 인사를 한다.....')\\n        \\n    def hello(self):\\n        print('hallowowowoww')\\n        self.greeting()\",\n",
       "  \"# kim = Person() # name이랑 age가 없어서 오류가 발생한다.\\n\\nkim = Person('김길동', 20)\\n\\nprint(kim.name)\\nprint(kim.age)\\n\\nkim.personInfo()\",\n",
       "  \"# 정의\\nclass Person:\\n    # 변수, 매서드\\n    def __init__(self, name, age2):\\n        self.변수 = '값'\\n        self.su = 100\\n        self.name = name\\n        self.age = age2\\n        \\n    def display():\\n        print('이름:{}'.format(aa.name))\\n        print('나이:{}'.format(aa.age))\\n        print('변수:{}'.format(aa.변수))\\n        print('su:{}'.format(aa.su))\\n        print('-'*50)\",\n",
       "  'p1 = Person()',\n",
       "  \"# 정의\\nclass Person:\\n    # 변수, 매서드\\n    def __init__(self, name, age2):\\n        self.변수 = '값'\\n        self.su = 100\\n        self.name = name\\n        self.age = age2\\n        \\n    def display(aa):\\n        print('이름:{}'.format(aa.name))\\n        print('나이:{}'.format(aa.age))\\n        print('변수:{}'.format(aa.변수))\\n        print('su:{}'.format(aa.su))\\n        print('-'*50)\",\n",
       "  \"p1 = Person('길동홍', 20) # 만들때 init과 똑같이 만들어야한다.\\n# 위 문장은 init이 수행된 것이다.\",\n",
       "  \"p1 = Person('길동홍', 20) # 만들때 init과 똑같이 만들어야한다.\\n# 위 문장은 init이 수행된 것이다.\\np1.display()\",\n",
       "  \"# 정의\\nclass Person:\\n    # 변수, 매서드\\n    def __init__(self, name, age2):\\n        self.변수 = '값'\\n        self.su = 100\\n        self.name = name\\n        self.age = age2\\n        \\n    def display(aa, deco):\\n        print('이름:{}'.format(aa.name))\\n        print('나이:{}'.format(aa.age))\\n        print('변수:{}'.format(aa.변수))\\n        print('su:{}'.format(aa.su))\\n        print('-'*50)\\n        print(deco * 50)\",\n",
       "  \"p1 = Person('길동홍', 20) # 만들때 init과 똑같이 만들어야한다.\\n# 위 문장은 init이 수행된 것이다.\\np1.display('-')\",\n",
       "  \"# 정의\\nclass Person:\\n    # 변수, 매서드\\n    def __init__(self, name, age2):\\n        self.변수 = '값'\\n        self.su = 100\\n        self.name = name\\n        self.age = age2\\n        \\n    def display(aa, deco):\\n        print('이름:{}'.format(aa.name))\\n        print('나이:{}'.format(aa.age))\\n        print('변수:{}'.format(aa.변수))\\n        print('su:{}'.format(aa.su))\\n#        print('-'*50)\\n        print(deco * 50)\",\n",
       "  \"p1 = Person('길동홍', 20) # 만들때 init과 똑같이 만들어야한다.\\n# 위 문장은 init이 수행된 것이다.\\np1.display('-')\",\n",
       "  \"class Person:\\n    # 변수, 매서드\\n    def __init__(self, *args): # 변수의 개수가 가변이다\\n        self.변수 = '값'\\n        self.su = 100\\n        self.name = args[0]\\n        self.age = args[1]\\n        \\n    def display(aa, deco):\\n        print('이름:{}'.format(aa.name))\\n        print('나이:{}'.format(aa.age))\\n        print('변수:{}'.format(aa.변수))\\n        print('su:{}'.format(aa.su))\\n        print(deco * 50)\",\n",
       "  \"p1 = Person('홍길동', 20)\",\n",
       "  \"p1 = Person('홍길동', 20)\\np1.display()\",\n",
       "  \"p1 = Person('홍길동', 20)\\np1.display('*')\",\n",
       "  \"alist = ['홍길동', 22]\\n\\n#p1 = Person('홍길동', 20)\\np1 = Person(alist)\\np1.display('*') # deco를 *로 주기\",\n",
       "  \"alist = ['홍길동', 22]\\n\\n# p1 = Person('홍길동', 20)\\n# p1 = Person(alist) # 파라미터로 하나가 간다....\\n# alist 1개가 args[0] 에 들어감, args[1] 은 없어서 오류가 발생\\n\\np1 = Person(*alist) # alist의 값이 unpacking 되야해서 파라미터가 2개가 와야함\\n\\np1.display('*') # deco를 *로 주기\",\n",
       "  \"class Person:\\n    # 변수, 매서드\\n    def __init__(self, **kwargs): # 키워드 argument, 딕셔너리(키, 값) 생각하기\\n        self.변수 = '값'\\n        self.su = 100\\n        self.name = kwargs['name']\\n        self.age = args['age']\\n        \\n    def display(aa, deco):\\n        print('이름:{}'.format(aa.name))\\n        print('나이:{}'.format(aa.age))\\n        print('변수:{}'.format(aa.변수))\\n        print('su:{}'.format(aa.su))\\n        print(deco * 50)\",\n",
       "  \"p1 = Person(name = '홍길동이', age = 30)\\np1.display('*')\",\n",
       "  \"# p1 = Person(name = '홍길동이', age = 30)\\na = {'name':'홍길동동도링', 'age':40}\\np1.Person(**a) #키 값으로 unpacking된다. \\n\\np1.display('*')\",\n",
       "  \"# p1 = Person(name = '홍길동이', age = 30)\\na = {'name':'홍길동동도링', 'age':40}\\np1 =Person(**a) #키 값으로 unpacking된다. \\n\\np1.display('*')\",\n",
       "  \"class Person:\\n    # 변수, 매서드\\n    def __init__(self, **kwargs): # 키워드 argument, 딕셔너리(키, 값) 생각하기\\n        self.변수 = '값'\\n        self.su = 100\\n        self.name = kwargs['name']\\n        self.age = kwargs['age']\\n        \\n    def display(aa, deco):\\n        print('이름:{}'.format(aa.name))\\n        print('나이:{}'.format(aa.age))\\n        print('변수:{}'.format(aa.변수))\\n        print('su:{}'.format(aa.su))\\n        print(deco * 50)\",\n",
       "  \"# p1 = Person(name = '홍길동이', age = 30)\\na = {'name':'홍길동동도링', 'age':40}\\np1 = Person(**a) #키 값으로 unpacking된다. \\n\\np1.display('*')\",\n",
       "  'p1.__name',\n",
       "  \"class Person:\\n    # 변수, 매서드\\n    # 정보 은닉을 위해 변수이름 앞에 __qnxdlsek.\\n    \\n    def __init__(self, **kwargs): # 키워드 argument, 딕셔너리(키, 값) 생각하기\\n        self.변수 = '값'\\n        self.su = 100\\n        self.__name = kwargs['name']\\n        self.__age = kwargs['age']\\n       \\n    def __info(self):\\n        print('PERSON의 정보입니다')\\n        \\n    def display(aa, deco):\\n        aa.__info()\\n        print('이름:{}'.format(aa.__name))\\n        print('나이:{}'.format(aa.__age))\\n        print('변수:{}'.format(aa.변수))\\n        print('su:{}'.format(aa.su))\\n        print(deco * 50)\",\n",
       "  '# p1.__name\\np1.__info()',\n",
       "  \"class Person:\\n    \\n    address = 'seoul'\\n    \\n    def __init__(self, name, age):\\n        self.name = name\\n        self.age = age\\n        \\n    \",\n",
       "  \"class Person:\\n    \\n    # 공유변수\\n    address = 'seoul'\\n    \\n    def __init__(self, name, age):\\n        self.name = name\\n        self.age = age\",\n",
       "  \"p1 = Person('홍', 10)\\np2 = Pereson('길', 20)\\np1.name\\np2.name\",\n",
       "  \"p1 = Person('홍', 10)\\np2 = Pereson('길', 20)\\np1.name, p2.name\",\n",
       "  \"p1 = Person('홍', 10)\\np2 = Person('길', 20)\\n\\np1.name, p2.name, p1.address, p2.address\",\n",
       "  \"p1 = Person('홍', 10)\\np1.address= 'BUSAN'\\np2 = Person('길', 20)\\np2.address = 'incheon'\\np1.name, p2.name, p1.address, p2.address\",\n",
       "  \"class Person:\\n    \\n    # 독립변수\\n    address = 'seoul'\\n    bag = []\\n    \\n    def __init__(self, name, age):\\n        self.name = name\\n        self.age = age\",\n",
       "  \"class Person:\\n    \\n    # 독립변수\\n    address = 'seoul'\\n    bag = []\\n    \\n    def __init__(self, name, age):\\n        self.name = name\\n        self.age = age\\n        \\n    def putbag(self, goods):\\n        self.bag.append(goods)\",\n",
       "  \"p1.putbag('마우스')\",\n",
       "  \"class Person:\\n    \\n    # 독립변수\\n    address = 'seoul'\\n    bag = []\\n    \\n    def __init__(self, name, age):\\n        self.name = name\\n        self.age = age\\n        \\n    def putbag(self, goods):\\n        self.bag.append(goods)\",\n",
       "  \"p1.putbag('마우스')\",\n",
       "  \"p1 = Person('홍', 10)\\np2 = Person('김김', 20)\\n\\np1.putbag('마우스')\\n\\np1.bag\\np2.bag\",\n",
       "  'p1.address',\n",
       "  'globals()'],\n",
       " '_oh': {21: True,\n",
       "  22: True,\n",
       "  71: ('홍', '길', 'seoul', 'seoul'),\n",
       "  72: ('홍', '길', 'BUSAN', 'incheon'),\n",
       "  78: ['마우스'],\n",
       "  79: 'seoul'},\n",
       " '_dh': ['C:\\\\Users\\\\student'],\n",
       " 'In': ['',\n",
       "  \"class Person:\\n    # 속성, 매서드\\n    def eat(aa): # 괄호안에 인스턴스 들어감\\n        print('사람은 먹느당..........')\\n    def greeting(bb):\\n        print('사람은 인사를 한다.....')\",\n",
       "  'kim = Person()# kim 이라는 object\\nlee = Person()',\n",
       "  '# Person() :: instance 를 생성한다.\\n# kim, lee :: object 이다.\\nkim = Person()# kim 이라는 object\\nlee = Person()\\n\\n\\nkim.eat()',\n",
       "  '# Person() :: instance 를 생성한다.\\n# kim, lee :: object 이다.\\nkim = Person()# kim 이라는 object\\nlee = Person()\\n\\n\\nkim.eat() # kim . 은 aa가 들어가는 것임\\nlee.eat()',\n",
       "  '# Person() :: instance 를 생성한다.\\n# kim, lee :: object 이다.\\nkim = Person()# kim 이라는 object\\nlee = Person()\\n\\n\\nkim.eat() # kim . 은 aa가 들어가는 것임\\nlee.eat()\\n\\n\\nkim.greeting()\\nlee.greeting()',\n",
       "  'a = 10\\nprint(type(a))',\n",
       "  'a = 10\\nprint(type(a))\\nprint(type(kim))',\n",
       "  \"class Person:\\n    # 속성, 매서드\\n    def eat(aa): # 괄호안에 인스턴스 들어감\\n        print('사람은 먹느당..........')\\n    def greeting(bb):\\n        print('사람은 인사를 한다.....')\\n    def hello():\\n        print('hallowowowoww')\",\n",
       "  '# Person() :: instance 를 생성한다.\\n# kim, lee :: object 이다.\\nkim = Person()  # kim 이라는 object를 생성하라\\nlee = Person()\\n\\n\\nkim.eat() # kim . 은 aa가 들어가는 것임\\nlee.eat()\\n\\n\\nkim.greeting()\\nlee.greeting()\\n\\nkim.hello()',\n",
       "  \"class Person:\\n    # 속성, 매서드\\n    def eat(aa): # 괄호안에 인스턴스 들어감\\n        print('사람은 먹느당..........')\\n    def greeting(bb):\\n        print('사람은 인사를 한다.....')\\n    def hello(aa):\\n        print('hallowowowoww')\",\n",
       "  '# Person() :: instance 를 생성한다.\\n# kim, lee :: object 이다.\\nkim = Person()  # kim 이라는 object를 생성하라\\nlee = Person()\\n\\n\\nkim.eat() # kim . 은 aa가 들어가는 것임\\nlee.eat()\\n\\n\\nkim.greeting()\\nlee.greeting()\\n\\nkim.hello()',\n",
       "  \"class Person:\\n    # 속성, 매서드\\n    def eat(aa): # 괄호안에 인스턴스 들어감\\n        print('사람은 먹느당..........')\\n    def greeting(bb):\\n        print('사람은 인사를 한다.....')\\n    def hello(aa):\\n        print('hallowowowoww')\\n        greeting()\",\n",
       "  \"class Person:\\n    # 속성, 매서드\\n    def eat(aa): # 괄호안에 인스턴스 들어감\\n        print('사람은 먹느당..........')\\n    def greeting(bb):\\n        print('사람은 인사를 한다.....')\\n    def hello(aa):\\n        print('hallowowowoww')\\n        aa.greeting()\",\n",
       "  \"class Person:\\n    # 속성, 매서드\\n    def eat(aa): # 괄호안에 인스턴스 들어감\\n        print('사람은 먹느당..........')\\n    def greeting(bb):\\n        print('사람은 인사를 한다.....')\\n    def hello(aa):\\n        print('hallowowowoww')\\n        aa.greeting()\",\n",
       "  '# Person() :: instance 를 생성한다.\\n# kim, lee :: object 이다.\\nkim = Person()  # kim 이라는 object를 생성하라\\nlee = Person()\\n\\n\\nkim.eat() # kim . 은 aa가 들어가는 것임\\nlee.eat()\\n\\n\\nkim.greeting()\\nlee.greeting()\\n\\nkim.hello()',\n",
       "  '# Person() :: instance 를 생성한다.\\n# kim, lee :: object 이다.\\nkim = Person()  # kim 이라는 object를 생성하라\\nlee = Person()',\n",
       "  'kim.hello()',\n",
       "  \"class Person:\\n    # 속성, 매서드\\n    def eat(aa): # 괄호안에 인스턴스 들어감\\n        print('사람은 먹느당..........')\\n        \\n    def greeting(bb):\\n        print('사람은 인사를 한다.....')\\n        \\n    def hello(self):\\n        print('hallowowowoww')\\n        self.greeting()\",\n",
       "  '# Person() :: instance 를 생성한다.\\n# kim, lee :: object 이다.\\nkim = Person()  # kim 이라는 object를 생성하라\\nlee = Person()',\n",
       "  'kim.hello()',\n",
       "  'kim.hello()\\n\\nisinstance(kim, Person)',\n",
       "  'kim.hello()\\n\\n# 인스턴스인지 아닌지 체크하기\\nisinstance(kim, Person)\\nisinstance(a, int)',\n",
       "  \"class Person:\\n    # 속성, 매서드\\n    \\n    # 초기화\\n    def __init__(self):\\n        self.name = '홍길동'\\n        self.age = 20\\n        \\n    def eat(aa): # 괄호안에 인스턴스 들어감\\n        print('사람은 먹느당..........')\\n        \\n    def greeting(bb):\\n        print('사람은 인사를 한다.....')\\n        \\n    def hello(self):\\n        print('hallowowowoww')\\n        self.greeting()\",\n",
       "  \"class Person:\\n    # 속성, 매서드\\n    \\n    # 초기화\\n    def __init__(self):\\n        self.name = '홍길동'\\n        self.age = 20\\n        \\n    def personInfo(self):\\n        print('이름은 {} 이고, 나이는 {}입니다.', format(self.name, self.age))\\n    def eat(aa): # 괄호안에 인스턴스 들어감\\n        print('사람은 먹느당..........')\\n        \\n    def greeting(bb):\\n        print('사람은 인사를 한다.....')\\n        \\n    def hello(self):\\n        print('hallowowowoww')\\n        self.greeting()\",\n",
       "  \"class Person:\\n    # 속성, 매서드\\n    \\n    # 초기화\\n    def __init__(self):\\n        self.name = '홍길동'\\n        self.age = 20\\n        \\n    def personInfo(self):\\n        print('이름은 {} 이고, 나이는 {}입니다.', format(self.name, self.age))\\n    def eat(aa): # 괄호안에 인스턴스 들어감\\n        print('사람은 먹느당..........')\\n        \\n    def greeting(bb):\\n        print('사람은 인사를 한다.....')\\n        \\n    def hello(self):\\n        print('hallowowowoww')\\n        self.greeting()\",\n",
       "  'kim = Person()',\n",
       "  \"class Person:\\n    # 속성, 매서드\\n    # __init__ 매서드는 class를 이용해서 object생성시 자동 호출된다.\\n    \\n    # 초기화 시키기\\n    # init 부분은 자동으로 호출된다.\\n    \\n    def __init__(self, name2, age2):\\n        print('사람객체가 생성됩니다')\\n        self.name = name2\\n        self.age = age2\\n        \\n    def personInfo(self):\\n        print('이름은 {} 이고, 나이는 {}입니다.', format(self.name, self.age))\\n    def eat(aa): # 괄호안에 인스턴스 들어감\\n        print('사람은 먹느당..........')\\n        \\n    def greeting(bb):\\n        print('사람은 인사를 한다.....')\\n        \\n    def hello(self):\\n        print('hallowowowoww')\\n        self.greeting()\",\n",
       "  'kim = Person()',\n",
       "  \"# kim = Person() # name이랑 age가 없어서 오류가 발생한다.\\n\\nkim = Person('김길동', 20)\",\n",
       "  \"# kim = Person() # name이랑 age가 없어서 오류가 발생한다.\\n\\nkim = Person('김길동', 20)\\nprint(kim.name)\",\n",
       "  \"# kim = Person() # name이랑 age가 없어서 오류가 발생한다.\\n\\nkim = Person('김길동', 20)\\nprint(kim.name)\\nprint(kim.age)\\n\\nkim.personInfo()\",\n",
       "  \"class Person:\\n    # 속성, 매서드\\n    # __init__ 매서드는 class를 이용해서 object생성시 자동 호출된다.\\n    \\n    # 초기화 시키기\\n    # init 부분은 자동으로 호출된다.\\n    \\n    def __init__(self, name2, age2):\\n        print('사람객체가 생성됩니다')\\n        self.name = name2\\n        self.age = age2\\n        \\n    def personInfo(self):\\n        print('이름은 {} 이고, 나이는 {}입니다.', format(self.name, self.age))\\n        \\n    def eat(self): # 괄호안에 인스턴스 들어감\\n        print('사람은 먹느당..........')\\n        \\n    def greeting(self):\\n        print('사람은 인사를 한다.....')\\n        \\n    def hello(self):\\n        print('hallowowowoww')\\n        self.greeting()\",\n",
       "  \"# kim = Person() # name이랑 age가 없어서 오류가 발생한다.\\n\\nkim = Person('김길동', 20)\\nprint(kim.name)\\nprint(kim.age)\\n\\nkim.personInfo()\",\n",
       "  \"# kim = Person() # name이랑 age가 없어서 오류가 발생한다.\\n\\nkim = Person('김길동', 20)\\n\\nprint(kim.name)\\nprint(kim.age)\\n\\nkim.personInfo()\",\n",
       "  \"# kim = Person() # name이랑 age가 없어서 오류가 발생한다.\\n\\nkim = Person('김길동', 20)\\n\\nprint(kim.name)\\nprint(kim.age)\\n\\nkim.personInfo()\",\n",
       "  \"class Person:\\n    # 속성, 매서드\\n    # __init__ 매서드는 class를 이용해서 object생성시 자동 호출된다.\\n    \\n    # 초기화 시키기\\n    # init 부분은 자동으로 호출된다.\\n    \\n    def __init__(self, name2, age2):\\n        print('사람객체가 생성됩니다')\\n        self.name = name2\\n        self.age = age2\\n        \\n    def personInfo(aa):\\n        print('이름은 {} 이고, 나이는 {}입니다.', format(aa.name, aa.age))\\n        \\n    def eat(self): # 괄호안에 인스턴스 들어감\\n        print('사람은 먹느당..........')\\n        \\n    def greeting(self):\\n        print('사람은 인사를 한다.....')\\n        \\n    def hello(self):\\n        print('hallowowowoww')\\n        self.greeting()\",\n",
       "  \"class Person:\\n    # 속성, 매서드\\n    # __init__ 매서드는 class를 이용해서 object생성시 자동 호출된다.\\n    \\n    # 초기화 시키기\\n    # init 부분은 자동으로 호출된다.\\n    \\n    def __init__(self, name2, age2):\\n        print('사람객체가 생성됩니다')\\n        self.name = name2\\n        self.age = age2\\n        \\n    def personInfo(aa):\\n        print('이름은 {} 이고, 나이는 {}입니다.', format(aa.name, aa.age))\\n        \\n    def eat(self): # 괄호안에 인스턴스 들어감\\n        print('사람은 먹느당..........')\\n        \\n    def greeting(self):\\n        print('사람은 인사를 한다.....')\\n        \\n    def hello(self):\\n        print('hallowowowoww')\\n        self.greeting()\",\n",
       "  \"# kim = Person() # name이랑 age가 없어서 오류가 발생한다.\\n\\nkim = Person('김길동', 20)\\n\\nprint(kim.name)\\nprint(kim.age)\\n\\nkim.personInfo()\",\n",
       "  \"class Person:\\n    # 속성, 매서드\\n    # __init__ 매서드는 class를 이용해서 object생성시 자동 호출된다.\\n    \\n    # 초기화 시키기\\n    # init 부분은 자동으로 호출된다.\\n    \\n    def __init__(self, name2, age2):\\n        print('사람객체가 생성됩니다')\\n        self.name = name2\\n        self.age = age2\\n        \\n    def personInfo(aa):\\n        print('이름은 {} 이고, 나이는 {}입니다.'.format(aa.name, aa.age))\\n        \\n    def eat(self): # 괄호안에 인스턴스 들어감\\n        print('사람은 먹느당..........')\\n        \\n    def greeting(self):\\n        print('사람은 인사를 한다.....')\\n        \\n    def hello(self):\\n        print('hallowowowoww')\\n        self.greeting()\",\n",
       "  \"# kim = Person() # name이랑 age가 없어서 오류가 발생한다.\\n\\nkim = Person('김길동', 20)\\n\\nprint(kim.name)\\nprint(kim.age)\\n\\nkim.personInfo()\",\n",
       "  \"class Person:\\n    # 속성, 매서드\\n    # __init__ 매서드는 class를 이용해서 object생성시 자동 호출된다.\\n    \\n    # 초기화 시키기\\n    # init 부분은 자동으로 호출된다.\\n    \\n    def __init__(self, name2, age2):\\n        print('사람객체가 생성됩니다')\\n        self.name = name2\\n        self.age = age2\\n        \\n    def personInfo(aa):\\n        print('이름은 {} 이고, 나이는 {} 입니다.'.format(aa.name, aa.age))\\n        \\n    def eat(self): # 괄호안에 인스턴스 들어감\\n        print('사람은 먹느당..........')\\n        \\n    def greeting(self):\\n        print('사람은 인사를 한다.....')\\n        \\n    def hello(self):\\n        print('hallowowowoww')\\n        self.greeting()\",\n",
       "  \"# kim = Person() # name이랑 age가 없어서 오류가 발생한다.\\n\\nkim = Person('김길동', 20)\\n\\nprint(kim.name)\\nprint(kim.age)\\n\\nkim.personInfo()\",\n",
       "  \"# 정의\\nclass Person:\\n    # 변수, 매서드\\n    def __init__(self, name, age2):\\n        self.변수 = '값'\\n        self.su = 100\\n        self.name = name\\n        self.age = age2\\n        \\n    def display():\\n        print('이름:{}'.format(aa.name))\\n        print('나이:{}'.format(aa.age))\\n        print('변수:{}'.format(aa.변수))\\n        print('su:{}'.format(aa.su))\\n        print('-'*50)\",\n",
       "  'p1 = Person()',\n",
       "  \"# 정의\\nclass Person:\\n    # 변수, 매서드\\n    def __init__(self, name, age2):\\n        self.변수 = '값'\\n        self.su = 100\\n        self.name = name\\n        self.age = age2\\n        \\n    def display(aa):\\n        print('이름:{}'.format(aa.name))\\n        print('나이:{}'.format(aa.age))\\n        print('변수:{}'.format(aa.변수))\\n        print('su:{}'.format(aa.su))\\n        print('-'*50)\",\n",
       "  \"p1 = Person('길동홍', 20) # 만들때 init과 똑같이 만들어야한다.\\n# 위 문장은 init이 수행된 것이다.\",\n",
       "  \"p1 = Person('길동홍', 20) # 만들때 init과 똑같이 만들어야한다.\\n# 위 문장은 init이 수행된 것이다.\\np1.display()\",\n",
       "  \"# 정의\\nclass Person:\\n    # 변수, 매서드\\n    def __init__(self, name, age2):\\n        self.변수 = '값'\\n        self.su = 100\\n        self.name = name\\n        self.age = age2\\n        \\n    def display(aa, deco):\\n        print('이름:{}'.format(aa.name))\\n        print('나이:{}'.format(aa.age))\\n        print('변수:{}'.format(aa.변수))\\n        print('su:{}'.format(aa.su))\\n        print('-'*50)\\n        print(deco * 50)\",\n",
       "  \"p1 = Person('길동홍', 20) # 만들때 init과 똑같이 만들어야한다.\\n# 위 문장은 init이 수행된 것이다.\\np1.display('-')\",\n",
       "  \"# 정의\\nclass Person:\\n    # 변수, 매서드\\n    def __init__(self, name, age2):\\n        self.변수 = '값'\\n        self.su = 100\\n        self.name = name\\n        self.age = age2\\n        \\n    def display(aa, deco):\\n        print('이름:{}'.format(aa.name))\\n        print('나이:{}'.format(aa.age))\\n        print('변수:{}'.format(aa.변수))\\n        print('su:{}'.format(aa.su))\\n#        print('-'*50)\\n        print(deco * 50)\",\n",
       "  \"p1 = Person('길동홍', 20) # 만들때 init과 똑같이 만들어야한다.\\n# 위 문장은 init이 수행된 것이다.\\np1.display('-')\",\n",
       "  \"class Person:\\n    # 변수, 매서드\\n    def __init__(self, *args): # 변수의 개수가 가변이다\\n        self.변수 = '값'\\n        self.su = 100\\n        self.name = args[0]\\n        self.age = args[1]\\n        \\n    def display(aa, deco):\\n        print('이름:{}'.format(aa.name))\\n        print('나이:{}'.format(aa.age))\\n        print('변수:{}'.format(aa.변수))\\n        print('su:{}'.format(aa.su))\\n        print(deco * 50)\",\n",
       "  \"p1 = Person('홍길동', 20)\",\n",
       "  \"p1 = Person('홍길동', 20)\\np1.display()\",\n",
       "  \"p1 = Person('홍길동', 20)\\np1.display('*')\",\n",
       "  \"alist = ['홍길동', 22]\\n\\n#p1 = Person('홍길동', 20)\\np1 = Person(alist)\\np1.display('*') # deco를 *로 주기\",\n",
       "  \"alist = ['홍길동', 22]\\n\\n# p1 = Person('홍길동', 20)\\n# p1 = Person(alist) # 파라미터로 하나가 간다....\\n# alist 1개가 args[0] 에 들어감, args[1] 은 없어서 오류가 발생\\n\\np1 = Person(*alist) # alist의 값이 unpacking 되야해서 파라미터가 2개가 와야함\\n\\np1.display('*') # deco를 *로 주기\",\n",
       "  \"class Person:\\n    # 변수, 매서드\\n    def __init__(self, **kwargs): # 키워드 argument, 딕셔너리(키, 값) 생각하기\\n        self.변수 = '값'\\n        self.su = 100\\n        self.name = kwargs['name']\\n        self.age = args['age']\\n        \\n    def display(aa, deco):\\n        print('이름:{}'.format(aa.name))\\n        print('나이:{}'.format(aa.age))\\n        print('변수:{}'.format(aa.변수))\\n        print('su:{}'.format(aa.su))\\n        print(deco * 50)\",\n",
       "  \"p1 = Person(name = '홍길동이', age = 30)\\np1.display('*')\",\n",
       "  \"# p1 = Person(name = '홍길동이', age = 30)\\na = {'name':'홍길동동도링', 'age':40}\\np1.Person(**a) #키 값으로 unpacking된다. \\n\\np1.display('*')\",\n",
       "  \"# p1 = Person(name = '홍길동이', age = 30)\\na = {'name':'홍길동동도링', 'age':40}\\np1 =Person(**a) #키 값으로 unpacking된다. \\n\\np1.display('*')\",\n",
       "  \"class Person:\\n    # 변수, 매서드\\n    def __init__(self, **kwargs): # 키워드 argument, 딕셔너리(키, 값) 생각하기\\n        self.변수 = '값'\\n        self.su = 100\\n        self.name = kwargs['name']\\n        self.age = kwargs['age']\\n        \\n    def display(aa, deco):\\n        print('이름:{}'.format(aa.name))\\n        print('나이:{}'.format(aa.age))\\n        print('변수:{}'.format(aa.변수))\\n        print('su:{}'.format(aa.su))\\n        print(deco * 50)\",\n",
       "  \"# p1 = Person(name = '홍길동이', age = 30)\\na = {'name':'홍길동동도링', 'age':40}\\np1 = Person(**a) #키 값으로 unpacking된다. \\n\\np1.display('*')\",\n",
       "  'p1.__name',\n",
       "  \"class Person:\\n    # 변수, 매서드\\n    # 정보 은닉을 위해 변수이름 앞에 __qnxdlsek.\\n    \\n    def __init__(self, **kwargs): # 키워드 argument, 딕셔너리(키, 값) 생각하기\\n        self.변수 = '값'\\n        self.su = 100\\n        self.__name = kwargs['name']\\n        self.__age = kwargs['age']\\n       \\n    def __info(self):\\n        print('PERSON의 정보입니다')\\n        \\n    def display(aa, deco):\\n        aa.__info()\\n        print('이름:{}'.format(aa.__name))\\n        print('나이:{}'.format(aa.__age))\\n        print('변수:{}'.format(aa.변수))\\n        print('su:{}'.format(aa.su))\\n        print(deco * 50)\",\n",
       "  '# p1.__name\\np1.__info()',\n",
       "  \"class Person:\\n    \\n    address = 'seoul'\\n    \\n    def __init__(self, name, age):\\n        self.name = name\\n        self.age = age\\n        \\n    \",\n",
       "  \"class Person:\\n    \\n    # 공유변수\\n    address = 'seoul'\\n    \\n    def __init__(self, name, age):\\n        self.name = name\\n        self.age = age\",\n",
       "  \"p1 = Person('홍', 10)\\np2 = Pereson('길', 20)\\np1.name\\np2.name\",\n",
       "  \"p1 = Person('홍', 10)\\np2 = Pereson('길', 20)\\np1.name, p2.name\",\n",
       "  \"p1 = Person('홍', 10)\\np2 = Person('길', 20)\\n\\np1.name, p2.name, p1.address, p2.address\",\n",
       "  \"p1 = Person('홍', 10)\\np1.address= 'BUSAN'\\np2 = Person('길', 20)\\np2.address = 'incheon'\\np1.name, p2.name, p1.address, p2.address\",\n",
       "  \"class Person:\\n    \\n    # 독립변수\\n    address = 'seoul'\\n    bag = []\\n    \\n    def __init__(self, name, age):\\n        self.name = name\\n        self.age = age\",\n",
       "  \"class Person:\\n    \\n    # 독립변수\\n    address = 'seoul'\\n    bag = []\\n    \\n    def __init__(self, name, age):\\n        self.name = name\\n        self.age = age\\n        \\n    def putbag(self, goods):\\n        self.bag.append(goods)\",\n",
       "  \"p1.putbag('마우스')\",\n",
       "  \"class Person:\\n    \\n    # 독립변수\\n    address = 'seoul'\\n    bag = []\\n    \\n    def __init__(self, name, age):\\n        self.name = name\\n        self.age = age\\n        \\n    def putbag(self, goods):\\n        self.bag.append(goods)\",\n",
       "  \"p1.putbag('마우스')\",\n",
       "  \"p1 = Person('홍', 10)\\np2 = Person('김김', 20)\\n\\np1.putbag('마우스')\\n\\np1.bag\\np2.bag\",\n",
       "  'p1.address',\n",
       "  'globals()'],\n",
       " 'Out': {21: True,\n",
       "  22: True,\n",
       "  71: ('홍', '길', 'seoul', 'seoul'),\n",
       "  72: ('홍', '길', 'BUSAN', 'incheon'),\n",
       "  78: ['마우스'],\n",
       "  79: 'seoul'},\n",
       " 'get_ipython': <bound method InteractiveShell.get_ipython of <ipykernel.zmqshell.ZMQInteractiveShell object at 0x0000011B3336CEC8>>,\n",
       " 'exit': <IPython.core.autocall.ZMQExitAutocall at 0x11b33418048>,\n",
       " 'quit': <IPython.core.autocall.ZMQExitAutocall at 0x11b33418048>,\n",
       " '_': 'seoul',\n",
       " '__': ['마우스'],\n",
       " '___': ('홍', '길', 'BUSAN', 'incheon'),\n",
       " '_i': 'p1.address',\n",
       " '_ii': \"p1 = Person('홍', 10)\\np2 = Person('김김', 20)\\n\\np1.putbag('마우스')\\n\\np1.bag\\np2.bag\",\n",
       " '_iii': \"p1.putbag('마우스')\",\n",
       " '_i1': \"class Person:\\n    # 속성, 매서드\\n    def eat(aa): # 괄호안에 인스턴스 들어감\\n        print('사람은 먹느당..........')\\n    def greeting(bb):\\n        print('사람은 인사를 한다.....')\",\n",
       " 'Person': __main__.Person,\n",
       " '_i2': 'kim = Person()# kim 이라는 object\\nlee = Person()',\n",
       " 'kim': <__main__.Person at 0x11b353114c8>,\n",
       " 'lee': <__main__.Person at 0x11b35303248>,\n",
       " '_i3': '# Person() :: instance 를 생성한다.\\n# kim, lee :: object 이다.\\nkim = Person()# kim 이라는 object\\nlee = Person()\\n\\n\\nkim.eat()',\n",
       " '_i4': '# Person() :: instance 를 생성한다.\\n# kim, lee :: object 이다.\\nkim = Person()# kim 이라는 object\\nlee = Person()\\n\\n\\nkim.eat() # kim . 은 aa가 들어가는 것임\\nlee.eat()',\n",
       " '_i5': '# Person() :: instance 를 생성한다.\\n# kim, lee :: object 이다.\\nkim = Person()# kim 이라는 object\\nlee = Person()\\n\\n\\nkim.eat() # kim . 은 aa가 들어가는 것임\\nlee.eat()\\n\\n\\nkim.greeting()\\nlee.greeting()',\n",
       " '_i6': 'a = 10\\nprint(type(a))',\n",
       " 'a': {'name': '홍길동동도링', 'age': 40},\n",
       " '_i7': 'a = 10\\nprint(type(a))\\nprint(type(kim))',\n",
       " '_i8': \"class Person:\\n    # 속성, 매서드\\n    def eat(aa): # 괄호안에 인스턴스 들어감\\n        print('사람은 먹느당..........')\\n    def greeting(bb):\\n        print('사람은 인사를 한다.....')\\n    def hello():\\n        print('hallowowowoww')\",\n",
       " '_i9': '# Person() :: instance 를 생성한다.\\n# kim, lee :: object 이다.\\nkim = Person()  # kim 이라는 object를 생성하라\\nlee = Person()\\n\\n\\nkim.eat() # kim . 은 aa가 들어가는 것임\\nlee.eat()\\n\\n\\nkim.greeting()\\nlee.greeting()\\n\\nkim.hello()',\n",
       " '_i10': \"class Person:\\n    # 속성, 매서드\\n    def eat(aa): # 괄호안에 인스턴스 들어감\\n        print('사람은 먹느당..........')\\n    def greeting(bb):\\n        print('사람은 인사를 한다.....')\\n    def hello(aa):\\n        print('hallowowowoww')\",\n",
       " '_i11': '# Person() :: instance 를 생성한다.\\n# kim, lee :: object 이다.\\nkim = Person()  # kim 이라는 object를 생성하라\\nlee = Person()\\n\\n\\nkim.eat() # kim . 은 aa가 들어가는 것임\\nlee.eat()\\n\\n\\nkim.greeting()\\nlee.greeting()\\n\\nkim.hello()',\n",
       " '_i12': \"class Person:\\n    # 속성, 매서드\\n    def eat(aa): # 괄호안에 인스턴스 들어감\\n        print('사람은 먹느당..........')\\n    def greeting(bb):\\n        print('사람은 인사를 한다.....')\\n    def hello(aa):\\n        print('hallowowowoww')\\n        greeting()\",\n",
       " '_i13': \"class Person:\\n    # 속성, 매서드\\n    def eat(aa): # 괄호안에 인스턴스 들어감\\n        print('사람은 먹느당..........')\\n    def greeting(bb):\\n        print('사람은 인사를 한다.....')\\n    def hello(aa):\\n        print('hallowowowoww')\\n        aa.greeting()\",\n",
       " '_i14': \"class Person:\\n    # 속성, 매서드\\n    def eat(aa): # 괄호안에 인스턴스 들어감\\n        print('사람은 먹느당..........')\\n    def greeting(bb):\\n        print('사람은 인사를 한다.....')\\n    def hello(aa):\\n        print('hallowowowoww')\\n        aa.greeting()\",\n",
       " '_i15': '# Person() :: instance 를 생성한다.\\n# kim, lee :: object 이다.\\nkim = Person()  # kim 이라는 object를 생성하라\\nlee = Person()\\n\\n\\nkim.eat() # kim . 은 aa가 들어가는 것임\\nlee.eat()\\n\\n\\nkim.greeting()\\nlee.greeting()\\n\\nkim.hello()',\n",
       " '_i16': '# Person() :: instance 를 생성한다.\\n# kim, lee :: object 이다.\\nkim = Person()  # kim 이라는 object를 생성하라\\nlee = Person()',\n",
       " '_i17': 'kim.hello()',\n",
       " '_i18': \"class Person:\\n    # 속성, 매서드\\n    def eat(aa): # 괄호안에 인스턴스 들어감\\n        print('사람은 먹느당..........')\\n        \\n    def greeting(bb):\\n        print('사람은 인사를 한다.....')\\n        \\n    def hello(self):\\n        print('hallowowowoww')\\n        self.greeting()\",\n",
       " '_i19': '# Person() :: instance 를 생성한다.\\n# kim, lee :: object 이다.\\nkim = Person()  # kim 이라는 object를 생성하라\\nlee = Person()',\n",
       " '_i20': 'kim.hello()',\n",
       " '_i21': 'kim.hello()\\n\\nisinstance(kim, Person)',\n",
       " '_21': True,\n",
       " '_i22': 'kim.hello()\\n\\n# 인스턴스인지 아닌지 체크하기\\nisinstance(kim, Person)\\nisinstance(a, int)',\n",
       " '_22': True,\n",
       " '_i23': \"class Person:\\n    # 속성, 매서드\\n    \\n    # 초기화\\n    def __init__(self):\\n        self.name = '홍길동'\\n        self.age = 20\\n        \\n    def eat(aa): # 괄호안에 인스턴스 들어감\\n        print('사람은 먹느당..........')\\n        \\n    def greeting(bb):\\n        print('사람은 인사를 한다.....')\\n        \\n    def hello(self):\\n        print('hallowowowoww')\\n        self.greeting()\",\n",
       " '_i24': \"class Person:\\n    # 속성, 매서드\\n    \\n    # 초기화\\n    def __init__(self):\\n        self.name = '홍길동'\\n        self.age = 20\\n        \\n    def personInfo(self):\\n        print('이름은 {} 이고, 나이는 {}입니다.', format(self.name, self.age))\\n    def eat(aa): # 괄호안에 인스턴스 들어감\\n        print('사람은 먹느당..........')\\n        \\n    def greeting(bb):\\n        print('사람은 인사를 한다.....')\\n        \\n    def hello(self):\\n        print('hallowowowoww')\\n        self.greeting()\",\n",
       " '_i25': \"class Person:\\n    # 속성, 매서드\\n    \\n    # 초기화\\n    def __init__(self):\\n        self.name = '홍길동'\\n        self.age = 20\\n        \\n    def personInfo(self):\\n        print('이름은 {} 이고, 나이는 {}입니다.', format(self.name, self.age))\\n    def eat(aa): # 괄호안에 인스턴스 들어감\\n        print('사람은 먹느당..........')\\n        \\n    def greeting(bb):\\n        print('사람은 인사를 한다.....')\\n        \\n    def hello(self):\\n        print('hallowowowoww')\\n        self.greeting()\",\n",
       " '_i26': 'kim = Person()',\n",
       " '_i27': \"class Person:\\n    # 속성, 매서드\\n    # __init__ 매서드는 class를 이용해서 object생성시 자동 호출된다.\\n    \\n    # 초기화 시키기\\n    # init 부분은 자동으로 호출된다.\\n    \\n    def __init__(self, name2, age2):\\n        print('사람객체가 생성됩니다')\\n        self.name = name2\\n        self.age = age2\\n        \\n    def personInfo(self):\\n        print('이름은 {} 이고, 나이는 {}입니다.', format(self.name, self.age))\\n    def eat(aa): # 괄호안에 인스턴스 들어감\\n        print('사람은 먹느당..........')\\n        \\n    def greeting(bb):\\n        print('사람은 인사를 한다.....')\\n        \\n    def hello(self):\\n        print('hallowowowoww')\\n        self.greeting()\",\n",
       " '_i28': 'kim = Person()',\n",
       " '_i29': \"# kim = Person() # name이랑 age가 없어서 오류가 발생한다.\\n\\nkim = Person('김길동', 20)\",\n",
       " '_i30': \"# kim = Person() # name이랑 age가 없어서 오류가 발생한다.\\n\\nkim = Person('김길동', 20)\\nprint(kim.name)\",\n",
       " '_i31': \"# kim = Person() # name이랑 age가 없어서 오류가 발생한다.\\n\\nkim = Person('김길동', 20)\\nprint(kim.name)\\nprint(kim.age)\\n\\nkim.personInfo()\",\n",
       " '_i32': \"class Person:\\n    # 속성, 매서드\\n    # __init__ 매서드는 class를 이용해서 object생성시 자동 호출된다.\\n    \\n    # 초기화 시키기\\n    # init 부분은 자동으로 호출된다.\\n    \\n    def __init__(self, name2, age2):\\n        print('사람객체가 생성됩니다')\\n        self.name = name2\\n        self.age = age2\\n        \\n    def personInfo(self):\\n        print('이름은 {} 이고, 나이는 {}입니다.', format(self.name, self.age))\\n        \\n    def eat(self): # 괄호안에 인스턴스 들어감\\n        print('사람은 먹느당..........')\\n        \\n    def greeting(self):\\n        print('사람은 인사를 한다.....')\\n        \\n    def hello(self):\\n        print('hallowowowoww')\\n        self.greeting()\",\n",
       " '_i33': \"# kim = Person() # name이랑 age가 없어서 오류가 발생한다.\\n\\nkim = Person('김길동', 20)\\nprint(kim.name)\\nprint(kim.age)\\n\\nkim.personInfo()\",\n",
       " '_i34': \"# kim = Person() # name이랑 age가 없어서 오류가 발생한다.\\n\\nkim = Person('김길동', 20)\\n\\nprint(kim.name)\\nprint(kim.age)\\n\\nkim.personInfo()\",\n",
       " '_i35': \"# kim = Person() # name이랑 age가 없어서 오류가 발생한다.\\n\\nkim = Person('김길동', 20)\\n\\nprint(kim.name)\\nprint(kim.age)\\n\\nkim.personInfo()\",\n",
       " '_i36': \"class Person:\\n    # 속성, 매서드\\n    # __init__ 매서드는 class를 이용해서 object생성시 자동 호출된다.\\n    \\n    # 초기화 시키기\\n    # init 부분은 자동으로 호출된다.\\n    \\n    def __init__(self, name2, age2):\\n        print('사람객체가 생성됩니다')\\n        self.name = name2\\n        self.age = age2\\n        \\n    def personInfo(aa):\\n        print('이름은 {} 이고, 나이는 {}입니다.', format(aa.name, aa.age))\\n        \\n    def eat(self): # 괄호안에 인스턴스 들어감\\n        print('사람은 먹느당..........')\\n        \\n    def greeting(self):\\n        print('사람은 인사를 한다.....')\\n        \\n    def hello(self):\\n        print('hallowowowoww')\\n        self.greeting()\",\n",
       " '_i37': \"class Person:\\n    # 속성, 매서드\\n    # __init__ 매서드는 class를 이용해서 object생성시 자동 호출된다.\\n    \\n    # 초기화 시키기\\n    # init 부분은 자동으로 호출된다.\\n    \\n    def __init__(self, name2, age2):\\n        print('사람객체가 생성됩니다')\\n        self.name = name2\\n        self.age = age2\\n        \\n    def personInfo(aa):\\n        print('이름은 {} 이고, 나이는 {}입니다.', format(aa.name, aa.age))\\n        \\n    def eat(self): # 괄호안에 인스턴스 들어감\\n        print('사람은 먹느당..........')\\n        \\n    def greeting(self):\\n        print('사람은 인사를 한다.....')\\n        \\n    def hello(self):\\n        print('hallowowowoww')\\n        self.greeting()\",\n",
       " '_i38': \"# kim = Person() # name이랑 age가 없어서 오류가 발생한다.\\n\\nkim = Person('김길동', 20)\\n\\nprint(kim.name)\\nprint(kim.age)\\n\\nkim.personInfo()\",\n",
       " '_i39': \"class Person:\\n    # 속성, 매서드\\n    # __init__ 매서드는 class를 이용해서 object생성시 자동 호출된다.\\n    \\n    # 초기화 시키기\\n    # init 부분은 자동으로 호출된다.\\n    \\n    def __init__(self, name2, age2):\\n        print('사람객체가 생성됩니다')\\n        self.name = name2\\n        self.age = age2\\n        \\n    def personInfo(aa):\\n        print('이름은 {} 이고, 나이는 {}입니다.'.format(aa.name, aa.age))\\n        \\n    def eat(self): # 괄호안에 인스턴스 들어감\\n        print('사람은 먹느당..........')\\n        \\n    def greeting(self):\\n        print('사람은 인사를 한다.....')\\n        \\n    def hello(self):\\n        print('hallowowowoww')\\n        self.greeting()\",\n",
       " '_i40': \"# kim = Person() # name이랑 age가 없어서 오류가 발생한다.\\n\\nkim = Person('김길동', 20)\\n\\nprint(kim.name)\\nprint(kim.age)\\n\\nkim.personInfo()\",\n",
       " '_i41': \"class Person:\\n    # 속성, 매서드\\n    # __init__ 매서드는 class를 이용해서 object생성시 자동 호출된다.\\n    \\n    # 초기화 시키기\\n    # init 부분은 자동으로 호출된다.\\n    \\n    def __init__(self, name2, age2):\\n        print('사람객체가 생성됩니다')\\n        self.name = name2\\n        self.age = age2\\n        \\n    def personInfo(aa):\\n        print('이름은 {} 이고, 나이는 {} 입니다.'.format(aa.name, aa.age))\\n        \\n    def eat(self): # 괄호안에 인스턴스 들어감\\n        print('사람은 먹느당..........')\\n        \\n    def greeting(self):\\n        print('사람은 인사를 한다.....')\\n        \\n    def hello(self):\\n        print('hallowowowoww')\\n        self.greeting()\",\n",
       " '_i42': \"# kim = Person() # name이랑 age가 없어서 오류가 발생한다.\\n\\nkim = Person('김길동', 20)\\n\\nprint(kim.name)\\nprint(kim.age)\\n\\nkim.personInfo()\",\n",
       " '_i43': \"# 정의\\nclass Person:\\n    # 변수, 매서드\\n    def __init__(self, name, age2):\\n        self.변수 = '값'\\n        self.su = 100\\n        self.name = name\\n        self.age = age2\\n        \\n    def display():\\n        print('이름:{}'.format(aa.name))\\n        print('나이:{}'.format(aa.age))\\n        print('변수:{}'.format(aa.변수))\\n        print('su:{}'.format(aa.su))\\n        print('-'*50)\",\n",
       " '_i44': 'p1 = Person()',\n",
       " '_i45': \"# 정의\\nclass Person:\\n    # 변수, 매서드\\n    def __init__(self, name, age2):\\n        self.변수 = '값'\\n        self.su = 100\\n        self.name = name\\n        self.age = age2\\n        \\n    def display(aa):\\n        print('이름:{}'.format(aa.name))\\n        print('나이:{}'.format(aa.age))\\n        print('변수:{}'.format(aa.변수))\\n        print('su:{}'.format(aa.su))\\n        print('-'*50)\",\n",
       " '_i46': \"p1 = Person('길동홍', 20) # 만들때 init과 똑같이 만들어야한다.\\n# 위 문장은 init이 수행된 것이다.\",\n",
       " 'p1': <__main__.Person at 0x11b35312dc8>,\n",
       " '_i47': \"p1 = Person('길동홍', 20) # 만들때 init과 똑같이 만들어야한다.\\n# 위 문장은 init이 수행된 것이다.\\np1.display()\",\n",
       " '_i48': \"# 정의\\nclass Person:\\n    # 변수, 매서드\\n    def __init__(self, name, age2):\\n        self.변수 = '값'\\n        self.su = 100\\n        self.name = name\\n        self.age = age2\\n        \\n    def display(aa, deco):\\n        print('이름:{}'.format(aa.name))\\n        print('나이:{}'.format(aa.age))\\n        print('변수:{}'.format(aa.변수))\\n        print('su:{}'.format(aa.su))\\n        print('-'*50)\\n        print(deco * 50)\",\n",
       " '_i49': \"p1 = Person('길동홍', 20) # 만들때 init과 똑같이 만들어야한다.\\n# 위 문장은 init이 수행된 것이다.\\np1.display('-')\",\n",
       " '_i50': \"# 정의\\nclass Person:\\n    # 변수, 매서드\\n    def __init__(self, name, age2):\\n        self.변수 = '값'\\n        self.su = 100\\n        self.name = name\\n        self.age = age2\\n        \\n    def display(aa, deco):\\n        print('이름:{}'.format(aa.name))\\n        print('나이:{}'.format(aa.age))\\n        print('변수:{}'.format(aa.변수))\\n        print('su:{}'.format(aa.su))\\n#        print('-'*50)\\n        print(deco * 50)\",\n",
       " '_i51': \"p1 = Person('길동홍', 20) # 만들때 init과 똑같이 만들어야한다.\\n# 위 문장은 init이 수행된 것이다.\\np1.display('-')\",\n",
       " '_i52': \"class Person:\\n    # 변수, 매서드\\n    def __init__(self, *args): # 변수의 개수가 가변이다\\n        self.변수 = '값'\\n        self.su = 100\\n        self.name = args[0]\\n        self.age = args[1]\\n        \\n    def display(aa, deco):\\n        print('이름:{}'.format(aa.name))\\n        print('나이:{}'.format(aa.age))\\n        print('변수:{}'.format(aa.변수))\\n        print('su:{}'.format(aa.su))\\n        print(deco * 50)\",\n",
       " '_i53': \"p1 = Person('홍길동', 20)\",\n",
       " '_i54': \"p1 = Person('홍길동', 20)\\np1.display()\",\n",
       " '_i55': \"p1 = Person('홍길동', 20)\\np1.display('*')\",\n",
       " '_i56': \"alist = ['홍길동', 22]\\n\\n#p1 = Person('홍길동', 20)\\np1 = Person(alist)\\np1.display('*') # deco를 *로 주기\",\n",
       " 'alist': ['홍길동', 22],\n",
       " '_i57': \"alist = ['홍길동', 22]\\n\\n# p1 = Person('홍길동', 20)\\n# p1 = Person(alist) # 파라미터로 하나가 간다....\\n# alist 1개가 args[0] 에 들어감, args[1] 은 없어서 오류가 발생\\n\\np1 = Person(*alist) # alist의 값이 unpacking 되야해서 파라미터가 2개가 와야함\\n\\np1.display('*') # deco를 *로 주기\",\n",
       " '_i58': \"class Person:\\n    # 변수, 매서드\\n    def __init__(self, **kwargs): # 키워드 argument, 딕셔너리(키, 값) 생각하기\\n        self.변수 = '값'\\n        self.su = 100\\n        self.name = kwargs['name']\\n        self.age = args['age']\\n        \\n    def display(aa, deco):\\n        print('이름:{}'.format(aa.name))\\n        print('나이:{}'.format(aa.age))\\n        print('변수:{}'.format(aa.변수))\\n        print('su:{}'.format(aa.su))\\n        print(deco * 50)\",\n",
       " '_i59': \"p1 = Person(name = '홍길동이', age = 30)\\np1.display('*')\",\n",
       " '_i60': \"# p1 = Person(name = '홍길동이', age = 30)\\na = {'name':'홍길동동도링', 'age':40}\\np1.Person(**a) #키 값으로 unpacking된다. \\n\\np1.display('*')\",\n",
       " '_i61': \"# p1 = Person(name = '홍길동이', age = 30)\\na = {'name':'홍길동동도링', 'age':40}\\np1 =Person(**a) #키 값으로 unpacking된다. \\n\\np1.display('*')\",\n",
       " '_i62': \"class Person:\\n    # 변수, 매서드\\n    def __init__(self, **kwargs): # 키워드 argument, 딕셔너리(키, 값) 생각하기\\n        self.변수 = '값'\\n        self.su = 100\\n        self.name = kwargs['name']\\n        self.age = kwargs['age']\\n        \\n    def display(aa, deco):\\n        print('이름:{}'.format(aa.name))\\n        print('나이:{}'.format(aa.age))\\n        print('변수:{}'.format(aa.변수))\\n        print('su:{}'.format(aa.su))\\n        print(deco * 50)\",\n",
       " '_i63': \"# p1 = Person(name = '홍길동이', age = 30)\\na = {'name':'홍길동동도링', 'age':40}\\np1 = Person(**a) #키 값으로 unpacking된다. \\n\\np1.display('*')\",\n",
       " '_i64': 'p1.__name',\n",
       " '_i65': \"class Person:\\n    # 변수, 매서드\\n    # 정보 은닉을 위해 변수이름 앞에 __qnxdlsek.\\n    \\n    def __init__(self, **kwargs): # 키워드 argument, 딕셔너리(키, 값) 생각하기\\n        self.변수 = '값'\\n        self.su = 100\\n        self.__name = kwargs['name']\\n        self.__age = kwargs['age']\\n       \\n    def __info(self):\\n        print('PERSON의 정보입니다')\\n        \\n    def display(aa, deco):\\n        aa.__info()\\n        print('이름:{}'.format(aa.__name))\\n        print('나이:{}'.format(aa.__age))\\n        print('변수:{}'.format(aa.변수))\\n        print('su:{}'.format(aa.su))\\n        print(deco * 50)\",\n",
       " '_i66': '# p1.__name\\np1.__info()',\n",
       " '_i67': \"class Person:\\n    \\n    address = 'seoul'\\n    \\n    def __init__(self, name, age):\\n        self.name = name\\n        self.age = age\\n        \\n    \",\n",
       " '_i68': \"class Person:\\n    \\n    # 공유변수\\n    address = 'seoul'\\n    \\n    def __init__(self, name, age):\\n        self.name = name\\n        self.age = age\",\n",
       " '_i69': \"p1 = Person('홍', 10)\\np2 = Pereson('길', 20)\\np1.name\\np2.name\",\n",
       " '_i70': \"p1 = Person('홍', 10)\\np2 = Pereson('길', 20)\\np1.name, p2.name\",\n",
       " '_i71': \"p1 = Person('홍', 10)\\np2 = Person('길', 20)\\n\\np1.name, p2.name, p1.address, p2.address\",\n",
       " 'p2': <__main__.Person at 0x11b35312648>,\n",
       " '_71': ('홍', '길', 'seoul', 'seoul'),\n",
       " '_i72': \"p1 = Person('홍', 10)\\np1.address= 'BUSAN'\\np2 = Person('길', 20)\\np2.address = 'incheon'\\np1.name, p2.name, p1.address, p2.address\",\n",
       " '_72': ('홍', '길', 'BUSAN', 'incheon'),\n",
       " '_i73': \"class Person:\\n    \\n    # 독립변수\\n    address = 'seoul'\\n    bag = []\\n    \\n    def __init__(self, name, age):\\n        self.name = name\\n        self.age = age\",\n",
       " '_i74': \"class Person:\\n    \\n    # 독립변수\\n    address = 'seoul'\\n    bag = []\\n    \\n    def __init__(self, name, age):\\n        self.name = name\\n        self.age = age\\n        \\n    def putbag(self, goods):\\n        self.bag.append(goods)\",\n",
       " '_i75': \"p1.putbag('마우스')\",\n",
       " '_i76': \"class Person:\\n    \\n    # 독립변수\\n    address = 'seoul'\\n    bag = []\\n    \\n    def __init__(self, name, age):\\n        self.name = name\\n        self.age = age\\n        \\n    def putbag(self, goods):\\n        self.bag.append(goods)\",\n",
       " '_i77': \"p1.putbag('마우스')\",\n",
       " '_i78': \"p1 = Person('홍', 10)\\np2 = Person('김김', 20)\\n\\np1.putbag('마우스')\\n\\np1.bag\\np2.bag\",\n",
       " '_78': ['마우스'],\n",
       " '_i79': 'p1.address',\n",
       " '_79': 'seoul',\n",
       " '_i80': 'globals()'}"
      ]
     },
     "execution_count": 80,
     "metadata": {},
     "output_type": "execute_result"
    }
   ],
   "source": [
    "globals()"
   ]
  },
  {
   "cell_type": "code",
   "execution_count": 81,
   "metadata": {},
   "outputs": [
    {
     "data": {
      "text/plain": [
       "['마우스']"
      ]
     },
     "execution_count": 81,
     "metadata": {},
     "output_type": "execute_result"
    }
   ],
   "source": [
    "p3 = Person('aa',111)\n",
    "p3.bag"
   ]
  },
  {
   "cell_type": "code",
   "execution_count": 88,
   "metadata": {},
   "outputs": [
    {
     "name": "stdout",
     "output_type": "stream",
     "text": [
      "seoul seoul\n",
      "inchen seoul\n"
     ]
    }
   ],
   "source": [
    "p1 = Person('aa', 11)\n",
    "p2 = Person('bb', 22)\n",
    "\n",
    "print(p1.address, p2.address)\n",
    "\n",
    "p1.address= 'inchen'\n",
    "\n",
    "print(p1.address, p2.address)"
   ]
  },
  {
   "cell_type": "code",
   "execution_count": 93,
   "metadata": {},
   "outputs": [],
   "source": [
    "# 정적 함수 : staticmethod\n",
    "#  인스턴스 매서드와 정적 메서드\n",
    "\n",
    "class Calc:\n",
    "    \n",
    "    # class를 이용해서 만든 독립된 객체들의 특징을 정의한다.\n",
    "    \n",
    "    # 인스턴스 매서드\n",
    "    def __init__(self, color):\n",
    "        self.colr = color\n",
    "        \n",
    "    # 정적 매서드....class\n",
    "    @staticmethod    \n",
    "    def add(self, a, b):\n",
    "        return a + b\n",
    "    \n",
    "    @staticmethod\n",
    "    def mul(self, a, b):\n",
    "        return a * b"
   ]
  },
  {
   "cell_type": "code",
   "execution_count": 92,
   "metadata": {},
   "outputs": [
    {
     "data": {
      "text/plain": [
       "30"
      ]
     },
     "execution_count": 92,
     "metadata": {},
     "output_type": "execute_result"
    }
   ],
   "source": [
    "c1 = Calc('red')\n",
    "c2 = Calc('blue')\n",
    "\n",
    "c1.add(10, 20)\n",
    "c2.add(10, 20)\n",
    "Calc.add(10, 20) # c1.add(10, 20) 과 같음, 이 방법이 더 바람직하다."
   ]
  },
  {
   "cell_type": "code",
   "execution_count": 105,
   "metadata": {},
   "outputs": [
    {
     "name": "stdout",
     "output_type": "stream",
     "text": [
      "helloooooo <class 'str'>\n",
      "{1, 2, 3, 4} <class 'set'>\n",
      "{1, 2, 3, 4, 99}\n"
     ]
    },
    {
     "data": {
      "text/plain": [
       "{1, 2, 3, 4, 88, 99}"
      ]
     },
     "execution_count": 105,
     "metadata": {},
     "output_type": "execute_result"
    }
   ],
   "source": [
    "s = str('helloooooo') # s는 인스턴스이다\n",
    "\n",
    "# instance 매서드\n",
    "s.upper()\n",
    "\n",
    "print(s, type(s))\n",
    "\n",
    "a = {1,2,3,4}\n",
    "print(a, type(a))\n",
    "\n",
    "# instance 매서드\n",
    "a.update({99}) # 99를 추가하라\n",
    "print(a)\n",
    "\n",
    "a.union({88}) # a에 추가된 것이 아닌 return 값이 출력됨\n",
    "\n",
    "set.union(a, {88})"
   ]
  },
  {
   "cell_type": "code",
   "execution_count": null,
   "metadata": {},
   "outputs": [],
   "source": [
    "# class : 속성(변수), 매서드(instance, static)"
   ]
  },
  {
   "cell_type": "code",
   "execution_count": 129,
   "metadata": {},
   "outputs": [],
   "source": [
    "class Person:\n",
    "    \n",
    "    # instance 들의 공유변수, instance가 변수를 수정하면 공유변수가 복사됨, instance 변수\n",
    "    count = 0\n",
    "    \n",
    "    # instance method\n",
    "    def __init__(self, name2):\n",
    "        # instance 변수\n",
    "        self.name = name2\n",
    "        Person.count += 1\n",
    "        print('person이 생성됩니다')\n",
    "        \n",
    "    # instance method\n",
    "    def info(self):\n",
    "        print('instance method 입니다')\n",
    "        \n",
    "    @staticmethod\n",
    "    def display():\n",
    "        print('staticmethod 입니다', Person.count)\n",
    "     \n",
    "    @classmethod\n",
    "    def getcount(cls): # cls :: class가 들어와야한다\n",
    "        print('classmethod 입니다', Person.count)\n",
    "        "
   ]
  },
  {
   "cell_type": "code",
   "execution_count": 130,
   "metadata": {},
   "outputs": [
    {
     "name": "stdout",
     "output_type": "stream",
     "text": [
      "person이 생성됩니다\n",
      "person이 생성됩니다\n",
      "person이 생성됩니다\n",
      "instance method 입니다\n",
      "staticmethod 입니다 3\n",
      "staticmethod 입니다 3\n",
      "classmethod 입니다 3\n"
     ]
    }
   ],
   "source": [
    "p1 = Person('kim')\n",
    "p2 = Person('kim2')\n",
    "p3 = Person('kim3')\n",
    "\n",
    "p1.info()\n",
    "p1.display()\n",
    "\n",
    "Person.display() # p1.display()보다 바람직한 방법\n",
    "Person.getcount()"
   ]
  },
  {
   "cell_type": "markdown",
   "metadata": {},
   "source": [
    "unit36. 클래스 상속 사용하기"
   ]
  },
  {
   "cell_type": "code",
   "execution_count": null,
   "metadata": {},
   "outputs": [],
   "source": [
    "class Person(object):\n",
    "    \n",
    "    def __init__(self):\n",
    "        "
   ]
  },
  {
   "cell_type": "code",
   "execution_count": 131,
   "metadata": {},
   "outputs": [
    {
     "data": {
      "text/plain": [
       "[__main__.Person, object]"
      ]
     },
     "execution_count": 131,
     "metadata": {},
     "output_type": "execute_result"
    }
   ],
   "source": [
    "# 상속관게를 보여줌\n",
    "Person.mro()\n",
    "\n",
    "# 기반(부모) / 파생(자식)"
   ]
  },
  {
   "cell_type": "code",
   "execution_count": 149,
   "metadata": {},
   "outputs": [],
   "source": [
    "class Person:\n",
    "    def __init__(self):\n",
    "        print('person init~~~')\n",
    "        self.hello = '부모에서 setting'\n",
    "        \n",
    "    def greeting(self):\n",
    "        print('인사합니다,.')\n",
    "        \n",
    "# Person을 상속받기        \n",
    "class Student(Person):\n",
    "    # override(덮어쓰기, 재정의)....상위의 메서드가 호출되지 않음(person의 init은 안나옴)\n",
    "    \n",
    "    def __init__(self):\n",
    "        super().__init__()\n",
    "        print('student init********')\n",
    "        self.school = '자식에서 setting'\n",
    "        \n",
    "    def study(self):\n",
    "        print('공부합니당..')"
   ]
  },
  {
   "cell_type": "code",
   "execution_count": 150,
   "metadata": {},
   "outputs": [
    {
     "name": "stdout",
     "output_type": "stream",
     "text": [
      "person init~~~\n",
      "student init********\n",
      "부모에서 setting\n",
      "자식에서 setting\n"
     ]
    }
   ],
   "source": [
    "s1 = Student()\n",
    "print(s1.hello)\n",
    "print(s1.school)"
   ]
  },
  {
   "cell_type": "code",
   "execution_count": 151,
   "metadata": {},
   "outputs": [
    {
     "name": "stdout",
     "output_type": "stream",
     "text": [
      "person init~~~\n",
      "student init********\n",
      "인사합니다,.\n",
      "공부합니당..\n"
     ]
    }
   ],
   "source": [
    "s1 = Student()\n",
    "s1.greeting()\n",
    "s1.study()"
   ]
  },
  {
   "cell_type": "code",
   "execution_count": 152,
   "metadata": {},
   "outputs": [
    {
     "data": {
      "text/plain": [
       "[__main__.Student, __main__.Person, object]"
      ]
     },
     "execution_count": 152,
     "metadata": {},
     "output_type": "execute_result"
    }
   ],
   "source": [
    "Student.mro()"
   ]
  },
  {
   "cell_type": "code",
   "execution_count": 153,
   "metadata": {},
   "outputs": [
    {
     "data": {
      "text/plain": [
       "True"
      ]
     },
     "execution_count": 153,
     "metadata": {},
     "output_type": "execute_result"
    }
   ],
   "source": [
    "issubclass(Student, Person)\n",
    "isinstance(s1, Student)\n",
    "isinstance(s1, Person)\n",
    "isinstance(s1, object)"
   ]
  },
  {
   "cell_type": "markdown",
   "metadata": {},
   "source": [
    "unit 36.4"
   ]
  },
  {
   "cell_type": "code",
   "execution_count": 18,
   "metadata": {},
   "outputs": [],
   "source": [
    "class Person:\n",
    "    def __init__(self, name, age):\n",
    "        print('person init')\n",
    "        self.name = name\n",
    "        self.age = age\n",
    "        \n",
    "    def greeting(self):\n",
    "        print('{}님하 안녕하세요.'.format(self.name))\n",
    "\n",
    "class Student(Person):\n",
    "#    pass\n",
    "    def __init__(self, name, age, major):\n",
    "        super().__init__(name, age)\n",
    "#        self.name = name\n",
    "#        self.age = age\n",
    "        self.major = major\n",
    "        \n",
    "        print('student initt')\n",
    "        \n",
    "    # 덮어쓰기)override\n",
    "    def greeting(self):\n",
    "        super().greeting() # 상위(부모) 매서드 호출\n",
    "        print(' 저는 파이썬 코딩 도장 학생입니다.', self.major)"
   ]
  },
  {
   "cell_type": "code",
   "execution_count": 19,
   "metadata": {
    "scrolled": true
   },
   "outputs": [
    {
     "name": "stdout",
     "output_type": "stream",
     "text": [
      "person init\n",
      "student initt\n",
      "아아아아아ㅏㅇ님하 안녕하세요.\n",
      " 저는 파이썬 코딩 도장 학생입니다. 거고고고곡\n"
     ]
    }
   ],
   "source": [
    "s1 = Student('아아아아아ㅏㅇ', 200, '거고고고곡')\n",
    "s1.greeting()"
   ]
  },
  {
   "cell_type": "markdown",
   "metadata": {},
   "source": [
    "#### 다중상속"
   ]
  },
  {
   "cell_type": "code",
   "execution_count": 26,
   "metadata": {},
   "outputs": [],
   "source": [
    "class Person:\n",
    "    def greeting(self):\n",
    "        print('안녕하세요.Person')\n",
    "        \n",
    "class University:\n",
    "    def greeting(self):\n",
    "        print('안녕하세요.university')\n",
    "    def manage_credit(self):\n",
    "        print('학점 관리')\n",
    "    def study(self):\n",
    "        print('공부하기 university')\n",
    "        \n",
    "class Undergraduate(University, Person):\n",
    "    def study(self):\n",
    "        print('공부하기 undergraduate')"
   ]
  },
  {
   "cell_type": "code",
   "execution_count": 27,
   "metadata": {},
   "outputs": [
    {
     "data": {
      "text/plain": [
       "[__main__.Undergraduate, __main__.University, __main__.Person, object]"
      ]
     },
     "execution_count": 27,
     "metadata": {},
     "output_type": "execute_result"
    }
   ],
   "source": [
    "Undergraduate.mro()"
   ]
  },
  {
   "cell_type": "code",
   "execution_count": 28,
   "metadata": {},
   "outputs": [
    {
     "name": "stdout",
     "output_type": "stream",
     "text": [
      "공부하기 undergraduate\n",
      "학점 관리\n",
      "안녕하세요.university\n"
     ]
    }
   ],
   "source": [
    "a = Undergraduate()\n",
    "a.study()\n",
    "a.manage_credit()\n",
    "a.greeting()"
   ]
  },
  {
   "cell_type": "markdown",
   "metadata": {},
   "source": [
    "#### 추상클래스"
   ]
  },
  {
   "cell_type": "markdown",
   "metadata": {},
   "source": [
    "##### 추상클래스 사용하기 : 정의는 있고(= 틀만 있고) 구현은 없다.\n",
    "##### 추상 클래스를 상속받은 자식이 반드시 구현한다."
   ]
  },
  {
   "cell_type": "code",
   "execution_count": 31,
   "metadata": {},
   "outputs": [],
   "source": [
    "from abc import *\n",
    " \n",
    "class StudentBase(metaclass=ABCMeta):\n",
    "    @abstractmethod\n",
    "    def study(self):\n",
    "        pass\n",
    " \n",
    "    @abstractmethod\n",
    "    def go_to_school(self):\n",
    "        pass\n",
    "\n",
    "class Student(StudentBase):\n",
    "    def study(self):\n",
    "        print('공부하기')\n",
    "        \n",
    "    def go_to_school(self):\n",
    "        print('학교에 간다링리일이')\n",
    " "
   ]
  },
  {
   "cell_type": "code",
   "execution_count": 32,
   "metadata": {},
   "outputs": [],
   "source": [
    "a = Student()"
   ]
  },
  {
   "cell_type": "markdown",
   "metadata": {},
   "source": [
    "unit 38. 예외처리 사용하기"
   ]
  },
  {
   "cell_type": "code",
   "execution_count": 35,
   "metadata": {},
   "outputs": [
    {
     "name": "stdout",
     "output_type": "stream",
     "text": [
      "예외발생했을 때 수행한다.\n",
      "프로그램 종료\n"
     ]
    }
   ],
   "source": [
    "# 프로그램이 실행 시, 중단되지 않고 정상종료하도록 하기 위한 것\n",
    "\n",
    "a = 10\n",
    "b = 0\n",
    "\n",
    "try:\n",
    "    # 예외발생 가능성이 있는 문장을 작성한다.\n",
    "    c = a/b\n",
    "    print(c)\n",
    "    \n",
    "except:\n",
    "    print('예외발생했을 때 수행한다.')\n",
    "    \n",
    "print('프로그램 종료')"
   ]
  },
  {
   "cell_type": "code",
   "execution_count": 50,
   "metadata": {},
   "outputs": [
    {
     "name": "stdout",
     "output_type": "stream",
     "text": [
      "나누는 수/ 나눌 수를 입력 >>1, 2\n",
      "10.0\n",
      "예외발생이 없다링\n",
      "반드시 수행한다.\n",
      "프로그램 종료\n"
     ]
    }
   ],
   "source": [
    "a = [10, 20, 30]\n",
    "index, b = map(int, input('나누는 수/ 나눌 수를 입력 >>').split(','))\n",
    "\n",
    "try:\n",
    "    # 예외발생 가능성이 있는 문장을 작성한다.\n",
    "    c = a[index]/b\n",
    "    print(c)\n",
    "    \n",
    "except TypeError:\n",
    "    print('TypeError 예외발생했을 때 수행한다.')\n",
    "    \n",
    "except ZeroDivisionError:\n",
    "    print('zerodivisionerror 0으로 나눌수 없음 예외발생')\n",
    "    \n",
    "except IndexError:\n",
    "    print('indexerrorror 에러가 났다')\n",
    "    \n",
    "except Exception as aa:\n",
    "    print('각종 기타 예외들 처리시키기', aa)\n",
    "    \n",
    "else:\n",
    "    print('예외발생이 없다링')\n",
    "\n",
    "finally:\n",
    "    print('반드시 수행한다.')\n",
    "\n",
    "print('프로그램 종료')"
   ]
  },
  {
   "cell_type": "code",
   "execution_count": 51,
   "metadata": {},
   "outputs": [
    {
     "name": "stdout",
     "output_type": "stream",
     "text": [
      "a는 10보다 작아야한다.\n"
     ]
    }
   ],
   "source": [
    "a = 10\n",
    "\n",
    "if a>= 10:\n",
    "    print('a는 10보다 작아야한다.')"
   ]
  },
  {
   "cell_type": "code",
   "execution_count": 52,
   "metadata": {},
   "outputs": [
    {
     "name": "stdout",
     "output_type": "stream",
     "text": [
      "3의 배수를 입력하세요: 3\n",
      "3\n"
     ]
    }
   ],
   "source": [
    "try:\n",
    "    x = int(input('3의 배수를 입력하세요: '))\n",
    "    if x % 3 != 0:                     # x가 3의 배수가 아니면\n",
    "        raise Exception('3의 배수가ㅓ 아니라닝...') # 예외를 강제로 발생시킴\n",
    "    print(x)\n",
    "    \n",
    "except Exception as e:                  # 예외가 발생했을 떄 실행됨\n",
    "        print('예외가 발생했습니다.', e)"
   ]
  },
  {
   "cell_type": "code",
   "execution_count": 53,
   "metadata": {},
   "outputs": [
    {
     "name": "stdout",
     "output_type": "stream",
     "text": [
      "3의 배수를 입력하세요: 67\n",
      "예외가 발생했습니다. 3의 배수가ㅓ 아니라닝...\n"
     ]
    }
   ],
   "source": [
    "try:\n",
    "    x = int(input('3의 배수를 입력하세요: '))\n",
    "    if x % 3 != 0:                     # x가 3의 배수가 아니면\n",
    "        raise ArithmeticError('3의 배수가ㅓ 아니라닝...') # 예외를 강제로 발생시킴\n",
    "    print(x)\n",
    "    \n",
    "except ArithmeticError as e:                  # 예외가 발생했을 떄 실행됨\n",
    "        print('예외가 발생했습니다.', e)"
   ]
  },
  {
   "cell_type": "markdown",
   "metadata": {},
   "source": [
    "36.4 에외만들기"
   ]
  },
  {
   "cell_type": "code",
   "execution_count": 56,
   "metadata": {},
   "outputs": [],
   "source": [
    "class NotThreeMultipleError(Exception):    # Exception을 상속받아서 새로운 예외를 만듦\n",
    "    def __init__(self):\n",
    "        super().__init__('3의 배수가 아닙니다.')"
   ]
  },
  {
   "cell_type": "code",
   "execution_count": 57,
   "metadata": {},
   "outputs": [
    {
     "name": "stdout",
     "output_type": "stream",
     "text": [
      "3의 배수를 입력하세요: 2, 1\n",
      "예외가 발생했습니다. invalid literal for int() with base 10: '2, 1'\n"
     ]
    }
   ],
   "source": [
    "try:\n",
    "    x = int(input('3의 배수를 입력하세요: '))\n",
    "    if x % 3 != 0:                     # x가 3의 배수가 아니면\n",
    "         raise NotThreeMultipleError    # NotThreeMultipleError 예외를 발생시킴\n",
    "    print(x)\n",
    "    \n",
    "except Exception as e:\n",
    "        print('예외가 발생했습니다.', e)"
   ]
  },
  {
   "cell_type": "markdown",
   "metadata": {},
   "source": [
    "unit 39.이터레이터 사용하기"
   ]
  },
  {
   "cell_type": "code",
   "execution_count": null,
   "metadata": {},
   "outputs": [],
   "source": [
    "# 이터레이터: 값을 차례대로 꺼낼 수 있는 객ㅊ레(오브젝트)\n",
    "# 이터러블: 반복가능한 객체, 요소가 여러개 들어있고 한번에 하나씩 꺼낼 수 있는 객체"
   ]
  },
  {
   "cell_type": "code",
   "execution_count": 58,
   "metadata": {},
   "outputs": [
    {
     "data": {
      "text/plain": [
       "<list_iterator at 0x2067cf82788>"
      ]
     },
     "execution_count": 58,
     "metadata": {},
     "output_type": "execute_result"
    }
   ],
   "source": [
    "a = [1,2,3,4,5]\n",
    "\n",
    "#dir(a)\n",
    "it = a.__iter__()\n",
    "it"
   ]
  },
  {
   "cell_type": "code",
   "execution_count": 60,
   "metadata": {},
   "outputs": [
    {
     "ename": "StopIteration",
     "evalue": "",
     "output_type": "error",
     "traceback": [
      "\u001b[1;31m---------------------------------------------------------------------------\u001b[0m",
      "\u001b[1;31mStopIteration\u001b[0m                             Traceback (most recent call last)",
      "\u001b[1;32m<ipython-input-60-e951eb6d320f>\u001b[0m in \u001b[0;36m<module>\u001b[1;34m\u001b[0m\n\u001b[1;32m----> 1\u001b[1;33m \u001b[0mit\u001b[0m\u001b[1;33m.\u001b[0m\u001b[0m__next__\u001b[0m\u001b[1;33m(\u001b[0m\u001b[1;33m)\u001b[0m\u001b[1;33m\u001b[0m\u001b[1;33m\u001b[0m\u001b[0m\n\u001b[0m\u001b[0;32m      2\u001b[0m \u001b[0mit\u001b[0m\u001b[1;33m.\u001b[0m\u001b[0m__next__\u001b[0m\u001b[1;33m(\u001b[0m\u001b[1;33m)\u001b[0m\u001b[1;33m\u001b[0m\u001b[1;33m\u001b[0m\u001b[0m\n\u001b[0;32m      3\u001b[0m \u001b[0mit\u001b[0m\u001b[1;33m.\u001b[0m\u001b[0m__next__\u001b[0m\u001b[1;33m(\u001b[0m\u001b[1;33m)\u001b[0m\u001b[1;33m\u001b[0m\u001b[1;33m\u001b[0m\u001b[0m\n\u001b[0;32m      4\u001b[0m \u001b[0mit\u001b[0m\u001b[1;33m.\u001b[0m\u001b[0m__next__\u001b[0m\u001b[1;33m(\u001b[0m\u001b[1;33m)\u001b[0m\u001b[1;33m\u001b[0m\u001b[1;33m\u001b[0m\u001b[0m\n\u001b[0;32m      5\u001b[0m \u001b[0mit\u001b[0m\u001b[1;33m.\u001b[0m\u001b[0m__next__\u001b[0m\u001b[1;33m(\u001b[0m\u001b[1;33m)\u001b[0m\u001b[1;33m\u001b[0m\u001b[1;33m\u001b[0m\u001b[0m\n",
      "\u001b[1;31mStopIteration\u001b[0m: "
     ]
    }
   ],
   "source": [
    "it.__next__()\n",
    "it.__next__()\n",
    "it.__next__()\n",
    "it.__next__()\n",
    "it.__next__()"
   ]
  },
  {
   "cell_type": "code",
   "execution_count": 61,
   "metadata": {},
   "outputs": [
    {
     "name": "stdout",
     "output_type": "stream",
     "text": [
      "1\n",
      "2\n",
      "3\n",
      "4\n",
      "5\n"
     ]
    }
   ],
   "source": [
    "for i in a:\n",
    "    print(i)"
   ]
  },
  {
   "cell_type": "code",
   "execution_count": 68,
   "metadata": {},
   "outputs": [
    {
     "data": {
      "text/plain": [
       "<dict_keyiterator at 0x2067b529a48>"
      ]
     },
     "execution_count": 68,
     "metadata": {},
     "output_type": "execute_result"
    }
   ],
   "source": [
    "a = [1,2,3,4,5]\n",
    "a='hello'\n",
    "a=range(3)\n",
    "a = (1,2,3)\n",
    "a = {1,2,3} # set\n",
    "a = {'name':'hong', 'age':20}\n",
    "\n",
    "it = a.__iter__()\n",
    "it"
   ]
  },
  {
   "cell_type": "code",
   "execution_count": 71,
   "metadata": {},
   "outputs": [
    {
     "ename": "StopIteration",
     "evalue": "",
     "output_type": "error",
     "traceback": [
      "\u001b[1;31m---------------------------------------------------------------------------\u001b[0m",
      "\u001b[1;31mStopIteration\u001b[0m                             Traceback (most recent call last)",
      "\u001b[1;32m<ipython-input-71-74e64ed6c80d>\u001b[0m in \u001b[0;36m<module>\u001b[1;34m\u001b[0m\n\u001b[1;32m----> 1\u001b[1;33m \u001b[0mit\u001b[0m\u001b[1;33m.\u001b[0m\u001b[0m__next__\u001b[0m\u001b[1;33m(\u001b[0m\u001b[1;33m)\u001b[0m\u001b[1;33m\u001b[0m\u001b[1;33m\u001b[0m\u001b[0m\n\u001b[0m",
      "\u001b[1;31mStopIteration\u001b[0m: "
     ]
    }
   ],
   "source": [
    "it.__next__()"
   ]
  },
  {
   "cell_type": "code",
   "execution_count": 85,
   "metadata": {},
   "outputs": [],
   "source": [
    "class Counter:\n",
    "    def __init__(self, stop):\n",
    "        self.current = 0    # 현재 숫자 유지, 0부터 지정된 숫자 직전까지 반복\n",
    "        self.stop = stop    # 반복을 끝낼 숫자\n",
    " \n",
    "    def __iter__(self):\n",
    "        return self         # 현재 인스턴스를 반환\n",
    " \n",
    "    def __next__(self):\n",
    "        if self.current < self.stop:    # 현재 숫자가 반복을 끝낼 숫자보다 작을 때\n",
    "            r = self.current            # 반환할 숫자를 변수에 저장\n",
    "            self.current += 1           # 현재 숫자를 1 증가시킴\n",
    "            return r                    # 숫자를 반환\n",
    "        else:                           # 현재 숫자가 반복을 끝낼 숫자보다 크거나 같을 때\n",
    "            raise StopIteration         # 예외 발생\n",
    "            \n",
    "    def __getitem__(self, index):\n",
    "        if index < self.stop:\n",
    "            return index + 10\n",
    "        else:\n",
    "            raise IndexError"
   ]
  },
  {
   "cell_type": "code",
   "execution_count": 86,
   "metadata": {},
   "outputs": [
    {
     "name": "stdout",
     "output_type": "stream",
     "text": [
      "10 11 12\n"
     ]
    }
   ],
   "source": [
    "a = Counter(3)\n",
    "print(a[0], a[1],a[2])"
   ]
  },
  {
   "cell_type": "code",
   "execution_count": 87,
   "metadata": {},
   "outputs": [],
   "source": [
    "a = Counter(3)\n",
    "\n",
    "it = a.__iter__()"
   ]
  },
  {
   "cell_type": "code",
   "execution_count": 88,
   "metadata": {},
   "outputs": [
    {
     "data": {
      "text/plain": [
       "0"
      ]
     },
     "execution_count": 88,
     "metadata": {},
     "output_type": "execute_result"
    }
   ],
   "source": [
    "it.__next__() # 3부터 에러발생"
   ]
  },
  {
   "cell_type": "code",
   "execution_count": 89,
   "metadata": {},
   "outputs": [
    {
     "name": "stdout",
     "output_type": "stream",
     "text": [
      "1\n",
      "2\n"
     ]
    }
   ],
   "source": [
    "for val in a:\n",
    "    print(val)"
   ]
  },
  {
   "cell_type": "markdown",
   "metadata": {},
   "source": [
    "unit 40. 제너레이터 사용하기"
   ]
  },
  {
   "cell_type": "code",
   "execution_count": 90,
   "metadata": {},
   "outputs": [],
   "source": [
    "# 제너레이터는 이터레이터를 생성해주는 함수\n",
    "\n",
    "def number_generator():\n",
    "    yield 0\n",
    "    yield 1\n",
    "    yield 2"
   ]
  },
  {
   "cell_type": "code",
   "execution_count": 91,
   "metadata": {},
   "outputs": [
    {
     "data": {
      "text/plain": [
       "<generator object number_generator at 0x000002067AE888C8>"
      ]
     },
     "execution_count": 91,
     "metadata": {},
     "output_type": "execute_result"
    }
   ],
   "source": [
    "number_generator()"
   ]
  },
  {
   "cell_type": "code",
   "execution_count": 93,
   "metadata": {},
   "outputs": [
    {
     "name": "stdout",
     "output_type": "stream",
     "text": [
      "0\n",
      "1\n",
      "2\n"
     ]
    }
   ],
   "source": [
    "for i in number_generator():\n",
    "    print(i)"
   ]
  },
  {
   "cell_type": "code",
   "execution_count": 94,
   "metadata": {},
   "outputs": [
    {
     "data": {
      "text/plain": [
       "['__class__',\n",
       " '__del__',\n",
       " '__delattr__',\n",
       " '__dir__',\n",
       " '__doc__',\n",
       " '__eq__',\n",
       " '__format__',\n",
       " '__ge__',\n",
       " '__getattribute__',\n",
       " '__gt__',\n",
       " '__hash__',\n",
       " '__init__',\n",
       " '__init_subclass__',\n",
       " '__iter__',\n",
       " '__le__',\n",
       " '__lt__',\n",
       " '__name__',\n",
       " '__ne__',\n",
       " '__new__',\n",
       " '__next__',\n",
       " '__qualname__',\n",
       " '__reduce__',\n",
       " '__reduce_ex__',\n",
       " '__repr__',\n",
       " '__setattr__',\n",
       " '__sizeof__',\n",
       " '__str__',\n",
       " '__subclasshook__',\n",
       " 'close',\n",
       " 'gi_code',\n",
       " 'gi_frame',\n",
       " 'gi_running',\n",
       " 'gi_yieldfrom',\n",
       " 'send',\n",
       " 'throw']"
      ]
     },
     "execution_count": 94,
     "metadata": {},
     "output_type": "execute_result"
    }
   ],
   "source": [
    "a = number_generator()\n",
    "dir(a)"
   ]
  },
  {
   "cell_type": "code",
   "execution_count": 95,
   "metadata": {},
   "outputs": [],
   "source": [
    "def number_generator(stop):\n",
    "    n =0\n",
    "    while n<stop:\n",
    "        yield n\n",
    "        n+= 1"
   ]
  },
  {
   "cell_type": "code",
   "execution_count": 97,
   "metadata": {},
   "outputs": [
    {
     "data": {
      "text/plain": [
       "[0, 1, 2, 3, 4]"
      ]
     },
     "execution_count": 97,
     "metadata": {},
     "output_type": "execute_result"
    }
   ],
   "source": [
    "list(number_generator(5))"
   ]
  },
  {
   "cell_type": "code",
   "execution_count": 98,
   "metadata": {},
   "outputs": [
    {
     "name": "stdout",
     "output_type": "stream",
     "text": [
      "0\n",
      "1\n",
      "2\n",
      "3\n",
      "4\n"
     ]
    }
   ],
   "source": [
    "for i in number_generator(5):\n",
    "    print(i)"
   ]
  },
  {
   "cell_type": "markdown",
   "metadata": {},
   "source": [
    "unit 42. 데코레이터 사용하기"
   ]
  },
  {
   "cell_type": "code",
   "execution_count": 103,
   "metadata": {},
   "outputs": [],
   "source": [
    "# 장고는 데코레이터다 (= 장식자)\n",
    "# 다른 언어에서 anotation\n",
    "\n",
    "def hello():\n",
    "    print('hello')\n",
    "\n",
    "def world():\n",
    "    print('world')"
   ]
  },
  {
   "cell_type": "code",
   "execution_count": 108,
   "metadata": {},
   "outputs": [],
   "source": [
    "def trace(f):\n",
    "    print(f.__name__ + '함수 시작')       # 함수이름 + 함수시작\n",
    "    f()\n",
    "    print(f.__name__ + '함수 끝////////')\n",
    "    print()"
   ]
  },
  {
   "cell_type": "code",
   "execution_count": 109,
   "metadata": {},
   "outputs": [
    {
     "name": "stdout",
     "output_type": "stream",
     "text": [
      "hello함수 시작\n",
      "와우우우웅\n",
      "hello함수 끝////////\n",
      "\n",
      "world함수 시작\n",
      "루루루룰ㄹㄹ\n",
      "world함수 끝////////\n",
      "\n"
     ]
    }
   ],
   "source": [
    "# 함수를 parameter로 보냄\n",
    "trace(hello)\n",
    "trace(world)"
   ]
  },
  {
   "cell_type": "code",
   "execution_count": 110,
   "metadata": {},
   "outputs": [],
   "source": [
    "def hello():\n",
    "    print('와우우우웅')\n",
    "    \n",
    "def world():\n",
    "    print('루루루룰ㄹㄹ')"
   ]
  },
  {
   "cell_type": "code",
   "execution_count": 111,
   "metadata": {},
   "outputs": [
    {
     "name": "stdout",
     "output_type": "stream",
     "text": [
      "hello함수 시작\n",
      "와우우우웅\n",
      "hello함수 끝////////\n",
      "\n",
      "world함수 시작\n",
      "루루루룰ㄹㄹ\n",
      "world함수 끝////////\n",
      "\n"
     ]
    }
   ],
   "source": [
    "trace(hello)\n",
    "trace(world)"
   ]
  },
  {
   "cell_type": "code",
   "execution_count": 112,
   "metadata": {},
   "outputs": [],
   "source": [
    "def trace(f):\n",
    "    \n",
    "    def wrapper():\n",
    "        print(f.__name__ + '함수 시작')       # 함수이름 + 함수시작\n",
    "        f()\n",
    "        print(f.__name__ + '함수 끝////////')\n",
    "        print()\n",
    "        \n",
    "    return wrapper\n",
    "        \n",
    "        \n",
    "        \n",
    "        "
   ]
  },
  {
   "cell_type": "code",
   "execution_count": 115,
   "metadata": {},
   "outputs": [
    {
     "name": "stdout",
     "output_type": "stream",
     "text": [
      "hello함수 시작\n",
      "와우우우웅\n",
      "hello함수 끝////////\n",
      "\n"
     ]
    }
   ],
   "source": [
    "a = trace(hello)\n",
    "a()"
   ]
  },
  {
   "cell_type": "code",
   "execution_count": 116,
   "metadata": {
    "scrolled": true
   },
   "outputs": [
    {
     "name": "stdout",
     "output_type": "stream",
     "text": [
      "hello함수 시작\n",
      "와우우우웅\n",
      "hello함수 끝////////\n",
      "\n"
     ]
    }
   ],
   "source": [
    "trace(hello)()"
   ]
  },
  {
   "cell_type": "code",
   "execution_count": 121,
   "metadata": {},
   "outputs": [],
   "source": [
    "def decorator1(func):\n",
    "    def wrapper():\n",
    "        print('decorator1')\n",
    "        func()\n",
    "    return wrapper\n",
    " \n",
    "def decorator2(func):\n",
    "    def wrapper():\n",
    "        print('decorator2')\n",
    "        func()\n",
    "    return wrapper"
   ]
  },
  {
   "cell_type": "code",
   "execution_count": 122,
   "metadata": {},
   "outputs": [],
   "source": [
    "# @ 를 사용함으로 다른 함수에 집어넣고 그대로 사용 가능\n",
    "\n",
    "@trace\n",
    "@decorator1\n",
    "@decorator2\n",
    "def hello():\n",
    "    print('와우우우웅')\n",
    "@trace\n",
    "def world():\n",
    "    print('루루루룰ㄹㄹ')"
   ]
  },
  {
   "cell_type": "code",
   "execution_count": 123,
   "metadata": {},
   "outputs": [
    {
     "name": "stdout",
     "output_type": "stream",
     "text": [
      "wrapper함수 시작\n",
      "decorator1\n",
      "decorator2\n",
      "와우우우웅\n",
      "wrapper함수 끝////////\n",
      "\n"
     ]
    }
   ],
   "source": [
    "hello()"
   ]
  },
  {
   "cell_type": "code",
   "execution_count": 124,
   "metadata": {},
   "outputs": [
    {
     "name": "stdout",
     "output_type": "stream",
     "text": [
      "world함수 시작\n",
      "루루루룰ㄹㄹ\n",
      "world함수 끝////////\n",
      "\n"
     ]
    }
   ],
   "source": [
    "world()"
   ]
  },
  {
   "cell_type": "code",
   "execution_count": 125,
   "metadata": {},
   "outputs": [],
   "source": [
    "def trace(f):\n",
    "    \n",
    "    def wrapper(a, b):\n",
    "        print(f.__name__ + '함수 시작')       # 함수이름 + 함수시작\n",
    "        f(a, b)\n",
    "        print(f.__name__ + '함수 끝////////')\n",
    "        print()\n",
    "        \n",
    "    return wrapper"
   ]
  },
  {
   "cell_type": "code",
   "execution_count": 126,
   "metadata": {},
   "outputs": [],
   "source": [
    "@trace\n",
    "def hello(a, b):          # 여러개가 온다\n",
    "    print('와우우우웅', a+ b)\n",
    "    for i in range(*a):\n",
    "        \n",
    "@trace\n",
    "def world(a, b):\n",
    "    print('루루루룰ㄹㄹ', a * b)"
   ]
  },
  {
   "cell_type": "code",
   "execution_count": 129,
   "metadata": {
    "scrolled": true
   },
   "outputs": [
    {
     "name": "stdout",
     "output_type": "stream",
     "text": [
      "hello함수 시작\n",
      "와우우우웅 30\n",
      "hello함수 끝////////\n",
      "\n",
      "world함수 시작\n",
      "루루루룰ㄹㄹ 200\n",
      "world함수 끝////////\n",
      "\n"
     ]
    }
   ],
   "source": [
    "hello(10,20)\n",
    "\n",
    "world(10,20)"
   ]
  },
  {
   "cell_type": "code",
   "execution_count": 146,
   "metadata": {},
   "outputs": [],
   "source": [
    "def trace(f):\n",
    "    \n",
    "    def wrapper(*a, **kw):\n",
    "        print(f.__name__ + '함수 시작')       # 함수이름 + 함수시작\n",
    "        f(*a, **kw)\n",
    "        print(f.__name__ + '함수 끝////////')\n",
    "        print()\n",
    "        \n",
    "    return wrapper"
   ]
  },
  {
   "cell_type": "code",
   "execution_count": 147,
   "metadata": {},
   "outputs": [],
   "source": [
    "@trace                  # 가변인자로 바꿔줘야함\n",
    "def hello(*a, **kwargs):          # 여러개가 온다\n",
    "    print('와우우우웅', a[0], **kwargs['name'])\n",
    "        \n",
    "@trace\n",
    "def world(*a, **kwargs):\n",
    "    print('루루루룰ㄹㄹ', a[1])"
   ]
  },
  {
   "cell_type": "code",
   "execution_count": 148,
   "metadata": {},
   "outputs": [
    {
     "name": "stdout",
     "output_type": "stream",
     "text": [
      "hello함수 시작\n"
     ]
    },
    {
     "ename": "TypeError",
     "evalue": "print() argument after ** must be a mapping, not str",
     "output_type": "error",
     "traceback": [
      "\u001b[1;31m---------------------------------------------------------------------------\u001b[0m",
      "\u001b[1;31mTypeError\u001b[0m                                 Traceback (most recent call last)",
      "\u001b[1;32m<ipython-input-148-16ffd700647c>\u001b[0m in \u001b[0;36m<module>\u001b[1;34m\u001b[0m\n\u001b[1;32m----> 1\u001b[1;33m \u001b[0mhello\u001b[0m\u001b[1;33m(\u001b[0m\u001b[1;36m1\u001b[0m\u001b[1;33m,\u001b[0m\u001b[1;36m2\u001b[0m\u001b[1;33m,\u001b[0m\u001b[1;36m3\u001b[0m\u001b[1;33m,\u001b[0m\u001b[1;36m4\u001b[0m\u001b[1;33m,\u001b[0m\u001b[1;36m5\u001b[0m\u001b[1;33m,\u001b[0m\u001b[1;36m6\u001b[0m\u001b[1;33m,\u001b[0m \u001b[0mname\u001b[0m \u001b[1;33m=\u001b[0m \u001b[1;34m'홍길동'\u001b[0m\u001b[1;33m,\u001b[0m \u001b[0mage\u001b[0m \u001b[1;33m=\u001b[0m \u001b[1;36m20\u001b[0m\u001b[1;33m)\u001b[0m\u001b[1;33m\u001b[0m\u001b[1;33m\u001b[0m\u001b[0m\n\u001b[0m\u001b[0;32m      2\u001b[0m \u001b[0mworld\u001b[0m\u001b[1;33m(\u001b[0m\u001b[1;36m10\u001b[0m\u001b[1;33m,\u001b[0m \u001b[1;36m20\u001b[0m\u001b[1;33m,\u001b[0m \u001b[1;36m30\u001b[0m\u001b[1;33m,\u001b[0m \u001b[1;36m40\u001b[0m\u001b[1;33m,\u001b[0m \u001b[1;36m50\u001b[0m\u001b[1;33m,\u001b[0m \u001b[1;36m60\u001b[0m\u001b[1;33m)\u001b[0m\u001b[1;33m\u001b[0m\u001b[1;33m\u001b[0m\u001b[0m\n",
      "\u001b[1;32m<ipython-input-146-11645f3cea02>\u001b[0m in \u001b[0;36mwrapper\u001b[1;34m(*a, **kw)\u001b[0m\n\u001b[0;32m      3\u001b[0m     \u001b[1;32mdef\u001b[0m \u001b[0mwrapper\u001b[0m\u001b[1;33m(\u001b[0m\u001b[1;33m*\u001b[0m\u001b[0ma\u001b[0m\u001b[1;33m,\u001b[0m \u001b[1;33m**\u001b[0m\u001b[0mkw\u001b[0m\u001b[1;33m)\u001b[0m\u001b[1;33m:\u001b[0m\u001b[1;33m\u001b[0m\u001b[1;33m\u001b[0m\u001b[0m\n\u001b[0;32m      4\u001b[0m         \u001b[0mprint\u001b[0m\u001b[1;33m(\u001b[0m\u001b[0mf\u001b[0m\u001b[1;33m.\u001b[0m\u001b[0m__name__\u001b[0m \u001b[1;33m+\u001b[0m \u001b[1;34m'함수 시작'\u001b[0m\u001b[1;33m)\u001b[0m       \u001b[1;31m# 함수이름 + 함수시작\u001b[0m\u001b[1;33m\u001b[0m\u001b[1;33m\u001b[0m\u001b[0m\n\u001b[1;32m----> 5\u001b[1;33m         \u001b[0mf\u001b[0m\u001b[1;33m(\u001b[0m\u001b[1;33m*\u001b[0m\u001b[0ma\u001b[0m\u001b[1;33m,\u001b[0m \u001b[1;33m**\u001b[0m\u001b[0mkw\u001b[0m\u001b[1;33m)\u001b[0m\u001b[1;33m\u001b[0m\u001b[1;33m\u001b[0m\u001b[0m\n\u001b[0m\u001b[0;32m      6\u001b[0m         \u001b[0mprint\u001b[0m\u001b[1;33m(\u001b[0m\u001b[0mf\u001b[0m\u001b[1;33m.\u001b[0m\u001b[0m__name__\u001b[0m \u001b[1;33m+\u001b[0m \u001b[1;34m'함수 끝////////'\u001b[0m\u001b[1;33m)\u001b[0m\u001b[1;33m\u001b[0m\u001b[1;33m\u001b[0m\u001b[0m\n\u001b[0;32m      7\u001b[0m         \u001b[0mprint\u001b[0m\u001b[1;33m(\u001b[0m\u001b[1;33m)\u001b[0m\u001b[1;33m\u001b[0m\u001b[1;33m\u001b[0m\u001b[0m\n",
      "\u001b[1;32m<ipython-input-147-fa19d8e5bcd3>\u001b[0m in \u001b[0;36mhello\u001b[1;34m(*a, **kwargs)\u001b[0m\n\u001b[0;32m      1\u001b[0m \u001b[1;33m@\u001b[0m\u001b[0mtrace\u001b[0m                  \u001b[1;31m# 가변인자로 바꿔줘야함\u001b[0m\u001b[1;33m\u001b[0m\u001b[1;33m\u001b[0m\u001b[0m\n\u001b[0;32m      2\u001b[0m \u001b[1;32mdef\u001b[0m \u001b[0mhello\u001b[0m\u001b[1;33m(\u001b[0m\u001b[1;33m*\u001b[0m\u001b[0ma\u001b[0m\u001b[1;33m,\u001b[0m \u001b[1;33m**\u001b[0m\u001b[0mkwargs\u001b[0m\u001b[1;33m)\u001b[0m\u001b[1;33m:\u001b[0m          \u001b[1;31m# 여러개가 온다\u001b[0m\u001b[1;33m\u001b[0m\u001b[1;33m\u001b[0m\u001b[0m\n\u001b[1;32m----> 3\u001b[1;33m     \u001b[0mprint\u001b[0m\u001b[1;33m(\u001b[0m\u001b[1;34m'와우우우웅'\u001b[0m\u001b[1;33m,\u001b[0m \u001b[0ma\u001b[0m\u001b[1;33m[\u001b[0m\u001b[1;36m0\u001b[0m\u001b[1;33m]\u001b[0m\u001b[1;33m,\u001b[0m \u001b[1;33m**\u001b[0m\u001b[0mkwargs\u001b[0m\u001b[1;33m[\u001b[0m\u001b[1;34m'name'\u001b[0m\u001b[1;33m]\u001b[0m\u001b[1;33m)\u001b[0m\u001b[1;33m\u001b[0m\u001b[1;33m\u001b[0m\u001b[0m\n\u001b[0m\u001b[0;32m      4\u001b[0m \u001b[1;33m\u001b[0m\u001b[0m\n\u001b[0;32m      5\u001b[0m \u001b[1;33m@\u001b[0m\u001b[0mtrace\u001b[0m\u001b[1;33m\u001b[0m\u001b[1;33m\u001b[0m\u001b[0m\n",
      "\u001b[1;31mTypeError\u001b[0m: print() argument after ** must be a mapping, not str"
     ]
    }
   ],
   "source": [
    "hello(1,2,3,4,5,6, name = '홍길동', age = 20)\n",
    "world(10, 20, 30, 40, 50, 60)"
   ]
  },
  {
   "cell_type": "markdown",
   "metadata": {},
   "source": [
    "unit43. 정규표현식 사용하기"
   ]
  },
  {
   "cell_type": "code",
   "execution_count": 155,
   "metadata": {},
   "outputs": [],
   "source": [
    "import re\n",
    "\n",
    "s = 'heloooo worlddddd pyhton dg'\n",
    "result = re.match(\"hel\", s)\n",
    "result = re.search(\"world\", s)\n",
    "result = re.search(\"^world\", s) # world로 시작하는가\n",
    "result = re.search(\"world$\", s) # world로 끝나는가\n",
    "#print(result.group())\n",
    "result"
   ]
  },
  {
   "cell_type": "code",
   "execution_count": 170,
   "metadata": {},
   "outputs": [
    {
     "data": {
      "text/plain": [
       "<re.Match object; span=(0, 3), match='홍길동'>"
      ]
     },
     "execution_count": 170,
     "metadata": {},
     "output_type": "execute_result"
    }
   ],
   "source": [
    "# [] : 선택\n",
    "# - : 범위\n",
    "# [0~35-9]*\n",
    "# *는 0개 이상\n",
    "# +는 1개 이상\n",
    "# {숫자} 갯수\n",
    "# ? : 0 또는 1\n",
    "\n",
    "s = '12345'\n",
    "\n",
    "re.match('[0-9]', s)\n",
    "re.match('[0-9]+', s)\n",
    "re.match('[0-9]*', s)\n",
    "\n",
    "s = 'aaaaaaaaaaabbbbbbbbbbb    ab'\n",
    "re.match('a*b{2}', s)\n",
    "\n",
    "s = 'cccccccccc 010-5555-6666 aaaaaaaaaaaaaaaaaa bbbbbbbbbbbbbbbbbb'\n",
    "re.match('[01]{3}-[0-9]{4}-[0-9]{4}', s)\n",
    "re.search('[01]{3}-[0-9]{4}-[0-9]{4}', s)\n",
    "\n",
    "\n",
    "s = 'hello'\n",
    "re.match('h?', s)\n",
    "\n",
    "re.search('[가-힣]+', '홍길동')"
   ]
  },
  {
   "cell_type": "code",
   "execution_count": 171,
   "metadata": {},
   "outputs": [
    {
     "data": {
      "text/plain": [
       "<re.Match object; span=(0, 10), match='hello12345'>"
      ]
     },
     "execution_count": 171,
     "metadata": {},
     "output_type": "execute_result"
    }
   ],
   "source": [
    "s = 'aaaaaaaa12345'\n",
    "s = '12345aaaaaaaa'\n",
    "re.search('[0-9]+$', s) # 뒤에 있는 숫자만 갖고온다.\n",
    "re.search('^[0-9]+', s) # 앞에 있는 숫자만 갖고 온다.\n",
    "\n",
    "s = 'hello12345!@3$%^&'\n",
    "re.search('[A-Za-z0-9]+', s) # re.search('\\w+', s)\n",
    "\n",
    "# \\w는 대문자 & 소문자 & 특수문자\n",
    "\n",
    "re.search('\\w+', s)\n",
    "re.search('\\w+', s)"
   ]
  },
  {
   "cell_type": "code",
   "execution_count": 176,
   "metadata": {},
   "outputs": [
    {
     "name": "stdout",
     "output_type": "stream",
     "text": [
      "<re.Match object; span=(7, 20), match='010-8888-9999'>\n",
      "010-8888-9999\n",
      "010-8888-9999\n",
      "010\n",
      "8888\n",
      "9999\n"
     ]
    }
   ],
   "source": [
    "s = 'aaaaaaa010-8888-9999bbbbbbb'\n",
    "\n",
    "result = re.search('([01]{3})-(\\d{4})-(\\d{4})', s)\n",
    "\n",
    "print(result)\n",
    "print(result.group())\n",
    "print(result.group(0))\n",
    "print(result.group(1))\n",
    "print(result.group(2))\n",
    "print(result.group(3))"
   ]
  },
  {
   "cell_type": "code",
   "execution_count": 179,
   "metadata": {},
   "outputs": [
    {
     "name": "stdout",
     "output_type": "stream",
     "text": [
      "[('010', '8888', '9999'), ('010', '7777', '3233')]\n"
     ]
    }
   ],
   "source": [
    "s = 'aaaaaaaaaaa010-8888-9999aabbbbbbbbbbbba010-7777-3233'\n",
    "\n",
    "result = re.findall('([01]{3})-(\\d{4})-(\\d{4})',s)\n",
    "print(result)"
   ]
  },
  {
   "cell_type": "code",
   "execution_count": 180,
   "metadata": {},
   "outputs": [
    {
     "data": {
      "text/plain": [
       "'fruit banana fruit coffee'"
      ]
     },
     "execution_count": 180,
     "metadata": {},
     "output_type": "execute_result"
    }
   ],
   "source": [
    "s = 'apple banana orange coffee'\n",
    "re.sub('apple|orange', 'fruit', s)"
   ]
  },
  {
   "cell_type": "code",
   "execution_count": 182,
   "metadata": {},
   "outputs": [
    {
     "data": {
      "text/plain": [
       "'<name>james</name>'"
      ]
     },
     "execution_count": 182,
     "metadata": {},
     "output_type": "execute_result"
    }
   ],
   "source": [
    "info = '{        \"name\":           \"james\"  }'\n",
    "\n",
    "re.sub('({\\s*)\"(\\w+)\":\\s*\"(\\w+)\"(\\s*})', '<\\\\2>\\\\3</\\\\2>', info)"
   ]
  },
  {
   "cell_type": "code",
   "execution_count": 183,
   "metadata": {},
   "outputs": [
    {
     "data": {
      "text/plain": [
       "'<name>james</name>'"
      ]
     },
     "execution_count": 183,
     "metadata": {},
     "output_type": "execute_result"
    }
   ],
   "source": [
    "re.sub('({\\s*)\"(?P<tag>\\w+)\":\\s*\"(?P<val>\\w+)\"(\\s*})', '<\\\\g<tag>>\\\\g<val></\\\\g<tag>>', info)"
   ]
  },
  {
   "cell_type": "code",
   "execution_count": null,
   "metadata": {},
   "outputs": [],
   "source": []
  }
 ],
 "metadata": {
  "kernelspec": {
   "display_name": "Python 3",
   "language": "python",
   "name": "python3"
  },
  "language_info": {
   "codemirror_mode": {
    "name": "ipython",
    "version": 3
   },
   "file_extension": ".py",
   "mimetype": "text/x-python",
   "name": "python",
   "nbconvert_exporter": "python",
   "pygments_lexer": "ipython3",
   "version": "3.7.4"
  }
 },
 "nbformat": 4,
 "nbformat_minor": 2
}
