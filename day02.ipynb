{
 "cells": [
  {
   "cell_type": "code",
   "execution_count": 3,
   "metadata": {},
   "outputs": [
    {
     "name": "stdout",
     "output_type": "stream",
     "text": [
      "<class 'int'>\n",
      "10\n"
     ]
    }
   ],
   "source": [
    "a = 10\n",
    "print(type(a))\n",
    "print(a)\n",
    "\n",
    "# 객체(object) ? :: '속성(=변수)' + '행위(=기능, 함수)'를 담고 있는 것 == 자체 기능을 갖고 있다.\n",
    "# class : object를 만드는 틀\n",
    "# a는 int 라는 클래스를 만든 것이다"
   ]
  },
  {
   "cell_type": "code",
   "execution_count": 4,
   "metadata": {},
   "outputs": [
    {
     "data": {
      "text/plain": [
       "['__abs__',\n",
       " '__add__',\n",
       " '__and__',\n",
       " '__bool__',\n",
       " '__ceil__',\n",
       " '__class__',\n",
       " '__delattr__',\n",
       " '__dir__',\n",
       " '__divmod__',\n",
       " '__doc__',\n",
       " '__eq__',\n",
       " '__float__',\n",
       " '__floor__',\n",
       " '__floordiv__',\n",
       " '__format__',\n",
       " '__ge__',\n",
       " '__getattribute__',\n",
       " '__getnewargs__',\n",
       " '__gt__',\n",
       " '__hash__',\n",
       " '__index__',\n",
       " '__init__',\n",
       " '__init_subclass__',\n",
       " '__int__',\n",
       " '__invert__',\n",
       " '__le__',\n",
       " '__lshift__',\n",
       " '__lt__',\n",
       " '__mod__',\n",
       " '__mul__',\n",
       " '__ne__',\n",
       " '__neg__',\n",
       " '__new__',\n",
       " '__or__',\n",
       " '__pos__',\n",
       " '__pow__',\n",
       " '__radd__',\n",
       " '__rand__',\n",
       " '__rdivmod__',\n",
       " '__reduce__',\n",
       " '__reduce_ex__',\n",
       " '__repr__',\n",
       " '__rfloordiv__',\n",
       " '__rlshift__',\n",
       " '__rmod__',\n",
       " '__rmul__',\n",
       " '__ror__',\n",
       " '__round__',\n",
       " '__rpow__',\n",
       " '__rrshift__',\n",
       " '__rshift__',\n",
       " '__rsub__',\n",
       " '__rtruediv__',\n",
       " '__rxor__',\n",
       " '__setattr__',\n",
       " '__sizeof__',\n",
       " '__str__',\n",
       " '__sub__',\n",
       " '__subclasshook__',\n",
       " '__truediv__',\n",
       " '__trunc__',\n",
       " '__xor__',\n",
       " 'bit_length',\n",
       " 'conjugate',\n",
       " 'denominator',\n",
       " 'from_bytes',\n",
       " 'imag',\n",
       " 'numerator',\n",
       " 'real',\n",
       " 'to_bytes']"
      ]
     },
     "execution_count": 4,
     "metadata": {},
     "output_type": "execute_result"
    }
   ],
   "source": [
    "dir(a)"
   ]
  },
  {
   "cell_type": "code",
   "execution_count": 6,
   "metadata": {},
   "outputs": [
    {
     "data": {
      "text/plain": [
       "['__add__',\n",
       " '__class__',\n",
       " '__contains__',\n",
       " '__delattr__',\n",
       " '__dir__',\n",
       " '__doc__',\n",
       " '__eq__',\n",
       " '__format__',\n",
       " '__ge__',\n",
       " '__getattribute__',\n",
       " '__getitem__',\n",
       " '__getnewargs__',\n",
       " '__gt__',\n",
       " '__hash__',\n",
       " '__init__',\n",
       " '__init_subclass__',\n",
       " '__iter__',\n",
       " '__le__',\n",
       " '__len__',\n",
       " '__lt__',\n",
       " '__mod__',\n",
       " '__mul__',\n",
       " '__ne__',\n",
       " '__new__',\n",
       " '__reduce__',\n",
       " '__reduce_ex__',\n",
       " '__repr__',\n",
       " '__rmod__',\n",
       " '__rmul__',\n",
       " '__setattr__',\n",
       " '__sizeof__',\n",
       " '__str__',\n",
       " '__subclasshook__',\n",
       " 'capitalize',\n",
       " 'casefold',\n",
       " 'center',\n",
       " 'count',\n",
       " 'encode',\n",
       " 'endswith',\n",
       " 'expandtabs',\n",
       " 'find',\n",
       " 'format',\n",
       " 'format_map',\n",
       " 'index',\n",
       " 'isalnum',\n",
       " 'isalpha',\n",
       " 'isascii',\n",
       " 'isdecimal',\n",
       " 'isdigit',\n",
       " 'isidentifier',\n",
       " 'islower',\n",
       " 'isnumeric',\n",
       " 'isprintable',\n",
       " 'isspace',\n",
       " 'istitle',\n",
       " 'isupper',\n",
       " 'join',\n",
       " 'ljust',\n",
       " 'lower',\n",
       " 'lstrip',\n",
       " 'maketrans',\n",
       " 'partition',\n",
       " 'replace',\n",
       " 'rfind',\n",
       " 'rindex',\n",
       " 'rjust',\n",
       " 'rpartition',\n",
       " 'rsplit',\n",
       " 'rstrip',\n",
       " 'split',\n",
       " 'splitlines',\n",
       " 'startswith',\n",
       " 'strip',\n",
       " 'swapcase',\n",
       " 'title',\n",
       " 'translate',\n",
       " 'upper',\n",
       " 'zfill']"
      ]
     },
     "execution_count": 6,
     "metadata": {},
     "output_type": "execute_result"
    }
   ],
   "source": [
    "a = \"hellooooow\"\n",
    "dir(a) # string에 해당하는 함수들 목록"
   ]
  },
  {
   "cell_type": "code",
   "execution_count": 13,
   "metadata": {},
   "outputs": [
    {
     "name": "stdout",
     "output_type": "stream",
     "text": [
      "30\n",
      "30\n"
     ]
    }
   ],
   "source": [
    "a = 10\n",
    "print(a + 20)\n",
    "print(a.__add__(20))"
   ]
  },
  {
   "cell_type": "code",
   "execution_count": 15,
   "metadata": {},
   "outputs": [
    {
     "data": {
      "text/plain": [
       "['__bool__',\n",
       " '__class__',\n",
       " '__contains__',\n",
       " '__delattr__',\n",
       " '__dir__',\n",
       " '__doc__',\n",
       " '__eq__',\n",
       " '__format__',\n",
       " '__ge__',\n",
       " '__getattribute__',\n",
       " '__getitem__',\n",
       " '__gt__',\n",
       " '__hash__',\n",
       " '__init__',\n",
       " '__init_subclass__',\n",
       " '__iter__',\n",
       " '__le__',\n",
       " '__len__',\n",
       " '__lt__',\n",
       " '__ne__',\n",
       " '__new__',\n",
       " '__reduce__',\n",
       " '__reduce_ex__',\n",
       " '__repr__',\n",
       " '__reversed__',\n",
       " '__setattr__',\n",
       " '__sizeof__',\n",
       " '__str__',\n",
       " '__subclasshook__',\n",
       " 'count',\n",
       " 'index',\n",
       " 'start',\n",
       " 'step',\n",
       " 'stop']"
      ]
     },
     "execution_count": 15,
     "metadata": {},
     "output_type": "execute_result"
    }
   ],
   "source": [
    "# 파이썬에 있는 모듈을 객체로 봐야한다.\n",
    "a.bit_length()\n",
    "a = 3.14\n",
    "a = 10>20\n",
    "a = [10, 20, 30]\n",
    "a = \"hekkkk\"\n",
    "a = (10, 20, 30)\n",
    "a = range(5)\n",
    "\n",
    "dir(a)"
   ]
  },
  {
   "cell_type": "markdown",
   "metadata": {},
   "source": [
    "11장 시퀀스 자료형 활용하기"
   ]
  },
  {
   "cell_type": "code",
   "execution_count": 23,
   "metadata": {},
   "outputs": [
    {
     "data": {
      "text/plain": [
       "'h'"
      ]
     },
     "execution_count": 23,
     "metadata": {},
     "output_type": "execute_result"
    }
   ],
   "source": [
    "# sequence >> 리스트, 튜플, range, 문자열\n",
    "# 변수 하나에 패킹한 것\n",
    "a = [1,2,3,4,5]  # 리스트\n",
    "a = (2,4,6,8,10) # 튜풀\n",
    "a = 8,7,6,5,4 # 튜플\n",
    "a = range(10, 110, 10) # 10 ~ 109 이하의 정수 lazy하다ㅇㅇ >> 요청하면 만들어준다.\n",
    "a = \"heohihohohoohoh\"\n",
    "a[0]"
   ]
  },
  {
   "cell_type": "code",
   "execution_count": 27,
   "metadata": {},
   "outputs": [
    {
     "name": "stdout",
     "output_type": "stream",
     "text": [
      "True\n",
      "False\n",
      "True\n",
      "False\n",
      "10\n",
      "20\n",
      "30\n",
      "40\n",
      "50\n"
     ]
    }
   ],
   "source": [
    "# 존재여부\n",
    "a = [10, 20, 30, 40, 50] # 리스트\n",
    "b = (1,2,3,4,5,6) # 튜플\n",
    "c = range(10)\n",
    "d = 'pyhthotnt'\n",
    "\n",
    "print(40 in a)\n",
    "print(10 in b)\n",
    "print(9 in c)\n",
    "print('j' in c)\n",
    "\n",
    "for val in [10, 20, 30, 40, 50]:\n",
    "    print(val)"
   ]
  },
  {
   "cell_type": "code",
   "execution_count": 28,
   "metadata": {},
   "outputs": [
    {
     "data": {
      "text/plain": [
       "True"
      ]
     },
     "execution_count": 28,
     "metadata": {},
     "output_type": "execute_result"
    }
   ],
   "source": [
    "a = [0, 10, 20, 30, 40, 50, 60, 70, 80, 90]\n",
    "100 not in a"
   ]
  },
  {
   "cell_type": "code",
   "execution_count": 30,
   "metadata": {},
   "outputs": [
    {
     "data": {
      "text/plain": [
       "['__add__',\n",
       " '__class__',\n",
       " '__contains__',\n",
       " '__delattr__',\n",
       " '__delitem__',\n",
       " '__dir__',\n",
       " '__doc__',\n",
       " '__eq__',\n",
       " '__format__',\n",
       " '__ge__',\n",
       " '__getattribute__',\n",
       " '__getitem__',\n",
       " '__gt__',\n",
       " '__hash__',\n",
       " '__iadd__',\n",
       " '__imul__',\n",
       " '__init__',\n",
       " '__init_subclass__',\n",
       " '__iter__',\n",
       " '__le__',\n",
       " '__len__',\n",
       " '__lt__',\n",
       " '__mul__',\n",
       " '__ne__',\n",
       " '__new__',\n",
       " '__reduce__',\n",
       " '__reduce_ex__',\n",
       " '__repr__',\n",
       " '__reversed__',\n",
       " '__rmul__',\n",
       " '__setattr__',\n",
       " '__setitem__',\n",
       " '__sizeof__',\n",
       " '__str__',\n",
       " '__subclasshook__',\n",
       " 'append',\n",
       " 'clear',\n",
       " 'copy',\n",
       " 'count',\n",
       " 'extend',\n",
       " 'index',\n",
       " 'insert',\n",
       " 'pop',\n",
       " 'remove',\n",
       " 'reverse',\n",
       " 'sort']"
      ]
     },
     "execution_count": 30,
     "metadata": {},
     "output_type": "execute_result"
    }
   ],
   "source": [
    "# 시퀀스 객체 연결하기 (+)\n",
    "a = [0, 1, 10, 100]\n",
    "b = [1,2,3,4,5,6]\n",
    "a + b   # a.__add__(b)\n",
    "dir(a)"
   ]
  },
  {
   "cell_type": "code",
   "execution_count": 32,
   "metadata": {},
   "outputs": [
    {
     "data": {
      "text/plain": [
       "['__add__',\n",
       " '__class__',\n",
       " '__contains__',\n",
       " '__delattr__',\n",
       " '__dir__',\n",
       " '__doc__',\n",
       " '__eq__',\n",
       " '__format__',\n",
       " '__ge__',\n",
       " '__getattribute__',\n",
       " '__getitem__',\n",
       " '__getnewargs__',\n",
       " '__gt__',\n",
       " '__hash__',\n",
       " '__init__',\n",
       " '__init_subclass__',\n",
       " '__iter__',\n",
       " '__le__',\n",
       " '__len__',\n",
       " '__lt__',\n",
       " '__mul__',\n",
       " '__ne__',\n",
       " '__new__',\n",
       " '__reduce__',\n",
       " '__reduce_ex__',\n",
       " '__repr__',\n",
       " '__rmul__',\n",
       " '__setattr__',\n",
       " '__sizeof__',\n",
       " '__str__',\n",
       " '__subclasshook__',\n",
       " 'count',\n",
       " 'index']"
      ]
     },
     "execution_count": 32,
     "metadata": {},
     "output_type": "execute_result"
    }
   ],
   "source": [
    "a = (1, 2, 3, 4,5)\n",
    "b = 0 , 1,0,1\n",
    "a + b\n",
    "dir(a+b)"
   ]
  },
  {
   "cell_type": "code",
   "execution_count": 34,
   "metadata": {},
   "outputs": [
    {
     "data": {
      "text/plain": [
       "[0, 1, 2, 3, 4, 6, 7, 8, 9, 10]"
      ]
     },
     "execution_count": 34,
     "metadata": {},
     "output_type": "execute_result"
    }
   ],
   "source": [
    "a = range(4)\n",
    "b = range(5,10)\n",
    "# dir(a+b)\n",
    "# a + b >> range는 불가\n",
    "#리스트나 튜플로 바꿔준다\n",
    "\n",
    "a = list(range(5))\n",
    "b = list(range(6,11))\n",
    "a + b"
   ]
  },
  {
   "cell_type": "code",
   "execution_count": 35,
   "metadata": {},
   "outputs": [
    {
     "data": {
      "text/plain": [
       "'hehehehearararar'"
      ]
     },
     "execution_count": 35,
     "metadata": {},
     "output_type": "execute_result"
    }
   ],
   "source": [
    "a = 'hehehehe'\n",
    "b = 'arararar'\n",
    "a + b"
   ]
  },
  {
   "cell_type": "code",
   "execution_count": 37,
   "metadata": {},
   "outputs": [
    {
     "data": {
      "text/plain": [
       "143"
      ]
     },
     "execution_count": 37,
     "metadata": {},
     "output_type": "execute_result"
    }
   ],
   "source": [
    "a = '123' # 숫자형 문자라서 가능한 일이다.\n",
    "b = 20\n",
    "a + str(b)  # 연결\n",
    "int(a) + b # 연산"
   ]
  },
  {
   "cell_type": "code",
   "execution_count": 45,
   "metadata": {},
   "outputs": [
    {
     "name": "stdout",
     "output_type": "stream",
     "text": [
      "(1, 1, 1, 1)\n",
      "4\n"
     ]
    },
    {
     "data": {
      "text/plain": [
       "[0, 1, 2, 3, 4, 0, 1, 2, 3, 4]"
      ]
     },
     "execution_count": 45,
     "metadata": {},
     "output_type": "execute_result"
    }
   ],
   "source": [
    "# 시퀀스 객체 반복하기\n",
    "[1,2,3] * 3\n",
    "(1,2,3,4) * 2\n",
    "\n",
    "print((1,)* 4)\n",
    "print((1)*4)\n",
    "'hie' * 8\n",
    "# range(5) * 3  << 불가능\n",
    "list(range(5)) * 2 # << 가능"
   ]
  },
  {
   "cell_type": "code",
   "execution_count": 48,
   "metadata": {},
   "outputs": [
    {
     "data": {
      "text/plain": [
       "(7, 21, 14)"
      ]
     },
     "execution_count": 48,
     "metadata": {},
     "output_type": "execute_result"
    }
   ],
   "source": [
    "# 리스트의 길이\n",
    "# 길이\n",
    "a = [1,2,3,4,5]\n",
    "a = 1,2,3\n",
    "a = range(10)\n",
    "a = 'hahehire'\n",
    "a = '아뇨오오옹하슈'\n",
    "b = a.encode('utf-8') # 한글 1글자 - > 3byte\n",
    "c = a.encode('cp949') # 한글 1글자 - > 2byte\n",
    "len(a), len(b), len(c)"
   ]
  },
  {
   "cell_type": "code",
   "execution_count": 51,
   "metadata": {},
   "outputs": [
    {
     "name": "stdout",
     "output_type": "stream",
     "text": [
      "1__6__1\n"
     ]
    }
   ],
   "source": [
    "# 인덱스 사용하기\n",
    "a = [1,2,3,4,5,6]\n",
    "print(a[0], a[-1], a[-6], sep = '__')"
   ]
  },
  {
   "cell_type": "code",
   "execution_count": 52,
   "metadata": {},
   "outputs": [
    {
     "name": "stdout",
     "output_type": "stream",
     "text": [
      "h---`\n"
     ]
    }
   ],
   "source": [
    "# 인덱스의 음수는 마지막을 기준으로 한다(방향 반대의미)\n",
    "a =range(10,20, 30)\n",
    "a = 'heoowow workd`'\n",
    "print(a[0], a[-1], sep = '---')"
   ]
  },
  {
   "cell_type": "code",
   "execution_count": 56,
   "metadata": {},
   "outputs": [
    {
     "name": "stdout",
     "output_type": "stream",
     "text": [
      "[99, 2, 3, 4, 77, 88]\n"
     ]
    }
   ],
   "source": [
    "# sequence 객체 중에 list만 변경 가능!!!!!\n",
    "# 요소에 값 할당하기\n",
    "a = [1,2,3,4,5,6]\n",
    "a[0]=99\n",
    "a[-1] = 88\n",
    "# a = range(10)           # range 변경 불가\n",
    "# a = 1,2,3,4,5          # 튜플은 변경불가\n",
    "# a = 'hello'           # str 변경불가\n",
    "a[len(a)-2] = 77\n",
    "print(a)"
   ]
  },
  {
   "cell_type": "code",
   "execution_count": 55,
   "metadata": {},
   "outputs": [
    {
     "name": "stdout",
     "output_type": "stream",
     "text": [
      "[2, 3, 4, 5]\n"
     ]
    }
   ],
   "source": [
    "# del 로 요소 삭제하기\n",
    "a = [1,2,3,4,5]\n",
    "# a = (1,2,3,4,5) \n",
    "# a = range(10)\n",
    "# a = 'hellllllo'\n",
    "\n",
    "del a[0]\n",
    "print(a)"
   ]
  },
  {
   "cell_type": "code",
   "execution_count": 66,
   "metadata": {},
   "outputs": [
    {
     "name": "stdout",
     "output_type": "stream",
     "text": [
      "[11, 101, 191, 281, 371, 461, 551, 641, 731, 821, 911, 1001, 1091]\n",
      "11 1091\n",
      "[11, 101, 191, 281, 371]\n",
      "[461, 551, 641]\n",
      "[551, 641, 731]\n",
      "[551, 731]\n",
      "[]\n",
      "[551]\n",
      "[551]\n"
     ]
    }
   ],
   "source": [
    "a = list(range(11, 1111, 90))\n",
    "print(a)\n",
    "print(a[0], a[-1])\n",
    "print(a[0:5])\n",
    "print(a[5:8])\n",
    "print(a[6:9:1])\n",
    "print(a[6:9:2])   # start  end  step\n",
    "print(a[6:6]) # 하나도 안나옴\n",
    "print(a[6:7])\n",
    "print(a[6:7:2])"
   ]
  },
  {
   "cell_type": "code",
   "execution_count": 69,
   "metadata": {},
   "outputs": [
    {
     "name": "stdout",
     "output_type": "stream",
     "text": [
      "[10, 20, 30, 40, 50, 60, 70, 80, 90, 100]\n",
      "[50, 60, 70, 80, 90]\n",
      "[]\n",
      "[90]\n"
     ]
    }
   ],
   "source": [
    "a = list(range(10,110, 10))\n",
    "print(a)\n",
    "print(a[4:-1]) # 4 <= -1\n",
    "print(a[4:0])\n",
    "\n",
    "print(a[-2:-1])"
   ]
  },
  {
   "cell_type": "code",
   "execution_count": 74,
   "metadata": {},
   "outputs": [
    {
     "name": "stdout",
     "output_type": "stream",
     "text": [
      "[10, 20, 30, 40, 50, 60, 70, 80, 90, 100]\n"
     ]
    },
    {
     "data": {
      "text/plain": [
       "[100, 90, 80, 70, 60, 50, 40, 30, 20, 10]"
      ]
     },
     "execution_count": 74,
     "metadata": {},
     "output_type": "execute_result"
    }
   ],
   "source": [
    "a = list(range(10, 110, 10))\n",
    "print(a)\n",
    "a[::]     # 처음부터 끝까지 1개씩 커지기\n",
    "a[::2]    # 처음부터 끝까지 2개씩 커지기\n",
    "a[:5:2]   # 처음부터 5번째까지 2개씩 커지기\n",
    "a[2::2]   # 두번째부터 끝까지 2개씩 커지기\n",
    "a[::-1]"
   ]
  },
  {
   "cell_type": "code",
   "execution_count": 75,
   "metadata": {},
   "outputs": [
    {
     "name": "stdout",
     "output_type": "stream",
     "text": [
      "(10, 20, 30, 40, 50, 60, 70, 80, 90, 100)\n"
     ]
    },
    {
     "data": {
      "text/plain": [
       "(100, 90, 80, 70, 60, 50, 40, 30, 20, 10)"
      ]
     },
     "execution_count": 75,
     "metadata": {},
     "output_type": "execute_result"
    }
   ],
   "source": [
    "a = tuple(range(10, 110, 10))\n",
    "print(a)\n",
    "a[::]     # 처음부터 끝까지 1개씩 커지기\n",
    "a[::2]    # 처음부터 끝까지 2개씩 커지기\n",
    "a[:5:2]   # 처음부터 5번째까지 2개씩 커지기\n",
    "a[2::2]   # 두번째부터 끝까지 2개씩 커지기\n",
    "a[::-1]"
   ]
  },
  {
   "cell_type": "code",
   "execution_count": 76,
   "metadata": {},
   "outputs": [
    {
     "name": "stdout",
     "output_type": "stream",
     "text": [
      "range(10, 110, 10)\n"
     ]
    },
    {
     "data": {
      "text/plain": [
       "range(100, 0, -10)"
      ]
     },
     "execution_count": 76,
     "metadata": {},
     "output_type": "execute_result"
    }
   ],
   "source": [
    "a = range(10, 110, 10)\n",
    "print(a)\n",
    "a[::]     # 처음부터 끝까지 1개씩 커지기\n",
    "a[::2]    # 처음부터 끝까지 2개씩 커지기\n",
    "a[:5:2]   # 처음부터 5번째까지 2개씩 커지기\n",
    "a[2::2]   # 두번째부터 끝까지 2개씩 커지기\n",
    "a[::-1]"
   ]
  },
  {
   "cell_type": "code",
   "execution_count": 77,
   "metadata": {},
   "outputs": [
    {
     "name": "stdout",
     "output_type": "stream",
     "text": [
      "hehehehehehehwlrlrldir\n"
     ]
    },
    {
     "data": {
      "text/plain": [
       "'ridlrlrlwheheheheheheh'"
      ]
     },
     "execution_count": 77,
     "metadata": {},
     "output_type": "execute_result"
    }
   ],
   "source": [
    "a = 'hehehehehehehwlrlrldir'\n",
    "print(a)\n",
    "a[::]     # 처음부터 끝까지 1개씩 커지기\n",
    "a[::2]    # 처음부터 끝까지 2개씩 커지기\n",
    "a[:5:2]   # 처음부터 5번째까지 2개씩 커지기\n",
    "a[2::2]   # 두번째부터 끝까지 2개씩 커지기\n",
    "a[::-1]"
   ]
  },
  {
   "cell_type": "code",
   "execution_count": 85,
   "metadata": {},
   "outputs": [
    {
     "name": "stdout",
     "output_type": "stream",
     "text": [
      "2020 01 23 10 55 jpg\n"
     ]
    }
   ],
   "source": [
    "filename = '20200123-105501.jpg'\n",
    "year = filename[:4]\n",
    "month = filename[4:6]\n",
    "day = filename[6:8]\n",
    "hour = filename[9:11]\n",
    "minute = filename[11:13]\n",
    "ext = filename[-3:]      # 확장자명\n",
    "print(year, month, day, hour, minute, ext, sep = ' ')"
   ]
  },
  {
   "cell_type": "code",
   "execution_count": 88,
   "metadata": {},
   "outputs": [
    {
     "name": "stdout",
     "output_type": "stream",
     "text": [
      "[1, 2, 3] (10, 20, 30) 빨리먹 range(0, 3)\n"
     ]
    }
   ],
   "source": [
    "s = slice(0, 3, 1)\n",
    "a = [1,2,3,4,5,6,7,8]\n",
    "b = (10,20,30,40,50,60)\n",
    "c= '빨리먹자 왕캬캬컁'\n",
    "d = range(10)\n",
    "print(a[s], b[s], c[s], d[s])"
   ]
  },
  {
   "cell_type": "code",
   "execution_count": 103,
   "metadata": {},
   "outputs": [
    {
     "name": "stdout",
     "output_type": "stream",
     "text": [
      "[10, 20, 30, 40, 50, 60, 70, 80, 90, 100]\n",
      "[10, 20, 30, 'a', 70, 80, 90, 100]\n",
      "[10, 20, 30, 'a', 'c', 'e', 'r', 'k', 90, 100]\n",
      "[10, 20, 30, '1', '11', '111', 'r', 'k', 90, 100]\n",
      "[10, 20, 30, 'a', 50, 'ㅊ', 70, 80, 90, 100]\n",
      "[10, 20, 30, 'a', 'ㅊ', 'ㅋ', 70, 80, 90, 100]\n"
     ]
    }
   ],
   "source": [
    "# 슬라이스에 요소 할당하기\n",
    "a = list(range(10, 110, 10))\n",
    "print(a)\n",
    "\n",
    "a[3:6] = ['a']\n",
    "print(a)\n",
    "\n",
    "a[3:6] = ['a', 'c', 'e', 'r', 'k']\n",
    "print(a)\n",
    "\n",
    "a[3:6] = ['1', '11', '111']\n",
    "print(a)\n",
    "\n",
    "# 슬라이스를 이용해서 값 변경 시 step이 있는 경우,\n",
    "# 갯수가 일치해야한다. ( 1 제외 )\n",
    "\n",
    "# 3부터 5까지 증가폭 2개 일떄 개수를 맞춰줘야한다.\n",
    "#a[3:6:2] = ['a', 'b' , 'c', 'd', 'e']\n",
    "a = list(range(10, 110, 10))\n",
    "a[3:6:2] = ['a','ㅊ']\n",
    "print(a)\n",
    "\n",
    "#a[3:6:2] = ['a','ㅊ', 'ㅂ']  <<- 에러발생\n",
    "\n",
    "a = list(range(10, 110, 10))\n",
    "a[3:6:1] = ['a','ㅊ','ㅋ']\n",
    "print(a)"
   ]
  },
  {
   "cell_type": "markdown",
   "metadata": {},
   "source": [
    "11.6 연습문제 : 최근 3년간 인구 출력하기\n",
    "리스트 year에 연도, population에 서울시 인구수가 저장되어 있습니다.\n",
    "최근 3년간 연도와 인구수가 리스트로 출력"
   ]
  },
  {
   "cell_type": "code",
   "execution_count": 107,
   "metadata": {},
   "outputs": [
    {
     "name": "stdout",
     "output_type": "stream",
     "text": [
      "[2016, 2017, 2018]\n",
      "[9930616, 9857426, 9838892]\n"
     ]
    }
   ],
   "source": [
    "year = [2011, 2012, 2013, 2014, 2015, 2016, 2017, 2018]\n",
    "population = [10249679, 10195318, 10143645, 10103233, 10022181, 9930616, 9857426, 9838892]\n",
    "\n",
    "print(year[-3:])\n",
    "print(population[-3:len(population)])"
   ]
  },
  {
   "cell_type": "markdown",
   "metadata": {},
   "source": [
    "11.7 연습문제: 인덱스가 홀수인 요소 출력하기"
   ]
  },
  {
   "cell_type": "code",
   "execution_count": 109,
   "metadata": {},
   "outputs": [
    {
     "name": "stdout",
     "output_type": "stream",
     "text": [
      "(75, -10, 32, -15, 76, 2)\n",
      "(-32, 97, 9, 4, 0, 14)\n"
     ]
    }
   ],
   "source": [
    "n = -32, 75, 97, -10, 9, 32, 4, -15, 0, 76, 14, 2\n",
    "print(n[1::2])\n",
    "print(n[0::2])"
   ]
  },
  {
   "cell_type": "code",
   "execution_count": 117,
   "metadata": {},
   "outputs": [
    {
     "name": "stdout",
     "output_type": "stream",
     "text": [
      "음수::>> -32\n",
      "양수::<< 75\n",
      "양수::<< 97\n",
      "음수::>> -10\n",
      "양수::<< 9\n",
      "양수::<< 32\n",
      "양수::<< 4\n",
      "음수::>> -15\n",
      "음수::>> 0\n",
      "양수::<< 76\n",
      "양수::<< 14\n",
      "양수::<< 2\n"
     ]
    }
   ],
   "source": [
    "for val in n :\n",
    "   #print(val, end = ' ')\n",
    "    if(val > 0):\n",
    "        print('양수::<<', val)\n",
    "    else:\n",
    "        print('음수::>>', val)"
   ]
  },
  {
   "cell_type": "markdown",
   "metadata": {},
   "source": [
    "[[데이터 교환]]\n",
    "\n",
    "[xml] 데이터 전달시 3배가 되서 대용량 데이터 교환시 부적절하다 <id>151515</id>\n",
    "\n",
    "[json] ★{\"id\": 100 }\n",
    "\n",
    "[python] 딕셔너리 {'health': 490 } __ 'key' : 'value'"
   ]
  },
  {
   "cell_type": "markdown",
   "metadata": {},
   "source": [
    "12장 딕셔너리"
   ]
  },
  {
   "cell_type": "code",
   "execution_count": 119,
   "metadata": {},
   "outputs": [],
   "source": [
    "# 자바스크립트에서 >>> JSON(JAVASCRIPT OBJECT NOTATION)\n",
    "# 파이썬에서 >>>>>>>> DICTIONARY\n"
   ]
  },
  {
   "cell_type": "code",
   "execution_count": 118,
   "metadata": {},
   "outputs": [
    {
     "name": "stdout",
     "output_type": "stream",
     "text": [
      "<class 'dict'>\n"
     ]
    }
   ],
   "source": [
    "a = {\n",
    "        \"status\": \"0000\",\n",
    "        \"data\": {\n",
    "            \"opening_price\": \"504000\",\n",
    "            \"closing_price\": \"505000\",\n",
    "            \"min_price\": \"504000\",\n",
    "            \"max_price\": \"516000\",\n",
    "            \"units_traded\": \"14.71960286\",\n",
    "            \"acc_trade_value\": \"16878100\",\n",
    "            \"prev_closing_price\": \"503000\",\n",
    "            \"units_traded_24H\": \"1471960286\",\n",
    "            \"acc_trade_value_24H\": \"16878100\",\n",
    "            \"fluctate_24H\": \"1000\",\n",
    "            \"fluctate_rate_24H\": 0.19,\n",
    "            \"date\": \"1417141032622\"\n",
    "    }\n",
    "}\n",
    "print(type(a))"
   ]
  },
  {
   "cell_type": "code",
   "execution_count": 120,
   "metadata": {},
   "outputs": [
    {
     "data": {
      "text/plain": [
       "dict"
      ]
     },
     "execution_count": 120,
     "metadata": {},
     "output_type": "execute_result"
    }
   ],
   "source": [
    "type(a)"
   ]
  },
  {
   "cell_type": "code",
   "execution_count": 125,
   "metadata": {},
   "outputs": [
    {
     "data": {
      "text/plain": [
       "{'health': 8000,\n",
       " 'mana': 334,\n",
       " 'melee': 550,\n",
       " 'armor': 18.72,\n",
       " 100: '백점이다링',\n",
       " True: '합격추추추'}"
      ]
     },
     "execution_count": 125,
     "metadata": {},
     "output_type": "execute_result"
    }
   ],
   "source": [
    "# 동일한 변수가 있을때 나중 값 하나만 사용된다.\n",
    "# key : bool 값도 된다.\n",
    "lux = {'health': 490, 'health': 8000,\n",
    "       'mana': 334, 'melee': 550, 'armor': 18.72, \n",
    "       100:'백점이다링', True: '합격추추추'}\n",
    "lux"
   ]
  },
  {
   "cell_type": "code",
   "execution_count": 126,
   "metadata": {},
   "outputs": [],
   "source": [
    "# 딕셔너리 초기화\n",
    "a = {}\n",
    "a = dict()"
   ]
  },
  {
   "cell_type": "code",
   "execution_count": 130,
   "metadata": {},
   "outputs": [
    {
     "data": {
      "text/plain": [
       "{'a': 100, 'b': 200, 'c': 300}"
      ]
     },
     "execution_count": 130,
     "metadata": {},
     "output_type": "execute_result"
    }
   ],
   "source": [
    "# zip 함수 키1, 키2, 키3 ...  / val1, val2, val3 ...\n",
    "dict(zip(['a','b','c','d', 'e'], [100, 200, 300, 400]))\n",
    "dict(zip(['a','b','c'], [100, 200, 300, 400]))"
   ]
  },
  {
   "cell_type": "code",
   "execution_count": 131,
   "metadata": {},
   "outputs": [
    {
     "data": {
      "text/plain": [
       "{'A': 100, 'B': 200, 'C': 300}"
      ]
     },
     "execution_count": 131,
     "metadata": {},
     "output_type": "execute_result"
    }
   ],
   "source": [
    "{'A':100, 'B':200,'C':300}"
   ]
  },
  {
   "cell_type": "code",
   "execution_count": 134,
   "metadata": {},
   "outputs": [
    {
     "data": {
      "text/plain": [
       "{'a': 100, 'b': 200, 'c': 300}"
      ]
     },
     "execution_count": 134,
     "metadata": {},
     "output_type": "execute_result"
    }
   ],
   "source": [
    "dict(a=100, b=200, c=300)"
   ]
  },
  {
   "cell_type": "code",
   "execution_count": 135,
   "metadata": {},
   "outputs": [
    {
     "data": {
      "text/plain": [
       "{'a': 100, 'b': 200, 'c': 300}"
      ]
     },
     "execution_count": 135,
     "metadata": {},
     "output_type": "execute_result"
    }
   ],
   "source": [
    "dict([('a', 100), ('b',200), ('c', 300)])"
   ]
  },
  {
   "cell_type": "code",
   "execution_count": 150,
   "metadata": {},
   "outputs": [
    {
     "name": "stdout",
     "output_type": "stream",
     "text": [
      "90\n"
     ]
    },
    {
     "data": {
      "text/plain": [
       "(False, True, 4)"
      ]
     },
     "execution_count": 150,
     "metadata": {},
     "output_type": "execute_result"
    }
   ],
   "source": [
    "score = {'A':100, 'B':200,'C':300}\n",
    "score['A'] = 90 # 수정\n",
    "score['홍길동'] = 99     # 추가\n",
    "print(score['A'])\n",
    "score\n",
    "\n",
    "# print(score['AA']) 이런 키값이 없어서.. 에러발생\n",
    "\n",
    "# 존재 유무\n",
    "'AA' in score, 'A' in score, len(score)"
   ]
  },
  {
   "cell_type": "code",
   "execution_count": 151,
   "metadata": {},
   "outputs": [
    {
     "name": "stdout",
     "output_type": "stream",
     "text": [
      "A ---->>> 100\n",
      "B ---->>> 200\n",
      "C ---->>> 300\n"
     ]
    }
   ],
   "source": [
    "score = {'A':100, 'B':200,'C':300}\n",
    "\n",
    "for key in score:\n",
    "    print(key, '---->>>', score[key])"
   ]
  },
  {
   "cell_type": "code",
   "execution_count": 6,
   "metadata": {},
   "outputs": [
    {
     "name": "stdout",
     "output_type": "stream",
     "text": [
      "505000\n",
      "505000\n"
     ]
    }
   ],
   "source": [
    "bithem = {\n",
    "        \"status\": \"0000\",\n",
    "        \"data\": {\n",
    "            \"opening_price\": \"504000\",\n",
    "            \"closing_price\": \"505000\",\n",
    "            \"min_price\": \"504000\",\n",
    "            \"max_price\": \"516000\",\n",
    "            \"units_traded\": \"14.71960286\",\n",
    "            \"acc_trade_value\": \"16878100\",\n",
    "            \"prev_closing_price\": \"503000\",\n",
    "            \"units_traded_24H\": \"1471960286\",\n",
    "            \"acc_trade_value_24H\": \"16878100\",\n",
    "            \"fluctate_24H\": \"1000\",\n",
    "            \"fluctate_rate_24H\": 0.19,\n",
    "            \"date\": \"1417141032622\"\n",
    "    }\n",
    "}\n",
    "\n",
    "# closing_price 출력하기\n",
    "d = bithem['data']\n",
    "print(d['closing_price'])\n",
    "\n",
    "print(bithem['data']['closing_price'])"
   ]
  },
  {
   "cell_type": "markdown",
   "metadata": {},
   "source": [
    "13장 if조건문으로 특정 조건일 때 코드 실행하기"
   ]
  },
  {
   "cell_type": "code",
   "execution_count": 16,
   "metadata": {},
   "outputs": [
    {
     "name": "stdout",
     "output_type": "stream",
     "text": [
      "ok litltle\n",
      "dhdhdhdhdh\n",
      "ok litltle\n",
      "\n",
      "end\n"
     ]
    }
   ],
   "source": [
    "a = 10\n",
    "\n",
    "if(a > 10):\n",
    "    print('왕전크다ㅏ잉아ㅏㅇ')\n",
    "else:\n",
    "    print('ok litltle')\n",
    "\n",
    "if(a == 10):\n",
    "    print('dhdhdhdhdh')\n",
    "else:\n",
    "    print('hthththt')\n",
    "    \n",
    "if(a > 10):\n",
    "    pass\n",
    "else:\n",
    "    print('ok litltle')\n",
    "        \n",
    "print('\\nend')"
   ]
  },
  {
   "cell_type": "code",
   "execution_count": 22,
   "metadata": {},
   "outputs": [
    {
     "name": "stdout",
     "output_type": "stream",
     "text": [
      "ok\n",
      "ddkkdkdkd\n"
     ]
    }
   ],
   "source": [
    "x = 20\n",
    "\n",
    "if(x != 5):\n",
    "    print('ok')\n",
    "    \n",
    "if(x == 5):\n",
    "    pass\n",
    "else:\n",
    "    print('ddkkdkdkd')"
   ]
  },
  {
   "cell_type": "code",
   "execution_count": 25,
   "metadata": {},
   "outputs": [
    {
     "name": "stdout",
     "output_type": "stream",
     "text": [
      "합격교ㅛ굑\n",
      "합격\n"
     ]
    }
   ],
   "source": [
    "#if의 축약 표현\n",
    "a = 100\n",
    "\n",
    "# a가 100이상이면 합격, 아니면 불합격\n",
    "result = ''\n",
    "\n",
    "if a >= 100:\n",
    "    result = '합격교ㅛ굑'\n",
    "else:\n",
    "    result = '부루불부루불ㄹ'\n",
    "    \n",
    "print(result)\n",
    "\n",
    "result = '합격' if a>=100 else '불합격'\n",
    "print(result)"
   ]
  },
  {
   "cell_type": "code",
   "execution_count": 32,
   "metadata": {},
   "outputs": [
    {
     "name": "stdout",
     "output_type": "stream",
     "text": [
      "98 A 왕판박이다\n",
      "98===>>>>A\n"
     ]
    }
   ],
   "source": [
    "# 90 이상이면 A\n",
    "# 80 이상이면 B\n",
    "# 70 이상이면 C\n",
    "# 60 이상이면 D\n",
    "# 나머지이면  F\n",
    "\n",
    "score = 98\n",
    "\n",
    "# 'aaa' if score >=90 else if(score >=80) 'bbb'\n",
    "\n",
    "\n",
    "grade =''\n",
    "\n",
    "if(score >= 90):\n",
    "    grade = 'A'\n",
    "else:\n",
    "    if(score >=80):\n",
    "        grade = 'B'\n",
    "    else:\n",
    "        grade = 'c'\n",
    "\n",
    "print(score, grade, '왕판박이다')\n",
    "        \n",
    "# elif 문법!!!!\n",
    "if(score >= 90):\n",
    "    grade = 'A'\n",
    "elif(score >=80):\n",
    "    grade = 'B'\n",
    "elif(score >= 70):\n",
    "        grade = 'c'       \n",
    "else:\n",
    "    grade = 'F'\n",
    "\n",
    "print(score, grade, sep = '===>>>>')"
   ]
  },
  {
   "cell_type": "markdown",
   "metadata": {},
   "source": [
    "15장 elif 사용하기"
   ]
  },
  {
   "cell_type": "code",
   "execution_count": 36,
   "metadata": {},
   "outputs": [
    {
     "name": "stdin",
     "output_type": "stream",
     "text": [
      "숫자를 입력하쇼오오오 >>> 55555\n"
     ]
    },
    {
     "name": "stdout",
     "output_type": "stream",
     "text": [
      "아무것도 해당하지 않음\n"
     ]
    }
   ],
   "source": [
    "# 15.3 연습문제, if elif else 사용하가ㅣ\n",
    "# 변수 x가 11과 20 사이이면 '11~20'\n",
    "# 21 과 30사이면 '21 ~ 30'\n",
    "# 아무것도 해당되지 않으면 '아무것도 해당하지 않음\\'을 출력하기\n",
    "\n",
    "x = int(input('숫자를 입력하쇼오오오 >>>'))\n",
    "\n",
    "if(x >= 11 and x <=20):\n",
    "    print('11 ~ 20')\n",
    "else:\n",
    "    if(x >= 21 and x <= 30):\n",
    "        print('21 ~ 30')\n",
    "    else:\n",
    "        print('아무것도 해당하지 않음')\n"
   ]
  },
  {
   "cell_type": "code",
   "execution_count": 4,
   "metadata": {},
   "outputs": [
    {
     "name": "stdin",
     "output_type": "stream",
     "text": [
      "숫자를 입력학숑>> 11\n"
     ]
    },
    {
     "name": "stdout",
     "output_type": "stream",
     "text": [
      "1 <class 'int'>\n",
      "아무것도 해당하지 않음\n"
     ]
    }
   ],
   "source": [
    "x = list(map(int, input('숫자를 입력학숑>>')))[0] \n",
    "# 무조건 하나만 들어가면 된다. 여러개일때는 유용하지만 값이 1개일때는 리스트의 첫번째항으로 만들어야한다.\n",
    "# x = map(int, input('숫자를 입력학숑>>'))\n",
    "\n",
    "print(x, type(x))\n",
    "\n",
    "if(x >= 11 and x <=20):\n",
    "    print('11 ~ 20')\n",
    "else:\n",
    "    if(x >= 21 and x <= 30):\n",
    "        print('21 ~ 30')\n",
    "    else:\n",
    "        print('아무것도 해당하지 않음')"
   ]
  },
  {
   "cell_type": "code",
   "execution_count": null,
   "metadata": {},
   "outputs": [],
   "source": [
    "# 이전, 이후는 포함하는 걸까? 포함\n",
    "# 2000이전에 입사했다\n",
    "# 2000 이후에 입사했다."
   ]
  },
  {
   "cell_type": "code",
   "execution_count": 1,
   "metadata": {},
   "outputs": [
    {
     "name": "stdin",
     "output_type": "stream",
     "text": [
      "숫자를 입력하쇼오오오 >>> 13\n"
     ]
    },
    {
     "name": "stdout",
     "output_type": "stream",
     "text": [
      "11 ~ 20\n"
     ]
    }
   ],
   "source": [
    "x = int(input('숫자를 입력하쇼오오오 >>>'))\n",
    "\n",
    "if(x >= 11 and x <=20):\n",
    "    print('11 ~ 20')\n",
    "elif(x >= 21 and x <= 30):\n",
    "    print('21 ~ 30')\n",
    "else:\n",
    "    print('아무것도 해당하지 않음')"
   ]
  },
  {
   "cell_type": "code",
   "execution_count": null,
   "metadata": {},
   "outputs": [],
   "source": [
    "# x = map(func, iterable(= 셀수있는 것))"
   ]
  },
  {
   "cell_type": "markdown",
   "metadata": {},
   "source": [
    "16장 for반복문으로 hello world 100번 출력하기"
   ]
  },
  {
   "cell_type": "code",
   "execution_count": 18,
   "metadata": {},
   "outputs": [
    {
     "name": "stdout",
     "output_type": "stream",
     "text": [
      "0 1 2 3 4 5 6 7 8 9 10 9 8 7 6 5 4 3 2 1 "
     ]
    }
   ],
   "source": [
    "# 반복문\n",
    "list(range(0, 10))\n",
    "\n",
    "for i in range(10):\n",
    "    print(i, end = ' ')\n",
    "    \n",
    "# range(10, 0)과 같이 시작하는 숫자를 큰 숫자로 지정하고 끝나는 숫자를 작은 숫자로 지정하면\n",
    "# 숫자가 감소할 것 같은데, 실행을 해보면 아무것도 출력되지 않습니다.\n",
    "# 왜냐하면 range는 숫자가 증가하는 기본 값이 양수 1이기 때문입니다.    \n",
    "    \n",
    "for i in range(10, 0, -1): # 10에서 1까지 1씩 감소\n",
    "    print(i, end = ' ')"
   ]
  },
  {
   "cell_type": "code",
   "execution_count": 19,
   "metadata": {},
   "outputs": [
    {
     "name": "stdout",
     "output_type": "stream",
     "text": [
      "10>>20>>30>>\n",
      "10 20 30 \n",
      "p y t h o n \n",
      "0 1 2 "
     ]
    }
   ],
   "source": [
    "for val in [10, 20, 30]:\n",
    "    print(val, end = '>>')\n",
    "\n",
    "print()\n",
    "\n",
    "for val in (10, 20, 30):\n",
    "    print(val, end = ' ')\n",
    "    \n",
    "print()\n",
    "\n",
    "for val in 'python':\n",
    "    print(val, end = ' ')\n",
    "    \n",
    "print()\n",
    "\n",
    "for val in range(3):\n",
    "    print(val, end = ' ')"
   ]
  },
  {
   "cell_type": "code",
   "execution_count": 28,
   "metadata": {},
   "outputs": [
    {
     "name": "stdout",
     "output_type": "stream",
     "text": [
      "['n', 'o', 'h', 't', 'y', 'p']\n",
      "('n', 'o', 'h', 't', 'y', 'p')\n"
     ]
    },
    {
     "data": {
      "text/plain": [
       "'n★o★h★t★y★p'"
      ]
     },
     "execution_count": 28,
     "metadata": {},
     "output_type": "execute_result"
    }
   ],
   "source": [
    "reversed([10, 20, 30]) # reversed 라는 객체 완성\n",
    "list(reversed([10, 20, 30]))\n",
    "tuple(reversed([10, 20, 30]))\n",
    "\n",
    "''.join(list(reversed('python'))) # 문자들을 결합할 때 공백없이\n",
    "\n",
    "print(list(reversed('python')))\n",
    "print(tuple(reversed('python')))\n",
    "\n",
    "# str은 문자를 뭉쳐야한다.\n",
    "'★'.join(reversed('python'))\n"
   ]
  },
  {
   "cell_type": "code",
   "execution_count": 30,
   "metadata": {},
   "outputs": [
    {
     "name": "stdout",
     "output_type": "stream",
     "text": [
      "30>>20>>10>>\n",
      "n__o__h__t__y__p__"
     ]
    }
   ],
   "source": [
    "# reverse\n",
    "for val in reversed([10, 20, 30]):\n",
    "    print(val, end = '>>')\n",
    "    \n",
    "print()\n",
    "\n",
    "for val in reversed('python'):\n",
    "    print(val, end = '__')\n",
    "\n",
    "# sequence 객체들이 다 reverse 가능하다!!!!"
   ]
  },
  {
   "cell_type": "code",
   "execution_count": 43,
   "metadata": {},
   "outputs": [
    {
     "name": "stdout",
     "output_type": "stream",
     "text": [
      "490 170 -250 1020 80 620 -210 \n",
      "[490, 170, -250, 1020, 80, 620, -210]\n",
      "490 170 -250 1020 80 620 -210\n",
      "['490', '170', '-250', '1020', '80', '620', '-210']\n"
     ]
    },
    {
     "data": {
      "text/plain": [
       "(102, 8, 62)"
      ]
     },
     "execution_count": 43,
     "metadata": {},
     "output_type": "execute_result"
    }
   ],
   "source": [
    "x = [49, 17, -25, 102 ,8, 62, -21]\n",
    "\n",
    "for val in x:\n",
    "    print(val *10, end = ' ')\n",
    "\n",
    "print()\n",
    "\n",
    "# 컴프리헨션\n",
    "result = [val * 10  for val in x]\n",
    "print(result)\n",
    "\n",
    "result = ' '.join([str(val * 10)  for val in x])\n",
    "print(result)\n",
    "\n",
    "result = [str(val*10) for val in x]\n",
    "print(result)\n",
    "\n",
    "\n",
    "tuple(val for val in x if val%2 == 0)"
   ]
  },
  {
   "cell_type": "code",
   "execution_count": 45,
   "metadata": {},
   "outputs": [
    {
     "name": "stdout",
     "output_type": "stream",
     "text": [
      "102_+_8_+_62_+_"
     ]
    }
   ],
   "source": [
    "for val in x:\n",
    "    if(val % 2 == 0):\n",
    "        print(val, end = '_+_')"
   ]
  },
  {
   "cell_type": "code",
   "execution_count": 47,
   "metadata": {},
   "outputs": [
    {
     "data": {
      "text/plain": [
       "[102, 8, 62]"
      ]
     },
     "execution_count": 47,
     "metadata": {},
     "output_type": "execute_result"
    }
   ],
   "source": [
    "# comprehension ===> 단축\n",
    "# 위문장을 그대로 넣은 것이다\n",
    "\n",
    "[ val    for val in x if(val % 2 == 0)  ]"
   ]
  },
  {
   "cell_type": "code",
   "execution_count": 48,
   "metadata": {},
   "outputs": [
    {
     "name": "stdout",
     "output_type": "stream",
     "text": [
      "490\n",
      "18\n",
      "-24\n",
      "1020\n",
      "9\n",
      "620\n",
      "-20\n"
     ]
    }
   ],
   "source": [
    "# 40보다 크면 '10을 곱하고 아니면 +1\n",
    "\n",
    "for val in x:\n",
    "    if(val > 40):\n",
    "        print(val * 10)\n",
    "    else:\n",
    "        print(val + 1)"
   ]
  },
  {
   "cell_type": "code",
   "execution_count": 50,
   "metadata": {},
   "outputs": [
    {
     "data": {
      "text/plain": [
       "[490, 18, -24, 1020, 9, 620, -20]"
      ]
     },
     "execution_count": 50,
     "metadata": {},
     "output_type": "execute_result"
    }
   ],
   "source": [
    "# comprehension으로 만들기\n",
    "\n",
    "# 출력값 / 맞다 / 아니다 / 반복문\n",
    "\n",
    "[(val * 10) if(val > 40) else (val + 1) for val in x  ]"
   ]
  },
  {
   "cell_type": "code",
   "execution_count": 59,
   "metadata": {},
   "outputs": [
    {
     "name": "stdout",
     "output_type": "stream",
     "text": [
      "1\n",
      "** 2 ++\n",
      "3\n",
      "** 4 ++\n",
      "5\n",
      "** 6 ++\n",
      "7\n",
      "** 8 ++\n",
      "9\n",
      "** 10 ++\n"
     ]
    }
   ],
   "source": [
    "# 1 ~ 10까지 잇을 때,짝수이면 문자로 출력하고 아니면 그대로 출력하기\n",
    "\n",
    "for val in range(1,11):\n",
    "    if(val %2 == 0):\n",
    "        print('**', str(val), '++')\n",
    "    else:\n",
    "        print(val)"
   ]
  },
  {
   "cell_type": "code",
   "execution_count": 61,
   "metadata": {},
   "outputs": [
    {
     "data": {
      "text/plain": [
       "[1, '2', 3, '4', 5, '6', 7, '8', 9, '10']"
      ]
     },
     "execution_count": 61,
     "metadata": {},
     "output_type": "execute_result"
    }
   ],
   "source": [
    "[(str(val)) if(val %2 == 0)   else (val) for val in range(1,11) ]"
   ]
  },
  {
   "cell_type": "code",
   "execution_count": 62,
   "metadata": {},
   "outputs": [
    {
     "name": "stdout",
     "output_type": "stream",
     "text": [
      "1 ji\n",
      "2 ji\n",
      "3 ji\n",
      "4 ji\n",
      "5 ji\n",
      "6 ji\n",
      "7 ji\n",
      "8 ji\n",
      "9 ji\n",
      "10 ji\n"
     ]
    }
   ],
   "source": [
    "# 1~10반복\n",
    "\n",
    "for i in range(1, 11):\n",
    "    print(i, 'ji')"
   ]
  },
  {
   "cell_type": "code",
   "execution_count": 64,
   "metadata": {},
   "outputs": [
    {
     "name": "stdout",
     "output_type": "stream",
     "text": [
      "1 hir\n",
      "2 hir\n",
      "3 hir\n",
      "4 hir\n",
      "5 hir\n",
      "6 hir\n",
      "7 hir\n",
      "8 hir\n",
      "9 hir\n",
      "10 hir\n"
     ]
    }
   ],
   "source": [
    "i = 1\n",
    "while i <= 10:\n",
    "    print(i, 'hir')\n",
    "    #i = i+ 1  # 복합 대입 연산자\n",
    "    i += 1"
   ]
  },
  {
   "cell_type": "code",
   "execution_count": 68,
   "metadata": {},
   "outputs": [],
   "source": [
    "import random # random 모듈을  가져옴\n",
    "# 모듈 >>> 패키지 >>> 클래스, 함수"
   ]
  },
  {
   "cell_type": "code",
   "execution_count": 69,
   "metadata": {},
   "outputs": [
    {
     "data": {
      "text/plain": [
       "1"
      ]
     },
     "execution_count": 69,
     "metadata": {},
     "output_type": "execute_result"
    }
   ],
   "source": [
    "random.random()\n",
    "random.randint(1, 6) # 1 ~ 6 사이의 정수"
   ]
  },
  {
   "cell_type": "code",
   "execution_count": 74,
   "metadata": {},
   "outputs": [
    {
     "name": "stdout",
     "output_type": "stream",
     "text": [
      "최초의 주사위수 >>> 6\n",
      "3\n"
     ]
    }
   ],
   "source": [
    "# 주사위를 던진다. 주사위는 1 ~ 6까지 수를 가지고 있다\n",
    "# 3이라는 숫자가 나오면 중단한다\n",
    "\n",
    "i = random.randint(1, 6)\n",
    "print('최초의 주사위수 >>>', i)\n",
    "\n",
    "# 조건에 맞으면 계속한다.\n",
    "while i != 3:\n",
    "    i = random.randint(1, 6)  # 1 부터 6사이 수를 선택\n",
    "    print(i)"
   ]
  },
  {
   "cell_type": "code",
   "execution_count": 78,
   "metadata": {},
   "outputs": [
    {
     "name": "stdout",
     "output_type": "stream",
     "text": [
      "3_37_42_19_17_31_"
     ]
    }
   ],
   "source": [
    "# 로또 1 ~ 45 6개를 선택\n",
    "luc = list(range(1, 46))\n",
    "\n",
    "for val in range(6):\n",
    "    print(random.choice(luc), end = '_') # 중복을 허용한 것"
   ]
  },
  {
   "cell_type": "code",
   "execution_count": 82,
   "metadata": {},
   "outputs": [
    {
     "name": "stdout",
     "output_type": "stream",
     "text": [
      "31_30_12_6_23_30_"
     ]
    }
   ],
   "source": [
    "for val in range(6):\n",
    "    luncky = random.randint(1,45)\n",
    "    print(luncky, end = '_')"
   ]
  },
  {
   "cell_type": "code",
   "execution_count": 86,
   "metadata": {},
   "outputs": [
    {
     "name": "stdout",
     "output_type": "stream",
     "text": [
      "[4, 44, 12, 516, 77, 324, 10, 5]\n"
     ]
    }
   ],
   "source": [
    "a = [4,44,12,516,77,324]\n",
    "a.append(10)\n",
    "a.append(5)\n",
    "5 in a\n",
    "print(a)"
   ]
  },
  {
   "cell_type": "code",
   "execution_count": 93,
   "metadata": {},
   "outputs": [
    {
     "name": "stdout",
     "output_type": "stream",
     "text": [
      "[4, 31, 7, 14, 25, 34]\n"
     ]
    }
   ],
   "source": [
    "# 로또 1 ~ 45 6개 번호를 만든다...단, 중복불가\n",
    "num = []\n",
    "\n",
    "while(len(num) != 6):  \n",
    "    su = random.randint(1, 45) # 무작위수를 생성\n",
    "    \n",
    "    # 생성된 숫자가 중복인지 확인해야함\n",
    "    # 중복이 아니면 num에 추가, 중복이면 loop 계속하기\n",
    "    \n",
    "    if(su not in num):\n",
    "        num.append(su)\n",
    "    else:\n",
    "        pass\n",
    "    \n",
    "print(num)"
   ]
  },
  {
   "cell_type": "code",
   "execution_count": 94,
   "metadata": {},
   "outputs": [
    {
     "name": "stdout",
     "output_type": "stream",
     "text": [
      "[39, 9, 24, 7, 14, 6]\n"
     ]
    }
   ],
   "source": [
    "lu= []\n",
    "\n",
    "while len(lu) < 6:\n",
    "    su = random.randint(1,45)\n",
    "    if su not in lu:\n",
    "        lu.append(su)\n",
    "        \n",
    "print(lu)"
   ]
  },
  {
   "cell_type": "markdown",
   "metadata": {},
   "source": [
    "18장 break문"
   ]
  },
  {
   "cell_type": "code",
   "execution_count": 108,
   "metadata": {},
   "outputs": [
    {
     "name": "stdout",
     "output_type": "stream",
     "text": [
      "slalalaldfasldf\n",
      "slalalaldfasldf\n",
      "1\n",
      "slalalaldfasldf\n",
      "slalalaldfasldf\n",
      "2\n",
      "slalalaldfasldf\n",
      "slalalaldfasldf\n",
      "3\n",
      "slalalaldfasldf\n",
      "slalalaldfasldf\n",
      "4\n",
      "slalalaldfasldf\n",
      "slalalaldfasldf\n",
      "5\n",
      "slalalaldfasldf\n",
      "slalalaldfasldf\n",
      "6\n",
      "[38, 35, 23, 45, 4, 33]\n"
     ]
    }
   ],
   "source": [
    "lu= []\n",
    "\n",
    "while True:\n",
    "    if len(lu) == 6 :\n",
    "        break                  # loop 탈출\n",
    "    su = random.randint(1,45)\n",
    "    \n",
    "    if su in lu: continue # loop을 계속 진행하라\n",
    "    lu.append(su)\n",
    "    print('slalalaldfasldf')\n",
    "    print('slalalaldfasldf')\n",
    "    print(len(lu))\n",
    "            \n",
    "print(lu)"
   ]
  },
  {
   "cell_type": "code",
   "execution_count": 103,
   "metadata": {},
   "outputs": [
    {
     "name": "stdout",
     "output_type": "stream",
     "text": [
      "0\n",
      "1\n",
      "2\n",
      "3\n",
      "4\n",
      "5\n",
      "6\n",
      "7\n",
      "8\n",
      "9\n"
     ]
    }
   ],
   "source": [
    "i = 0\n",
    "while True:\n",
    "    print(i)\n",
    "    i+= 1\n",
    "    if(i == 10):\n",
    "        break"
   ]
  },
  {
   "cell_type": "code",
   "execution_count": 110,
   "metadata": {},
   "outputs": [
    {
     "name": "stdout",
     "output_type": "stream",
     "text": [
      "0 1 2 3 4 5 6 7 8 9 10 11 12 13 14 15 16 17 18 19 20 21 22 23 24 25 26 27 28 29 30 31 32 33 34 35 36 37 38 39 40 41 42 43 44 45 46 47 48 49 50 51 52 53 54 55 56 57 58 59 60 61 62 63 64 65 66 67 68 69 70 71 72 73 74 75 76 77 78 79 80 81 82 83 84 85 86 87 88 89 90 91 92 93 94 95 96 97 98 99 100 "
     ]
    }
   ],
   "source": [
    "for i in range(111):\n",
    "    print(i, end= \" \")\n",
    "    if(i == 100):\n",
    "        break"
   ]
  },
  {
   "cell_type": "code",
   "execution_count": 112,
   "metadata": {},
   "outputs": [
    {
     "name": "stdout",
     "output_type": "stream",
     "text": [
      "1+3+5+7+9+11+13+15+17+19+21+23+25+27+29+31+33+35+37+39+41+43+45+47+49+51+53+55+57+59+61+63+65+67+69+71+73+75+77+79+81+83+85+87+89+91+93+95+97+99+"
     ]
    }
   ],
   "source": [
    "for i in range(100):\n",
    "    if(i%2 == 0):\n",
    "        continue\n",
    "    print(i, end = '+')"
   ]
  },
  {
   "cell_type": "code",
   "execution_count": 114,
   "metadata": {},
   "outputs": [
    {
     "name": "stdout",
     "output_type": "stream",
     "text": [
      "1__3__5__7__9__11__13__15__17__19__21__23__25__27__29__31__33__35__37__39__41__43__45__47__49__51__53__55__57__59__61__63__65__67__69__71__73__75__77__79__81__83__85__87__89__91__93__95__97__99__"
     ]
    }
   ],
   "source": [
    "i = 0\n",
    "while i < 100:\n",
    "    i += 1\n",
    "    if(i % 2 == 0):\n",
    "        continue\n",
    "    print(i, end = '__') # i가 홀수일 때만 출력하기"
   ]
  },
  {
   "cell_type": "code",
   "execution_count": 118,
   "metadata": {},
   "outputs": [],
   "source": [
    "for i in range(10):\n",
    "    pass\n",
    "\n",
    "while True:\n",
    "    i += 2\n",
    "    if(i % 2 == 0):\n",
    "        pass\n",
    "    else:\n",
    "        break"
   ]
  },
  {
   "cell_type": "markdown",
   "metadata": {},
   "source": [
    "18.5 연습문제 : 3으로 끝나는 숫자만 출력하기"
   ]
  },
  {
   "cell_type": "code",
   "execution_count": 125,
   "metadata": {},
   "outputs": [
    {
     "name": "stdout",
     "output_type": "stream",
     "text": [
      "[3, 13, 23, 33, 43, 53, 63, 73]\n"
     ]
    }
   ],
   "source": [
    "i = 0\n",
    "ll = []\n",
    "\n",
    "while True:\n",
    "    if(i % 10 == 3):\n",
    "        ll.append(i)\n",
    "    if(i == 73):\n",
    "        break\n",
    "    i += 1\n",
    "print(ll)"
   ]
  },
  {
   "cell_type": "code",
   "execution_count": 126,
   "metadata": {},
   "outputs": [
    {
     "name": "stdout",
     "output_type": "stream",
     "text": [
      "3 13 23 33 43 53 63 "
     ]
    }
   ],
   "source": [
    "i = 0\n",
    "    \n",
    "while True:\n",
    "    if i % 10 != 3:\n",
    "        i+= 1\n",
    "        continue\n",
    "    if i == 73:\n",
    "        break\n",
    "        \n",
    "    print(i, end = ' ')\n",
    "    i+= 1"
   ]
  },
  {
   "cell_type": "code",
   "execution_count": 130,
   "metadata": {},
   "outputs": [
    {
     "name": "stdout",
     "output_type": "stream",
     "text": [
      "3||13||23||33||43||53||63||73||"
     ]
    }
   ],
   "source": [
    "i = 0\n",
    "while True:\n",
    "    if(i % 10 != 3):\n",
    "        i+=1\n",
    "        continue\n",
    "    if(i> 73):\n",
    "        break\n",
    "    print(i, end = '||')\n",
    "    i+= 1"
   ]
  },
  {
   "cell_type": "code",
   "execution_count": null,
   "metadata": {},
   "outputs": [],
   "source": []
  }
 ],
 "metadata": {
  "kernelspec": {
   "display_name": "Python 3",
   "language": "python",
   "name": "python3"
  },
  "language_info": {
   "codemirror_mode": {
    "name": "ipython",
    "version": 3
   },
   "file_extension": ".py",
   "mimetype": "text/x-python",
   "name": "python",
   "nbconvert_exporter": "python",
   "pygments_lexer": "ipython3",
   "version": "3.7.4"
  }
 },
 "nbformat": 4,
 "nbformat_minor": 4
}
