{
 "cells": [
  {
   "cell_type": "markdown",
   "metadata": {},
   "source": [
    "unit 44. 모듈과 패키지 사용하기"
   ]
  },
  {
   "cell_type": "markdown",
   "metadata": {},
   "source": [
    " 모듈: 각종변수, 함수, 클래스를 담고 있는 파일(.py)\n",
    " \n",
    " 패키지 : 여러 모듈을 묶은 것(폴더)"
   ]
  },
  {
   "cell_type": "code",
   "execution_count": 116,
   "metadata": {},
   "outputs": [],
   "source": [
    "import math"
   ]
  },
  {
   "cell_type": "code",
   "execution_count": 117,
   "metadata": {
    "scrolled": true
   },
   "outputs": [
    {
     "data": {
      "text/plain": [
       "['__doc__',\n",
       " '__loader__',\n",
       " '__name__',\n",
       " '__package__',\n",
       " '__spec__',\n",
       " 'acos',\n",
       " 'acosh',\n",
       " 'asin',\n",
       " 'asinh',\n",
       " 'atan',\n",
       " 'atan2',\n",
       " 'atanh',\n",
       " 'ceil',\n",
       " 'copysign',\n",
       " 'cos',\n",
       " 'cosh',\n",
       " 'degrees',\n",
       " 'e',\n",
       " 'erf',\n",
       " 'erfc',\n",
       " 'exp',\n",
       " 'expm1',\n",
       " 'fabs',\n",
       " 'factorial',\n",
       " 'floor',\n",
       " 'fmod',\n",
       " 'frexp',\n",
       " 'fsum',\n",
       " 'gamma',\n",
       " 'gcd',\n",
       " 'hypot',\n",
       " 'inf',\n",
       " 'isclose',\n",
       " 'isfinite',\n",
       " 'isinf',\n",
       " 'isnan',\n",
       " 'ldexp',\n",
       " 'lgamma',\n",
       " 'log',\n",
       " 'log10',\n",
       " 'log1p',\n",
       " 'log2',\n",
       " 'modf',\n",
       " 'nan',\n",
       " 'pi',\n",
       " 'pow',\n",
       " 'radians',\n",
       " 'remainder',\n",
       " 'sin',\n",
       " 'sinh',\n",
       " 'sqrt',\n",
       " 'tan',\n",
       " 'tanh',\n",
       " 'tau',\n",
       " 'trunc']"
      ]
     },
     "execution_count": 117,
     "metadata": {},
     "output_type": "execute_result"
    }
   ],
   "source": [
    "dir(math)"
   ]
  },
  {
   "cell_type": "code",
   "execution_count": 118,
   "metadata": {},
   "outputs": [
    {
     "data": {
      "text/plain": [
       "builtin_function_or_method"
      ]
     },
     "execution_count": 118,
     "metadata": {},
     "output_type": "execute_result"
    }
   ],
   "source": [
    "type(math)    # module\n",
    "type(math.pi) # 변수\n",
    "type(math.sqrt)"
   ]
  },
  {
   "cell_type": "code",
   "execution_count": 119,
   "metadata": {},
   "outputs": [
    {
     "data": {
      "text/plain": [
       "2.0"
      ]
     },
     "execution_count": 119,
     "metadata": {},
     "output_type": "execute_result"
    }
   ],
   "source": [
    "pi= 3\n",
    "\n",
    "math.pi\n",
    "math.sqrt(4)"
   ]
  },
  {
   "cell_type": "code",
   "execution_count": 120,
   "metadata": {},
   "outputs": [
    {
     "data": {
      "text/plain": [
       "<function math.sqrt(x, /)>"
      ]
     },
     "execution_count": 120,
     "metadata": {},
     "output_type": "execute_result"
    }
   ],
   "source": [
    "from math import pi, sqrt as pp\n",
    "pp"
   ]
  },
  {
   "cell_type": "code",
   "execution_count": 121,
   "metadata": {},
   "outputs": [],
   "source": [
    "import math\n",
    "# del math"
   ]
  },
  {
   "cell_type": "code",
   "execution_count": 122,
   "metadata": {
    "scrolled": true
   },
   "outputs": [
    {
     "data": {
      "text/plain": [
       "['__doc__',\n",
       " '__loader__',\n",
       " '__name__',\n",
       " '__package__',\n",
       " '__spec__',\n",
       " 'acos',\n",
       " 'acosh',\n",
       " 'asin',\n",
       " 'asinh',\n",
       " 'atan',\n",
       " 'atan2',\n",
       " 'atanh',\n",
       " 'ceil',\n",
       " 'copysign',\n",
       " 'cos',\n",
       " 'cosh',\n",
       " 'degrees',\n",
       " 'e',\n",
       " 'erf',\n",
       " 'erfc',\n",
       " 'exp',\n",
       " 'expm1',\n",
       " 'fabs',\n",
       " 'factorial',\n",
       " 'floor',\n",
       " 'fmod',\n",
       " 'frexp',\n",
       " 'fsum',\n",
       " 'gamma',\n",
       " 'gcd',\n",
       " 'hypot',\n",
       " 'inf',\n",
       " 'isclose',\n",
       " 'isfinite',\n",
       " 'isinf',\n",
       " 'isnan',\n",
       " 'ldexp',\n",
       " 'lgamma',\n",
       " 'log',\n",
       " 'log10',\n",
       " 'log1p',\n",
       " 'log2',\n",
       " 'modf',\n",
       " 'nan',\n",
       " 'pi',\n",
       " 'pow',\n",
       " 'radians',\n",
       " 'remainder',\n",
       " 'sin',\n",
       " 'sinh',\n",
       " 'sqrt',\n",
       " 'tan',\n",
       " 'tanh',\n",
       " 'tau',\n",
       " 'trunc']"
      ]
     },
     "execution_count": 122,
     "metadata": {},
     "output_type": "execute_result"
    }
   ],
   "source": [
    "dir(math)"
   ]
  },
  {
   "cell_type": "code",
   "execution_count": 123,
   "metadata": {},
   "outputs": [
    {
     "data": {
      "text/plain": [
       "<module 'math' (built-in)>"
      ]
     },
     "execution_count": 123,
     "metadata": {},
     "output_type": "execute_result"
    }
   ],
   "source": [
    "import importlib\n",
    "\n",
    "importlib.reload(math)"
   ]
  },
  {
   "cell_type": "code",
   "execution_count": 124,
   "metadata": {},
   "outputs": [],
   "source": [
    "import urllib.request"
   ]
  },
  {
   "cell_type": "code",
   "execution_count": 125,
   "metadata": {},
   "outputs": [
    {
     "data": {
      "text/plain": [
       "['__builtins__',\n",
       " '__cached__',\n",
       " '__doc__',\n",
       " '__file__',\n",
       " '__loader__',\n",
       " '__name__',\n",
       " '__package__',\n",
       " '__path__',\n",
       " '__spec__',\n",
       " 'error',\n",
       " 'parse',\n",
       " 'request',\n",
       " 'response']"
      ]
     },
     "execution_count": 125,
     "metadata": {},
     "output_type": "execute_result"
    }
   ],
   "source": [
    "type(urllib)\n",
    "dir(urllib)"
   ]
  },
  {
   "cell_type": "code",
   "execution_count": 126,
   "metadata": {
    "scrolled": true
   },
   "outputs": [
    {
     "data": {
      "text/plain": [
       "['__annotations__',\n",
       " '__call__',\n",
       " '__class__',\n",
       " '__closure__',\n",
       " '__code__',\n",
       " '__defaults__',\n",
       " '__delattr__',\n",
       " '__dict__',\n",
       " '__dir__',\n",
       " '__doc__',\n",
       " '__eq__',\n",
       " '__format__',\n",
       " '__ge__',\n",
       " '__get__',\n",
       " '__getattribute__',\n",
       " '__globals__',\n",
       " '__gt__',\n",
       " '__hash__',\n",
       " '__init__',\n",
       " '__init_subclass__',\n",
       " '__kwdefaults__',\n",
       " '__le__',\n",
       " '__lt__',\n",
       " '__module__',\n",
       " '__name__',\n",
       " '__ne__',\n",
       " '__new__',\n",
       " '__qualname__',\n",
       " '__reduce__',\n",
       " '__reduce_ex__',\n",
       " '__repr__',\n",
       " '__setattr__',\n",
       " '__sizeof__',\n",
       " '__str__',\n",
       " '__subclasshook__']"
      ]
     },
     "execution_count": 126,
     "metadata": {},
     "output_type": "execute_result"
    }
   ],
   "source": [
    "dir(urllib.request.urlopen) # 패키지 / 모듈 / 함수"
   ]
  },
  {
   "cell_type": "code",
   "execution_count": 127,
   "metadata": {
    "scrolled": true
   },
   "outputs": [
    {
     "data": {
      "text/plain": [
       "['__abstractmethods__',\n",
       " '__class__',\n",
       " '__del__',\n",
       " '__delattr__',\n",
       " '__dict__',\n",
       " '__dir__',\n",
       " '__doc__',\n",
       " '__enter__',\n",
       " '__eq__',\n",
       " '__exit__',\n",
       " '__format__',\n",
       " '__ge__',\n",
       " '__getattribute__',\n",
       " '__gt__',\n",
       " '__hash__',\n",
       " '__init__',\n",
       " '__init_subclass__',\n",
       " '__iter__',\n",
       " '__le__',\n",
       " '__lt__',\n",
       " '__module__',\n",
       " '__ne__',\n",
       " '__new__',\n",
       " '__next__',\n",
       " '__reduce__',\n",
       " '__reduce_ex__',\n",
       " '__repr__',\n",
       " '__setattr__',\n",
       " '__sizeof__',\n",
       " '__str__',\n",
       " '__subclasshook__',\n",
       " '_abc_impl',\n",
       " '_checkClosed',\n",
       " '_checkReadable',\n",
       " '_checkSeekable',\n",
       " '_checkWritable',\n",
       " '_check_close',\n",
       " '_close_conn',\n",
       " '_get_chunk_left',\n",
       " '_method',\n",
       " '_peek_chunked',\n",
       " '_read1_chunked',\n",
       " '_read_and_discard_trailer',\n",
       " '_read_next_chunk_size',\n",
       " '_read_status',\n",
       " '_readall_chunked',\n",
       " '_readinto_chunked',\n",
       " '_safe_read',\n",
       " '_safe_readinto',\n",
       " 'begin',\n",
       " 'chunk_left',\n",
       " 'chunked',\n",
       " 'close',\n",
       " 'closed',\n",
       " 'code',\n",
       " 'debuglevel',\n",
       " 'detach',\n",
       " 'fileno',\n",
       " 'flush',\n",
       " 'fp',\n",
       " 'getcode',\n",
       " 'getheader',\n",
       " 'getheaders',\n",
       " 'geturl',\n",
       " 'headers',\n",
       " 'info',\n",
       " 'isatty',\n",
       " 'isclosed',\n",
       " 'length',\n",
       " 'msg',\n",
       " 'peek',\n",
       " 'read',\n",
       " 'read1',\n",
       " 'readable',\n",
       " 'readinto',\n",
       " 'readinto1',\n",
       " 'readline',\n",
       " 'readlines',\n",
       " 'reason',\n",
       " 'seek',\n",
       " 'seekable',\n",
       " 'status',\n",
       " 'tell',\n",
       " 'truncate',\n",
       " 'url',\n",
       " 'version',\n",
       " 'will_close',\n",
       " 'writable',\n",
       " 'write',\n",
       " 'writelines']"
      ]
     },
     "execution_count": 127,
     "metadata": {},
     "output_type": "execute_result"
    }
   ],
   "source": [
    "response = urllib.request.urlopen('http://www.daum.net')\n",
    "dir(response)"
   ]
  },
  {
   "cell_type": "code",
   "execution_count": 128,
   "metadata": {},
   "outputs": [
    {
     "data": {
      "text/plain": [
       "200"
      ]
     },
     "execution_count": 128,
     "metadata": {},
     "output_type": "execute_result"
    }
   ],
   "source": [
    "response.status # 200 : 정상적으로 동작"
   ]
  },
  {
   "cell_type": "code",
   "execution_count": 129,
   "metadata": {},
   "outputs": [],
   "source": [
    "result = response.read() # binary"
   ]
  },
  {
   "cell_type": "code",
   "execution_count": 130,
   "metadata": {},
   "outputs": [],
   "source": [
    "# result.decode(\"utf-8\")"
   ]
  },
  {
   "cell_type": "code",
   "execution_count": 131,
   "metadata": {},
   "outputs": [
    {
     "name": "stdout",
     "output_type": "stream",
     "text": [
      "Package                            Version  \n",
      "---------------------------------- ---------\n",
      "alabaster                          0.7.12   \n",
      "anaconda-client                    1.7.2    \n",
      "anaconda-navigator                 1.9.7    \n",
      "anaconda-project                   0.8.3    \n",
      "asn1crypto                         1.0.1    \n",
      "astroid                            2.3.1    \n",
      "astropy                            3.2.1    \n",
      "atomicwrites                       1.3.0    \n",
      "attrs                              19.2.0   \n",
      "Babel                              2.7.0    \n",
      "backcall                           0.1.0    \n",
      "backports.functools-lru-cache      1.5      \n",
      "backports.os                       0.1.1    \n",
      "backports.shutil-get-terminal-size 1.0.0    \n",
      "backports.tempfile                 1.0      \n",
      "backports.weakref                  1.0.post1\n",
      "beautifulsoup4                     4.8.0    \n",
      "bitarray                           1.0.1    \n",
      "bkcharts                           0.2      \n",
      "bleach                             3.1.0    \n",
      "bokeh                              1.3.4    \n",
      "boto                               2.49.0   \n",
      "Bottleneck                         1.2.1    \n",
      "bs4                                0.0.1    \n",
      "certifi                            2019.9.11\n",
      "cffi                               1.12.3   \n",
      "chardet                            3.0.4    \n",
      "Click                              7.0      \n",
      "cloudpickle                        1.2.2    \n",
      "clyent                             1.2.2    \n",
      "colorama                           0.4.1    \n",
      "comtypes                           1.1.7    \n",
      "conda                              4.8.1    \n",
      "conda-build                        3.18.9   \n",
      "conda-package-handling             1.6.0    \n",
      "conda-verify                       3.4.2    \n",
      "contextlib2                        0.6.0    \n",
      "cryptography                       2.7      \n",
      "cx-Oracle                          7.2.3    \n",
      "cycler                             0.10.0   \n",
      "Cython                             0.29.13  \n",
      "cytoolz                            0.10.0   \n",
      "dask                               2.5.2    \n",
      "decorator                          4.4.0    \n",
      "defusedxml                         0.6.0    \n",
      "distributed                        2.5.2    \n",
      "docutils                           0.15.2   \n",
      "entrypoints                        0.3      \n",
      "et-xmlfile                         1.0.1    \n",
      "fastcache                          1.1.0    \n",
      "filelock                           3.0.12   \n",
      "Flask                              1.1.1    \n",
      "fsspec                             0.5.2    \n",
      "future                             0.17.1   \n",
      "gevent                             1.4.0    \n",
      "glob2                              0.7      \n",
      "greenlet                           0.4.15   \n",
      "h5py                               2.9.0    \n",
      "HeapDict                           1.0.1    \n",
      "html5lib                           1.0.1    \n",
      "idna                               2.8      \n",
      "imageio                            2.6.0    \n",
      "imagesize                          1.1.0    \n",
      "importlib-metadata                 0.23     \n",
      "ipykernel                          5.1.2    \n",
      "ipython                            7.8.0    \n",
      "ipython-genutils                   0.2.0    \n",
      "ipywidgets                         7.5.1    \n",
      "isort                              4.3.21   \n",
      "itsdangerous                       1.1.0    \n",
      "jdcal                              1.4.1    \n",
      "jedi                               0.15.1   \n",
      "Jinja2                             2.10.3   \n",
      "joblib                             0.13.2   \n",
      "json5                              0.8.5    \n",
      "jsonschema                         3.0.2    \n",
      "jupyter                            1.0.0    \n",
      "jupyter-client                     5.3.3    \n",
      "jupyter-console                    6.0.0    \n",
      "jupyter-core                       4.5.0    \n",
      "jupyterlab                         1.1.4    \n",
      "jupyterlab-server                  1.0.6    \n",
      "keyring                            18.0.0   \n",
      "kiwisolver                         1.1.0    \n",
      "lazy-object-proxy                  1.4.2    \n",
      "libarchive-c                       2.8      \n",
      "llvmlite                           0.29.0   \n",
      "locket                             0.2.0    \n",
      "lxml                               4.4.1    \n",
      "MarkupSafe                         1.1.1    \n",
      "matplotlib                         3.1.1    \n",
      "mccabe                             0.6.1    \n",
      "menuinst                           1.4.16   \n",
      "mistune                            0.8.4    \n",
      "mkl-fft                            1.0.14   \n",
      "mkl-random                         1.1.0    \n",
      "mkl-service                        2.3.0    \n",
      "mock                               3.0.5    \n",
      "more-itertools                     7.2.0    \n",
      "mpmath                             1.1.0    \n",
      "msgpack                            0.6.1    \n",
      "multipledispatch                   0.6.0    \n",
      "navigator-updater                  0.2.1    \n",
      "nbconvert                          5.6.0    \n",
      "nbformat                           4.4.0    \n",
      "networkx                           2.3      \n",
      "nltk                               3.4.5    \n",
      "nose                               1.3.7    \n",
      "notebook                           6.0.1    \n",
      "numba                              0.45.1   \n",
      "numexpr                            2.7.0    \n",
      "numpy                              1.16.5   \n",
      "numpydoc                           0.9.1    \n",
      "olefile                            0.46     \n",
      "openpyxl                           3.0.0    \n",
      "packaging                          19.2     \n",
      "pandas                             0.25.1   \n",
      "pandocfilters                      1.4.2    \n",
      "parso                              0.5.1    \n",
      "partd                              1.0.0    \n",
      "path.py                            12.0.1   \n",
      "pathlib2                           2.3.5    \n",
      "patsy                              0.5.1    \n",
      "pep8                               1.7.1    \n",
      "pickleshare                        0.7.5    \n",
      "Pillow                             6.2.0    \n",
      "pip                                19.2.3   \n",
      "pkginfo                            1.5.0.1  \n",
      "pluggy                             0.13.0   \n",
      "ply                                3.11     \n",
      "prometheus-client                  0.7.1    \n",
      "prompt-toolkit                     2.0.10   \n",
      "psutil                             5.6.3    \n",
      "py                                 1.8.0    \n",
      "pycodestyle                        2.5.0    \n",
      "pycosat                            0.6.3    \n",
      "pycparser                          2.19     \n",
      "pycrypto                           2.6.1    \n",
      "pycurl                             7.43.0.3 \n",
      "pyflakes                           2.1.1    \n",
      "Pygments                           2.4.2    \n",
      "pylint                             2.4.2    \n",
      "pyodbc                             4.0.27   \n",
      "pyOpenSSL                          19.0.0   \n",
      "pyparsing                          2.4.2    \n",
      "pyreadline                         2.1      \n",
      "pyrsistent                         0.15.4   \n",
      "PySocks                            1.7.1    \n",
      "pytest                             5.2.1    \n",
      "pytest-arraydiff                   0.3      \n",
      "pytest-astropy                     0.5.0    \n",
      "pytest-doctestplus                 0.4.0    \n",
      "pytest-openfiles                   0.4.0    \n",
      "pytest-remotedata                  0.3.2    \n",
      "python-dateutil                    2.8.0    \n",
      "pytz                               2019.3   \n",
      "PyWavelets                         1.0.3    \n",
      "pywin32                            223      \n",
      "pywinpty                           0.5.5    \n",
      "PyYAML                             5.1.2    \n",
      "pyzmq                              18.1.0   \n",
      "QtAwesome                          0.6.0    \n",
      "qtconsole                          4.5.5    \n",
      "QtPy                               1.9.0    \n",
      "requests                           2.22.0   \n",
      "rope                               0.14.0   \n",
      "ruamel-yaml                        0.15.46  \n",
      "scikit-image                       0.15.0   \n",
      "scikit-learn                       0.21.3   \n",
      "scipy                              1.3.1    \n",
      "seaborn                            0.9.0    \n",
      "selenium                           3.141.0  \n",
      "Send2Trash                         1.5.0    \n",
      "setuptools                         41.4.0   \n",
      "simplegeneric                      0.8.1    \n",
      "singledispatch                     3.4.0.3  \n",
      "six                                1.12.0   \n",
      "snowballstemmer                    2.0.0    \n",
      "sortedcollections                  1.1.2    \n",
      "sortedcontainers                   2.1.0    \n",
      "soupsieve                          1.9.3    \n",
      "Sphinx                             2.2.0    \n",
      "sphinxcontrib-applehelp            1.0.1    \n",
      "sphinxcontrib-devhelp              1.0.1    \n",
      "sphinxcontrib-htmlhelp             1.0.2    \n",
      "sphinxcontrib-jsmath               1.0.1    \n",
      "sphinxcontrib-qthelp               1.0.2    \n",
      "sphinxcontrib-serializinghtml      1.1.3    \n",
      "sphinxcontrib-websupport           1.1.2    \n",
      "spyder                             3.3.6    \n",
      "spyder-kernels                     0.5.2    \n",
      "SQLAlchemy                         1.3.9    \n",
      "statsmodels                        0.10.1   \n",
      "sympy                              1.4      \n",
      "tables                             3.5.2    \n",
      "tblib                              1.4.0    \n",
      "terminado                          0.8.2    \n",
      "testpath                           0.4.2    \n",
      "toolz                              0.10.0   \n",
      "tornado                            6.0.3    \n",
      "tqdm                               4.36.1   \n",
      "traitlets                          4.3.3    \n",
      "unicodecsv                         0.14.1   \n",
      "urllib3                            1.24.2   \n",
      "wcwidth                            0.1.7    \n",
      "webencodings                       0.5.1    \n",
      "Werkzeug                           0.16.0   \n",
      "wheel                              0.33.6   \n",
      "widgetsnbextension                 3.5.1    \n",
      "win-inet-pton                      1.1.0    \n",
      "win-unicode-console                0.5      \n",
      "wincertstore                       0.2      \n",
      "wrapt                              1.11.2   \n",
      "xlrd                               1.2.0    \n",
      "XlsxWriter                         1.2.1    \n",
      "xlwings                            0.15.10  \n",
      "xlwt                               1.3.0    \n",
      "zict                               1.0.0    \n",
      "zipp                               0.6.0    \n",
      "pandas-ext (0.5.1)                  - Python Pandas extensions for pandas dataframes\n",
      "pandas-mapper (0.1.2)               - Pandas Mapper\n",
      "pandas-sets (0.1.1)                 - Pandas - Sets:  Set-oriented Operations in Pandas\n",
      "sklearn-pandas (1.8.0)              - Pandas integration with sklearn\n",
      "pandas-msgpack (0.1.4)              - Pandas interface to msgpack\n",
      "pandas-path (0.1.2)                 - Pathlib functionality for pandas.\n",
      "pandas-parallel (0.1.7)             - pandas apply parallel\n",
      "pandas-multiprocessing (0.2.1)      - Pandas Multiprocessing Support\n",
      "pandas-should (0.1.0)               - pandas extension for asserting\n",
      "pandas-redistrict (0.0.3)           - Redistricting of pandas dataframes\n",
      "pandas-light (1.0.2)                - Some pandas extensions.\n",
      "simple-pandas (0.2.1)               - A much simpler pandas\n",
      "pandas-lookup (0.1.4)               - pandas-lookup adds remote lookup tables to a Pandas DataFrame.\n",
      "pandas-jalali (0.1.2)               - Manipulate with Jalali date in pandas\n",
      "pandas-compat (0.1.1)               - Pandas API compatiblity layer\n",
      "pandas-td (0.10.0)                  - Pandas extension for Treasure Data\n",
      "pandas-ply (0.2.1)                  - functional data manipulation for pandas\n",
      "pandas-linker (0.0.2)               - Linking rows of pandas dataframes\n",
      "pandas-multiprocess (0.1.2)         - Multiprocessing Support for Pandas DataFrame\n",
      "pandas-montecarlo (0.0.2)           - Monte Carlo Simulator for Pandas\n",
      "pandas-gbq (0.13.0)                 - Pandas interface to Google BigQuery\n",
      "pandas-util (0.0.1)                 - Some utils for working with pandas.\n",
      "pandas-summary (0.0.7)              - An extension to pandas describe function.\n",
      "pandas-helpers (0.1)                - Helper functions for working with pandas\n",
      "pandas-datareader (0.8.1)           - Data readers extracted from the pandas codebase,should be compatible with recent pandas versions\n",
      "fuzzy-pandas (0.1)                  - Fuzzy matching in pandas using csvmatch\n",
      "opulent-pandas (0.0.4)              - A package to validate the schema of a pandas dataframe\n",
      "pandas-dedupe (1.0.0)               - The Dedupe library made easy with Pandas.\n",
      "pandas-utility (0.1.4)              - Some useful Pandas utility functions\n",
      "pandas-transformers (0.2.3)         - Use pandas dataframes in sklearn pipelines\n",
      "pandas-extras (0.0.1)               - Extension package for the popular Pandas library\n",
      "pandas-bamboo (0.1.5)               - Data manipulation for python using Pandas\n",
      "pandas-profiling (2.4.0)            - Generate profile report for pandas DataFrame\n",
      "trash-pandas (0.2.5)                - Analytic tool for Pandas DataFrame exploration\n",
      "pandas-npi (0.45)                   - NPI validation made easy with Pandas.\n",
      "pandas-htools (0.0.3)               - Tools for Exploratory data analysis with Pandas\n",
      "pandas-usaddress (0.21)             - The usaddress library made easy with Pandas.\n",
      "pandas-ml (0.6.1)                   - pandas, scikit-learn and xgboost integration\n",
      "pandas-validation (0.5.0)           - A Python package for validating data with pandas\n",
      "xdi-pandas (0.2.0)                  - Read XDI files to Pandas dataframes\n",
      "pandas-sql (0.1.10)                 - pandas to_sql by update, ignore or replace\n",
      "pandas-vectors (0.1.1)              - convenience functions for dealing with vectors in panda dataframes\n",
      "quick-pandas (0.1.5)                - A monkey patch that makes pandas run faster\n",
      "pandas-cub (0.0.7)                  - A simple data analysis library similar to pandas\n",
      "otis-pandas (0.0.1)                 - Open Timeseries Interface Service pandas bindings\n",
      "pandas-vet (0.2.1)                  - A flake8 plugin to lint pandas in an opinionated way\n",
      "pandas-io (0.0.1)                   - Blazing fast pandas i/o library\n",
      "pandas-datadict (0.1.1)             - Data dictionary functionality for pandas data frames\n",
      "pandas-ga (0.1)                     - Reading Google Analytics report into Pandas dataframe\n",
      "mmal-pandas (0.0.2)                 - Meteorological Middleware Application Layer pandas bindings\n",
      "eda-pandas (0.1.2)                  - An Exploratory Data Analysis tool for pandas dataframe\n",
      "pandas-anaphora (0.1b0)             - Anaphoric functions for columns in Pandas data frames\n",
      "pandas-bokeh (0.4.2)                - Bokeh plotting backend for Pandas, GeoPandas & Pyspark\n",
      "pandas-plink (2.0.3)                - Read PLINK files into Pandas data frames\n",
      "pandas-oracle (2.1.4)               - Tools for working with an Oracle database from Pandas\n",
      "pandas-explode (0.0.6)              - Explode utility for Pandas dataframes (similar to UNNEST or explode)\n",
      "pandas-rs (0.1.6)                   - pandas extension for PostgreSQL and AWS RedShift (Not Officail library)\n",
      "root-pandas (0.7.0)                 - Read and save pandas DataFrames from and to ROOT files\n",
      "tempodb-pandas (0.1.1)              - Pandas functions for converting between Tempo data types\n",
      "pandas-refract (1.2.5)              - Unofficial convenience functions that deal with fragmenting Pandas dataframes.\n",
      "sdi-pandas (0.0.35)                 - List of operators using the pandas module for processing the input\n",
      "pandas-flavor (0.2.0)               - The easy way to write your own Pandas flavor.\n",
      "pandas-multi (2019.3.12)            - Read multiple csvs or Excel files as a single pandas DataFrame.\n",
      "fast-pandas (1.0.0)                 - Simple library for applying Pandas row/column functions in parallel\n",
      "git-pandas (1.2.0)                  - A utility for interacting with data from git repositories as Pandas dataframes\n",
      "es-pandas (0.0.9)                   - Read, write and update large scale pandas DataFrame with ElasticSearch\n",
      "pandas-mssql (0.7)                  - Pandas DataFrame methods for reading from and writing to SQL Server\n",
      "pandas-redshift (2.0.1)             - Load data from redshift into a pandas DataFrame and vice versa.\n",
      "pandas-ta (0.1.36b)                 - An easy to use Python 3 Pandas Extension with 80+ Technical Analysis Indicators. Can be called from a Pandas DataFrame or standalone like TA-Lib.\n",
      "pandas-log (0.1.5)                  - pandas-log provides feedback about basic pandas operations. It provides simple wrapper functions for the most common functions, such as apply, map, query and more.\n",
      "pandas-schema (0.3.4)               - A validation library for Pandas data frames using user-friendly schemas\n",
      "pandas-qt (0.2.0)                   - Utilities to use pandas (the data analysis / manipulation library for Python) with Qt.\n",
      "pandas-charm (0.3.0)                - A small Python library for getting character matrices (alignments) into and out of pandas\n",
      "pandas-lite (0.1.2)                 - A lighter version of pandas. No Series, No hierarchical indexing, only one indexer [ ]\n",
      "dagster-pandas (0.6.9)              - Utilities and examples for working with pandas and dagster, an opinionated framework for expressing data pipelines\n",
      "behave-pandas (0.3.0)               - Provides helper functions to help converting behave tables into pandas dataframes and vice versa.\n",
      "gspread-pandas (2.2.1)              - A package to easily open an instance of a Google spreadsheet and interact with worksheets through Pandas DataFrames.\n",
      "pandas-interactive-html (0.1.0)     - add to_interactive_html method to pandas\n",
      "pandas-datapackage-reader (0.13.1)  - Pandas Data Package Reader\n",
      "pandas (1.0.0)                      - Powerful data structures for data analysis, time series, and statistics\n",
      "  INSTALLED: 0.25.1\n",
      "  LATEST:    1.0.0\n",
      "pyspark-pandas (0.0.7)              - Tools and algorithms for pandas Dataframes distributed on pyspark. Please consider the SparklingPandas project before this one\n",
      "tableschema-pandas (1.1.0)          - Generate Pandas data frames, load and extract data, based on JSON Table Schema descriptors.\n",
      "pandas-bj (0.1.1)                   - Pandas BJ (Between Join) provides efficient way to use `JOIN` and `BETWEEN` comparison. with pandas.DataFrame.\n",
      "jsontableschema-pandas (0.5.0)      - Generate Pandas data frames, load and extract data, based on JSON Table Schema descriptors.\n",
      "pandas-fpl (0.1.0)                  - Pandas wrapper for Fantasy Premier League API based on the FPL package: https://github.com/amosbastian/fpl\n",
      "pandas-highcharts (0.5.2)           - pandas-highcharts is a Python package which allows you to easily build Highcharts plots with pandas.DataFrame objects.\n",
      "rest-pandas (1.1.0)                 - Serves up pandas dataframes via the Django REST Framework for client-side(i.e. d3.js) visualizations\n",
      "pandas-market-calendars (1.2)       - Market and exchange trading calendars for pandas\n",
      "pandas-datareader-gdax (0.1.2)      - GDAX data for Pandas in the style of DataReader.\n",
      "clean-pandas (1.0.0)                - Pandas accessor for replacing, removing, or encrypting a DataFrame or Series that contains Personally Identifiable Information (PII) or Protected Health Information (PHI)\n",
      "pandas-ml-utils (0.0.24)            - Augment pandas DataFrame with methods for machine learning\n",
      "pandas-transform-checker (0.1.1)    - function annotations to check properties on pandas dataframe transformations\n",
      "yahoo-finance-pandas (1.0.3)        - Stock and Option data from Yahoo Finance returned in Pandas DataFrames\n",
      "dagster-pandas-nightly (2020.1.30)  - Utilities and examples for working with pandas and dagster, an opinionated framework for expressing data pipelines\n",
      "pandas-sql-wrapper (0.2.0)          - Tool to help pandas talk to mysql or postgresql databases.Introduces upsert and schema updating capabilities when writing dataframes to sql tables.\n",
      "stats-to-pandas (0.0.7)             - Import data from Statistics Norway, Sweden, Ireland , UK and others that use the stat-json format to a Pandas dataframe in Python\n",
      "google-pandas-load (2.0.1)          - Wrapper for transferring big data from A to B, where A and B are distinct and chosen between BigQuery, Storage, a local folder and a pandas DataFrame.\n",
      "tfs-pandas (1.0.3)                  - Read and write tfs files.\n",
      "pandas-timeseries (0.0.6)           - Time series for dealing with window/point data sources, which has interpolation midful of gaps\n",
      "pandas-diligent (0.0.1)             - UNKNOWN\n"
     ]
    }
   ],
   "source": [
    "!pip list  # 설치된 패키지 목록\n",
    "!pip search pandas"
   ]
  },
  {
   "cell_type": "code",
   "execution_count": 132,
   "metadata": {},
   "outputs": [
    {
     "name": "stdout",
     "output_type": "stream",
     "text": [
      "numpy (1.18.1)                          - NumPy is the fundamental package for array computing with Python.\n",
      "  INSTALLED: 1.16.5\n",
      "  LATEST:    1.18.1\n",
      "numpy-alignments (0.0.2)                - Numpy Alignments\n",
      "numpy-utils (0.1.6)                     - NumPy utilities.\n",
      "numpy-cloud (0.0.5)                     - Numpy in the cloud\n",
      "numpy-turtle (0.2)                      - Turtle graphics with NumPy\n",
      "numpy-sugar (1.5.0)                     - Missing NumPy functionalities\n",
      "root-numpy (4.8.0)                      - The interface between ROOT and NumPy\n",
      "msgpack-numpy (0.4.4.3)                 - Numpy data serialization using msgpack\n",
      "numpy-quaternion (2019.12.11.22.25.52)  - Add built-in support for quaternions to numpy\n",
      "numpy-partition (1.18.9)                - SQL PARTITION BY and window functions for NumPy\n",
      "mapchete-numpy (0.1)                    - Mapchete NumPy read/write extension\n",
      "numpy-posit (1.15.2.0.0.1.dev2)         - posit (unum type III) integrated NumPy.\n",
      "numpy-aarch64 (1.16.4)                  - NumPy is the fundamental package for array computing with Python.\n",
      "numpy-mips64 (1.17.4)                   - NumPy is the fundamental package for array computing with Python.\n",
      "intel-numpy (1.15.1)                    - NumPy optimized with Intel(R) MKL library\n",
      "numpy-unit (0.1.1)                      - A package providing an unit system for numpy multidimensionnal arrays.\n",
      "numpy-mkl (1.10.2)                      - NumPy: array processing for numbers, strings, records, and objects.\n",
      "numpy-syncer (0.0.1)                    - Manage a Numpy data structure using Peewee-Sync\n",
      "ccv-numpy (0.0.2)                       - Wrapper module for ccv using numpy arrays interface\n",
      "nn-numpy (0.0.1)                        - A package which contains a simple implementation of neural network with numpy\n",
      "django-numpy (1.0.1)                    - Application for Django projects that adds some utilities and integration tools with Numpy.\n",
      "BSON-NumPy (0.1)                        - Module for converting directly from BSON to NumPy ndarrays and vice versa\n",
      "dicom-numpy (0.2.0)                     - Extract image data into a 3D numpy array from a set of DICOM files.\n",
      "dl-with-numpy (0.0.3)                   - Simple deep learning with numpy\n",
      "numpy-html (0.1.3)                      - A simple table renderer for numpy arrays. Provides a rich display hook for use with Jupyter Lab / Notebook.\n",
      "numpy-indexed (0.3.5)                   - This package contains functionality for indexed operations on numpy ndarrays, providing efficient vectorized functionality such as grouping and set operations.\n",
      "circular-buffer-numpy (0.0.8)           - Package for circular buffer numpy array\n",
      "build-requires-numpy (2019.12.2)        - Meta-package to install older versions of Numpy.\n",
      "oldest-supported-numpy (0.2)            - Meta-package that provides the oldest supported version of Numpy\n",
      "image-to-numpy (1.0.0)                  - Load an image into a numpy array with proper Exif orientation handling\n",
      "numpy-image-widget (2019.1.6)           - An easy-to-use Jupyter widget for displaying images from Numpy data arrays\n",
      "django-numpy-json-encoder (0.1.3)       - Django JSON encoder with numpy support.\n",
      "faster-numpy (0.1.2)                    - \n",
      "numpy-stl (2.10.1)                      - Library to make reading, writing and modifying both binary and ascii STL files easy.\n",
      "hypothesis-numpy (2.0.0)                - Adds support for generating datetime to Hypothesis\n",
      "numpy-groupies (0.9.10)                 - Optimised tools for group-indexing operations: aggregated sum and more.\n",
      "deuces-numpy (0.5)                      - \n",
      "numpy-financial (1.0.0)                 - Simple financial functions\n",
      "zen-of-numpy (0.1)                      - \n",
      "npplus (0.9.8)                          - Enhancements to Numpy\n",
      "o243kgmvs924mtvd034mg (0.01)            - NumPy Testing\n",
      "gumpy (0.1)                             - Genetics with Numpy\n",
      "np (1.0.2)                              - np = numpy++: numpy with added convenience functionality\n",
      "jumpy (0.2.4)                           - Numpy and nd4j interop\n",
      "maskedarray (0.1)                       - NumPy Masked Array\n",
      "oldnumeric (1.0.4)                      - The oldnumeric numpy package\n",
      "numpoly (0.1.6)                         - Polynomials as a numpy datatype\n",
      "nptweak (0.1.0)                         - utility functions for numpy\n",
      "ktnumpy (0.1.3)                         - Kotlin bindings for Numpy\n",
      "nptyping (0.3.1)                        - Type hints for Numpy\n",
      "match-arrays (0.0.1)                    - Matching of Numpy arrays\n",
      "numpyro (0.2.4)                         - Pyro PPL on NumPy\n",
      "vidsrc (2020.1.1)                       - Video Frameserver for Numpy\n",
      "ndarray (0.8)                           - Tools for numpy ndarray\n",
      "wrapnumpy3 (0.0.3)                      - Wrapper of Numpy in Python3.\n",
      "somber (2.0.1)                          - Self-Organizing Maps in Numpy\n",
      "zappy (0.2.0)                           - Distributed processing with NumPy and Zarr.\n",
      "sqlite3ndarray (0.3.2)                  - sqlite3 helpers for numpy ndarrays\n",
      "axarray (0.1.1)                         - numpy array with labeled axes\n",
      "wendelin.core (0.13)                    - Out-of-core NumPy arrays\n",
      "sampyl-mcmc (0.3)                       - MCMC Samplers in Python & Numpy\n",
      "gsn_numpy_util (0.1.0)                  - Toolbox for working with Numpy arrays.\n",
      "homog (0.1.14)                          - Utilities for Homogeneous Coordinates with Numpy\n",
      "autoarray (0.7.2)                       - numpy extension for masked purposes\n",
      "npstreams (1.6.2)                       - Streaming operations on NumPy arrays\n",
      "sym2num (0.1.dev2)                      - Sympy to numpy code generator.\n",
      "blocked-matrix-utils (1.0.1)            - NumPy wrappers for blocked matrices\n",
      "dynarray (0.1.3)                        - Dynamically growable numpy arrays.\n",
      "permanent (1.1.1)                       - Calculates the permanent of a Numpy matrix\n",
      "pstar (0.1.9)                           - pstar: numpy for arbitrary data\n",
      "sompy (0.1.1)                           - Numpy based SOM Library\n",
      "spartan (0.06)                          - Distributed Numpy-like arrays.\n",
      "fastjet (0.0.3)                         - The interface between FastJet and NumPy\n",
      "npdoc (1.0.1)                           - In-notebook NumPy man pages\n",
      "gnuplotlib (0.32)                       - Gnuplot-based plotting for numpy\n",
      "multipolyfit (0.0.1)                    - Multivariate Polynomial fitting with NumPy\n",
      "nppretty (1.0.0)                        - Pretty printer for numpy arrays.\n",
      "numpythia (1.1.0)                       - The interface between PYTHIA and NumPy\n",
      "degas (0.1.4)                           - Fluent interface for numpy arrays.\n",
      "PyUblas (2017.1)                        - Seamless Numpy-UBlas interoperability\n",
      "pygeos (0.5)                            - GEOS wrapped in numpy ufuncs\n",
      "numm (0.3)                              - numpy-based multimedia library\n",
      "pyjet (1.6.0)                           - The interface between FastJet and NumPy\n",
      "snuggs (1.4.7)                          - Snuggs are s-expressions for Numpy\n",
      "bohrium (0.11.0.post54)                 - Bohrium Python/NumPy Backend\n",
      "fewerbytes (0.0.1)                      - Compression techniques for numpy arrays\n",
      "numpy_ringbuffer (0.2.1)                - Ring buffer implementation for numpy\n",
      "ntype (0.0.1)                           - Type Handler using NumPy\n",
      "fastfunc (0.2.2)                        - Fast numpy ufunc operations\n",
      "array_collections (0.1.9)               - A collection of numpy ndarray subclasses.\n",
      "pyache (0.1.0)                          - A simple numpy caching library\n",
      "opt-einsum (3.1.0)                      - Optimizing numpys einsum function\n",
      "displayarray (0.7.2)                    - Tool for displaying numpy arrays.\n",
      "sortednp (0.2.1)                        - Merge and intersect sorted numpy arrays.\n",
      "auto-diff (0.3.0)                       - An automatic differentiation library for Python+NumPy.\n",
      "numphy (0.0.2)                          - Physics objects backed by NumPy and/or TensorFlow.\n",
      "zmqnumpy (0.1)                          - numpy array over zmq sockets\n",
      "pynetcdf (0.7)                          - Standalone Scientific.IO.NetCDF (2.4.11) built for NumPy\n",
      "npcb (0.0.1)                            - Copy NumPy arrays via the clipboard\n",
      "afnumpy (1.3)                           - A GPU-ready drop-in replacement for numpy\n"
     ]
    }
   ],
   "source": [
    "!pip search numpy"
   ]
  },
  {
   "cell_type": "code",
   "execution_count": 133,
   "metadata": {},
   "outputs": [
    {
     "name": "stdout",
     "output_type": "stream",
     "text": [
      "selenium (3.141.0)                       - Python bindings for Selenium\n",
      "  INSTALLED: 3.141.0 (latest)\n",
      "scrapy-selenium (0.0.7)                  - Scrapy with selenium\n",
      "pytest-selenium (1.17.0)                 - pytest plugin for Selenium\n",
      "bonobo-selenium (0.1.1)                  - Bonobo Selenium Extension\n",
      "webtest-selenium (0.1)                   - Selenium testing with WebTest\n",
      "masonite-selenium (0.0.3)                - Selenium Testing Package\n",
      "selenium-g11n (1.0.3)                    - aliyun g11n selenium\n",
      "django-selenium (0.9.8)                  - Django Selenium Integration\n",
      "selenium-pom (0.1.4)                     - Page Object Model for Selenium\n",
      "airtest-selenium (1.0.3)                 - Selenium with airtest test framework.\n",
      "Core-Selenium (0.1.3)                    - Selenium framework source code\n",
      "selenium-utils (0.4)                     - Common utils for working with Selenium\n",
      "snapshot-selenium (0.0.2)                - Render echarts using selenium\n",
      "selenium-robot (0.0.6)                   - This is a robot description base selenium.\n",
      "sbo-selenium (0.7.2)                     - Selenium testing framework for Django applications\n",
      "selenium-library (0.0.3)                 - A human readable wrapper class for selenium\n",
      "selenium-probes (0.1.0)                  - A framework for building Selenium-based probes.\n",
      "eyes-selenium (4.1.11)                   - Applitools Python SDK. Selenium package\n",
      "selenium-findtext (0.1.5)                - Text finding helpers for Selenium tests\n",
      "edc-selenium (0.1.3)                     - TestCaseMixins for selenium tests on the clinicedc/edc\n",
      "easy-selenium (0.1.1)                    - Tool to make the use of selenium library easier\n",
      "selenium-linux (3.144.13)                - selenium_linux Python language bindings for Selenium WebDriver.\n",
      "selenium-datatable (0.2.1)               - A small library for simplifying a table object in selenium\n",
      "buster-selenium (0.1)                    - Manage buster.js slave browsers using selenium.\n",
      "scrapy-selenium-mark (0.0.10)            - Scrapy with selenium\n",
      "selenium-pages (0.1.0a0)                 - A page based framework for creating Selenium test suites\n",
      "selenium-docker (0.5.0)                  - Additional selenium drivers that utilize docker containers for their UI.\n",
      "play-selenium (0.0.3)                    - pytest plugin that let you drive a browser with Selenium\n",
      "Selenium-Screenshot (1.5.0)              - This package is used to Clipped Images of Html Elements of Selenium Webdriver\n",
      "selenium-aurelia (0.1.1)                 - Wrapper around selenium driver to ease testing of Aurelia based applications.\n",
      "selenium-wire (1.0.11)                   - Extends Selenium to give you the ability to inspect requests made by the browser.\n",
      "selenium-page-objects (0.2.1)            - page object based on selenium.\n",
      "selenium-crawler-template (0.1.2)        - Boilerplate for developing crawler with Selenium.\n",
      "ctreport-selenium (1.0.2)                - ctreport for selenium automation will provide simple and creative html file for day to day software testing\n",
      "scrapy-selenium-python-pi (0.2.0)        - Scrapy with selenium\n",
      "selenium-astride (0.3.1)                 - Framework to use Selenium loud and clear, astride. Use it with Django, Flask or your favourite web framework.\n",
      "django-selenium-clean (0.3.2)            - Write clean Selenium tests in Django\n",
      "questions-three-selenium (3.4.1.0)       - Selenium integration and tools for questions-three\n",
      "selenium-unittest-common (1.0.3)         - Python modules for selenium unit test\n",
      "selenium-smart-locator (0.2.0)           - A (somewhat) smart locator class for Selenium.\n",
      "selenium-respectful (0.1.0)              - Minimalist Selenium webdriver wrapper to work within rate limits of any amount of services simultaneously. Parallel processing friendly.\n",
      "local-selenium-pool (1.0.7)              - Concurrent local selenium execution using multiprocessing_on_dill\n",
      "dce-mh-selenium (0.3.0)                  - Selenium tasks and page objects for DCE Matterhorn\n",
      "eyes-selenium-images (3.6)               - Applitools Eyes SDK For Selenium Python WebDriver\n",
      "django-nose-selenium (0.7.3)             - A nose plugin to run selenium tests with django\n",
      "pytest-selenium-pdiff (0.4.0)            - A pytest package implementing perceptualdiff for Selenium tests.\n",
      "pageplanner-selenium-benjihughes (0.14)  - Offers a selenium interface to gather arguments for pageplanner.\n",
      "django-selenium-boilerplate (0.0.6)      - Boilerplate for setting up selenium tests in Django\n",
      "selenium-requests (1.3)                  - Extends Selenium WebDriver classes to include the request function from the Requests library, while doing all the needed cookie and request headers handling.\n",
      "simple-nose-selenium (0.2.1)             - Run your Selenium TestCase's in chrome, firefox or saucelabs\n",
      "django-selenium-login (2.0.0)            - A quick login for selenium tests to be used in Django projects\n",
      "axe-selenium-python (2.1.6)              - Python library to integrate axe and selenium for web                 accessibility testing.\n",
      "selenium-requests-html (1.0)             - Fork of selenium-requests that extends Selenium WebDriver classes to include the functionality from the Requests-HTML library, while doing all the needed cookie and request headers handling. Credit for most of what makes this work goes toto Chris Braun and his original work done on Selenium-Requestshttps://github.com/cryzed/Selenium-Requests\n",
      "selenium-testing-module (1.0.3)          - A module to be used with Selenium; helps make test scripts easier to write.\n",
      "selenium-page-factory (1.5)              - Python library provides page factory approach to implement page object model in selenium\n",
      "django-selenium-test-runner (0.1.0)      - Django Selenium test runner.\n",
      "\n",
      "Incorporate functional testing into Django's manage.py test subcommand\n",
      "using Selenium web testing tools.\n",
      "selenium-helper (0.1.2.2)                - \n",
      "eric-selenium (1.0)                      - &#39318;&#27425;&#27979;&#35797;\n",
      "selenium-base (0.1.0)                    - Web Automation & Testing Framework - http://seleniumbase.com\n",
      "selenium-sunbro (0.0.3)                  - Easily create page objects with a declarative syntax\n",
      "selenium-elements (0.0.2)                - Page object model made easy.\n",
      "nose-selenium (0.07)                     - Control the WebDriver instance in your scripts with command-line options\n",
      "selenium-configurator (0.1.1)            - Helper API to define multiple webdrivers in config files.\n",
      "selenium-components (0.2)                - Page objects for common components\n",
      "selenium-chrome-screenshot (0.0.1)       - UNKNOWN\n",
      "selenium-page-elements (0.1.6)           - A small library for simplifying page objects.\n",
      "react-select-selenium (0.0.1)            - package for react select\n",
      "percy-python-selenium (0.1.2)            - Python client for visual regression testing with Percy (https://percy.io).\n",
      "selenium-react-select (0.0.4)            - package for react select : version 1 and 2\n",
      "selenium-move-cursor (0.0.8)             - Move mouse cursor to element in browser\n",
      "selenium-saucelabs-python (0.3.1)        - Sauce OnDemand driver for Python\n",
      "kw-selenium-wrapper (0.0.0)              - This is a dummy package.\n",
      "seleniumx (0.1.0)                        - Selenium extension\n",
      "iridium (0.1.61)                         - Selenium wrapper\n",
      "pakselenium (0.2.5)                      - Selenium Wrapper\n",
      "webdriver-bot (0.33)                     - wrapper for selenium\n",
      "brome (1.2.1)                            - Selenium Framework\n",
      "anna-lib (0.0.10)                        - selenium interface\n",
      "FlynnID (0.3)                            - Registers Selenium nodes to a Selenium Grid hub.\n",
      "siderunner (0.2.5)                       - Runs Selenium IDE tests without Selenium IDE.\n",
      "Testingbot (0.0.5)                       - Python selenium package to be used with TestingBot.com's Selenium Grid\n",
      "selenible (0.0.4)                        - selenium like ansible\n",
      "spotify-web-controller (0.1.3)           - Spotify_Web_Controller using Selenium\n",
      "autoselenium (0.1.6)                     - Ready-to-run Selenium.\n",
      "gocept.jasmine (0.7)                     - Jasmine integration for selenium.\n",
      "SeleniumCookies (0.4)                    - COOKIE INJECTION FOR SELENIUM\n",
      "Driloader (1.2.5)                        - Driver downloader for Selenium\n",
      "py.saunter (0.63)                        - An opinionated Selenium framework\n",
      "SeleniumCookie (0.2)                     - COOKIE INJECTION FOR SELENIUM\n",
      "rabird.selenium (0.12.5)                 - An extension library for selenium\n",
      "pybrowsertest (0.0.5)                    - Facility to use Selenium\n",
      "edw.seleniumtesting (1.1)                - Selenium testing metapackage\n",
      "python-brimstone (0.20140122)            - convenient selenium wrapper\n",
      "wirewrapper (0.1.0)                      - Wrapping Selenium with class\n",
      "pintium (1.1.0)                          - Pinterest + Selenium = Pintium\n",
      "Dyson (1.1.2)                            - Dyson Selenium framework.\n",
      "scrapy-webdriver (0.35)                  - Classes based on selenium and selenium-wire webdriver.Firefox and with methods\t for scraping.\n",
      "selenium_unittest (0.2.3)                - Selenium Unit Test Framework\n",
      "aloe-webdriver (0.6.0)                   - Selenium webdriver extension for Aloe\n",
      "tbselenium (0.4.2)                       - Tor Browser automation with Selenium\n"
     ]
    }
   ],
   "source": [
    "!pip search selenium"
   ]
  },
  {
   "cell_type": "code",
   "execution_count": 134,
   "metadata": {},
   "outputs": [
    {
     "name": "stdout",
     "output_type": "stream",
     "text": [
      "# packages in environment at C:\\Users\\student\\Anaconda3:\n",
      "#\n",
      "# Name                    Version                   Build  Channel\n",
      "selenium                  3.141.0                  pypi_0    pypi\n"
     ]
    }
   ],
   "source": [
    "!conda list selenium"
   ]
  },
  {
   "cell_type": "code",
   "execution_count": 135,
   "metadata": {},
   "outputs": [],
   "source": [
    "# !pip install numpy"
   ]
  },
  {
   "cell_type": "code",
   "execution_count": 136,
   "metadata": {},
   "outputs": [
    {
     "name": "stdout",
     "output_type": "stream",
     "text": [
      "# packages in environment at C:\\Users\\student\\Anaconda3:\n",
      "#\n",
      "# Name                    Version                   Build  Channel\n",
      "selenium                  3.141.0                  pypi_0    pypi\n"
     ]
    }
   ],
   "source": [
    "!conda list selenium"
   ]
  },
  {
   "cell_type": "code",
   "execution_count": 137,
   "metadata": {},
   "outputs": [
    {
     "data": {
      "text/plain": [
       "['C:\\\\dev_python',\n",
       " 'C:\\\\Users\\\\student\\\\Anaconda3\\\\python37.zip',\n",
       " 'C:\\\\Users\\\\student\\\\Anaconda3\\\\DLLs',\n",
       " 'C:\\\\Users\\\\student\\\\Anaconda3\\\\lib',\n",
       " 'C:\\\\Users\\\\student\\\\Anaconda3',\n",
       " '',\n",
       " 'C:\\\\Users\\\\student\\\\Anaconda3\\\\lib\\\\site-packages',\n",
       " 'C:\\\\Users\\\\student\\\\Anaconda3\\\\lib\\\\site-packages\\\\win32',\n",
       " 'C:\\\\Users\\\\student\\\\Anaconda3\\\\lib\\\\site-packages\\\\win32\\\\lib',\n",
       " 'C:\\\\Users\\\\student\\\\Anaconda3\\\\lib\\\\site-packages\\\\Pythonwin',\n",
       " 'C:\\\\Users\\\\student\\\\Anaconda3\\\\lib\\\\site-packages\\\\IPython\\\\extensions',\n",
       " 'C:\\\\Users\\\\student\\\\.ipython']"
      ]
     },
     "execution_count": 137,
     "metadata": {},
     "output_type": "execute_result"
    }
   ],
   "source": [
    "import sys\n",
    "sys.path # 시스템에 섞여있는 모든 경로 찾기"
   ]
  },
  {
   "cell_type": "code",
   "execution_count": 138,
   "metadata": {},
   "outputs": [],
   "source": [
    "import mymodule # 우리의 의지와 상관없이 실행됨"
   ]
  },
  {
   "cell_type": "code",
   "execution_count": 139,
   "metadata": {},
   "outputs": [
    {
     "data": {
      "text/plain": [
       "'__main__'"
      ]
     },
     "execution_count": 139,
     "metadata": {},
     "output_type": "execute_result"
    }
   ],
   "source": [
    "__name__ # 나 자신은 언제나 main이다."
   ]
  },
  {
   "cell_type": "code",
   "execution_count": 140,
   "metadata": {},
   "outputs": [],
   "source": [
    "del mymodule"
   ]
  },
  {
   "cell_type": "code",
   "execution_count": 141,
   "metadata": {},
   "outputs": [],
   "source": [
    "import mymodule"
   ]
  },
  {
   "cell_type": "code",
   "execution_count": 142,
   "metadata": {},
   "outputs": [
    {
     "data": {
      "text/plain": [
       "<module 'mymodule' from 'C:\\\\dev_python\\\\mymodule.py'>"
      ]
     },
     "execution_count": 142,
     "metadata": {},
     "output_type": "execute_result"
    }
   ],
   "source": [
    "importlib.reload(mymodule)"
   ]
  },
  {
   "cell_type": "code",
   "execution_count": 143,
   "metadata": {},
   "outputs": [
    {
     "data": {
      "text/plain": [
       "['Student',\n",
       " '__builtins__',\n",
       " '__cached__',\n",
       " '__doc__',\n",
       " '__file__',\n",
       " '__loader__',\n",
       " '__name__',\n",
       " '__package__',\n",
       " '__spec__',\n",
       " 'getScore',\n",
       " 'score']"
      ]
     },
     "execution_count": 143,
     "metadata": {},
     "output_type": "execute_result"
    }
   ],
   "source": [
    "dir(mymodule)"
   ]
  },
  {
   "cell_type": "code",
   "execution_count": 144,
   "metadata": {},
   "outputs": [
    {
     "data": {
      "text/plain": [
       "module"
      ]
     },
     "execution_count": 144,
     "metadata": {},
     "output_type": "execute_result"
    }
   ],
   "source": [
    "type(mymodule)"
   ]
  },
  {
   "cell_type": "code",
   "execution_count": 145,
   "metadata": {},
   "outputs": [
    {
     "data": {
      "text/plain": [
       "int"
      ]
     },
     "execution_count": 145,
     "metadata": {},
     "output_type": "execute_result"
    }
   ],
   "source": [
    "type(mymodule.score)"
   ]
  },
  {
   "cell_type": "code",
   "execution_count": 146,
   "metadata": {},
   "outputs": [
    {
     "data": {
      "text/plain": [
       "function"
      ]
     },
     "execution_count": 146,
     "metadata": {},
     "output_type": "execute_result"
    }
   ],
   "source": [
    "type(mymodule.getScore)"
   ]
  },
  {
   "cell_type": "code",
   "execution_count": 147,
   "metadata": {},
   "outputs": [
    {
     "data": {
      "text/plain": [
       "type"
      ]
     },
     "execution_count": 147,
     "metadata": {},
     "output_type": "execute_result"
    }
   ],
   "source": [
    "type(mymodule.Student) # class 가 type으로 나옴"
   ]
  },
  {
   "cell_type": "code",
   "execution_count": 148,
   "metadata": {},
   "outputs": [
    {
     "data": {
      "text/plain": [
       "100"
      ]
     },
     "execution_count": 148,
     "metadata": {},
     "output_type": "execute_result"
    }
   ],
   "source": [
    "mymodule.score"
   ]
  },
  {
   "cell_type": "code",
   "execution_count": 149,
   "metadata": {},
   "outputs": [
    {
     "name": "stdout",
     "output_type": "stream",
     "text": [
      "2.나의 점수는 100점이다.\n"
     ]
    }
   ],
   "source": [
    "mymodule.getScore()"
   ]
  },
  {
   "cell_type": "code",
   "execution_count": 150,
   "metadata": {},
   "outputs": [
    {
     "name": "stdout",
     "output_type": "stream",
     "text": [
      "3student 초기화\n"
     ]
    },
    {
     "data": {
      "text/plain": [
       "['__class__',\n",
       " '__delattr__',\n",
       " '__dict__',\n",
       " '__dir__',\n",
       " '__doc__',\n",
       " '__eq__',\n",
       " '__format__',\n",
       " '__ge__',\n",
       " '__getattribute__',\n",
       " '__gt__',\n",
       " '__hash__',\n",
       " '__init__',\n",
       " '__init_subclass__',\n",
       " '__le__',\n",
       " '__lt__',\n",
       " '__module__',\n",
       " '__ne__',\n",
       " '__new__',\n",
       " '__reduce__',\n",
       " '__reduce_ex__',\n",
       " '__repr__',\n",
       " '__setattr__',\n",
       " '__sizeof__',\n",
       " '__str__',\n",
       " '__subclasshook__',\n",
       " '__weakref__',\n",
       " 'display']"
      ]
     },
     "execution_count": 150,
     "metadata": {},
     "output_type": "execute_result"
    }
   ],
   "source": [
    "s = mymodule.Student()\n",
    "dir(s)"
   ]
  },
  {
   "cell_type": "code",
   "execution_count": 151,
   "metadata": {},
   "outputs": [
    {
     "name": "stdout",
     "output_type": "stream",
     "text": [
      "4instance 매서드입니다링ㅎㅎㅎ\n"
     ]
    }
   ],
   "source": [
    "s.display()"
   ]
  },
  {
   "cell_type": "code",
   "execution_count": 152,
   "metadata": {},
   "outputs": [
    {
     "name": "stdout",
     "output_type": "stream",
     "text": [
      "100\n",
      "2.나의 점수는 100점이다.\n",
      "None\n",
      "3student 초기화\n",
      "4instance 매서드입니다링ㅎㅎㅎ\n"
     ]
    }
   ],
   "source": [
    "from mymodule import score, getScore, Student\n",
    "\n",
    "print(score)\n",
    "print(getScore())\n",
    "s = Student()\n",
    "s.display()"
   ]
  },
  {
   "cell_type": "code",
   "execution_count": 153,
   "metadata": {},
   "outputs": [],
   "source": [
    "del mymodule"
   ]
  },
  {
   "cell_type": "markdown",
   "metadata": {},
   "source": [
    "unit 45.3 패키지 만들기"
   ]
  },
  {
   "cell_type": "code",
   "execution_count": 154,
   "metadata": {},
   "outputs": [
    {
     "name": "stdout",
     "output_type": "stream",
     "text": [
      "2.나의 점수는 100점이다.\n"
     ]
    }
   ],
   "source": [
    "## namespace : 이름공간, 이름 충돌 방지를 위한 방법\n",
    "# namespace를 사용하지 않으면 이름 충돌이 발생할 수 있다.\n",
    "\n",
    "#import pyproject.mymodule #폴더명.모듈이름\n",
    "#from pyproject import mymodule\n",
    "\n",
    "from pyproject.mymodule import getScore # 무조건 축소시킨다고 좋은 것이 아님\n",
    "\n",
    "#pyproject.mymodule.getScore()\n",
    "#mymodule.getScore()\n",
    "\n",
    "getScore()"
   ]
  },
  {
   "cell_type": "code",
   "execution_count": 155,
   "metadata": {},
   "outputs": [],
   "source": [
    "def getScore(aa):\n",
    "    print('나의 점수라지용ㅇㅇㅇㅇㅇ',aa)"
   ]
  },
  {
   "cell_type": "code",
   "execution_count": 156,
   "metadata": {},
   "outputs": [
    {
     "ename": "TypeError",
     "evalue": "getScore() missing 1 required positional argument: 'aa'",
     "output_type": "error",
     "traceback": [
      "\u001b[1;31m---------------------------------------------------------------------------\u001b[0m",
      "\u001b[1;31mTypeError\u001b[0m                                 Traceback (most recent call last)",
      "\u001b[1;32m<ipython-input-156-d6614113e655>\u001b[0m in \u001b[0;36m<module>\u001b[1;34m\u001b[0m\n\u001b[1;32m----> 1\u001b[1;33m \u001b[0mgetScore\u001b[0m\u001b[1;33m(\u001b[0m\u001b[1;33m)\u001b[0m\u001b[1;33m\u001b[0m\u001b[1;33m\u001b[0m\u001b[0m\n\u001b[0m",
      "\u001b[1;31mTypeError\u001b[0m: getScore() missing 1 required positional argument: 'aa'"
     ]
    }
   ],
   "source": [
    "getScore() # 인자 aa가 있어서 에러가 발생"
   ]
  },
  {
   "cell_type": "code",
   "execution_count": 158,
   "metadata": {},
   "outputs": [
    {
     "ename": "NameError",
     "evalue": "name 'pyproject' is not defined",
     "output_type": "error",
     "traceback": [
      "\u001b[1;31m---------------------------------------------------------------------------\u001b[0m",
      "\u001b[1;31mNameError\u001b[0m                                 Traceback (most recent call last)",
      "\u001b[1;32m<ipython-input-158-3d675224e226>\u001b[0m in \u001b[0;36m<module>\u001b[1;34m\u001b[0m\n\u001b[1;32m----> 1\u001b[1;33m \u001b[0mimportlib\u001b[0m\u001b[1;33m.\u001b[0m\u001b[0mreload\u001b[0m\u001b[1;33m(\u001b[0m\u001b[0mpyproject\u001b[0m\u001b[1;33m.\u001b[0m\u001b[0mmymodule\u001b[0m\u001b[1;33m)\u001b[0m\u001b[1;33m\u001b[0m\u001b[1;33m\u001b[0m\u001b[0m\n\u001b[0m",
      "\u001b[1;31mNameError\u001b[0m: name 'pyproject' is not defined"
     ]
    }
   ],
   "source": [
    "importlib.reload(pyproject.mymodule)"
   ]
  },
  {
   "cell_type": "code",
   "execution_count": 159,
   "metadata": {},
   "outputs": [],
   "source": [
    "def getScore():\n",
    "    print('나의 점수라지용ㅇㅇㅇㅇㅇ')"
   ]
  },
  {
   "cell_type": "code",
   "execution_count": 160,
   "metadata": {},
   "outputs": [
    {
     "name": "stdout",
     "output_type": "stream",
     "text": [
      "나의 점수라지용ㅇㅇㅇㅇㅇ\n"
     ]
    }
   ],
   "source": [
    "getScore()"
   ]
  },
  {
   "cell_type": "code",
   "execution_count": 162,
   "metadata": {},
   "outputs": [],
   "source": [
    "### DB (Sqlite) 에스큐 라이트\n",
    "# data 저장 >>> file, DB"
   ]
  },
  {
   "cell_type": "code",
   "execution_count": 163,
   "metadata": {},
   "outputs": [
    {
     "ename": "OperationalError",
     "evalue": "table student already exists",
     "output_type": "error",
     "traceback": [
      "\u001b[1;31m---------------------------------------------------------------------------\u001b[0m",
      "\u001b[1;31mOperationalError\u001b[0m                          Traceback (most recent call last)",
      "\u001b[1;32m<ipython-input-163-7087afdeaa8e>\u001b[0m in \u001b[0;36m<module>\u001b[1;34m\u001b[0m\n\u001b[0;32m      7\u001b[0m             \u001b[0mstdname\u001b[0m \u001b[0mvarchar\u001b[0m\u001b[1;33m(\u001b[0m\u001b[1;36m30\u001b[0m\u001b[1;33m)\u001b[0m\u001b[1;33m\u001b[0m\u001b[1;33m\u001b[0m\u001b[0m\n\u001b[0;32m      8\u001b[0m             )'''\n\u001b[1;32m----> 9\u001b[1;33m \u001b[0mcursor\u001b[0m\u001b[1;33m.\u001b[0m\u001b[0mexecute\u001b[0m\u001b[1;33m(\u001b[0m\u001b[0msql\u001b[0m\u001b[1;33m)\u001b[0m\u001b[1;33m\u001b[0m\u001b[1;33m\u001b[0m\u001b[0m\n\u001b[0m\u001b[0;32m     10\u001b[0m \u001b[0mcursor\u001b[0m\u001b[1;33m.\u001b[0m\u001b[0mclose\u001b[0m\u001b[1;33m(\u001b[0m\u001b[1;33m)\u001b[0m\u001b[1;33m\u001b[0m\u001b[1;33m\u001b[0m\u001b[0m\n\u001b[0;32m     11\u001b[0m \u001b[0mconn\u001b[0m\u001b[1;33m.\u001b[0m\u001b[0mclose\u001b[0m\u001b[1;33m(\u001b[0m\u001b[1;33m)\u001b[0m\u001b[1;33m\u001b[0m\u001b[1;33m\u001b[0m\u001b[0m\n",
      "\u001b[1;31mOperationalError\u001b[0m: table student already exists"
     ]
    }
   ],
   "source": [
    "import sqlite3\n",
    "\n",
    "conn = sqlite3.connect('mydb.db')\n",
    "cursor = conn.cursor()\n",
    "sql = '''create table student (\n",
    "            stdid int primary key,\n",
    "            stdname varchar(30)\n",
    "            )'''\n",
    "cursor.execute(sql)\n",
    "cursor.close()\n",
    "conn.close()"
   ]
  },
  {
   "cell_type": "code",
   "execution_count": 164,
   "metadata": {},
   "outputs": [
    {
     "ename": "IntegrityError",
     "evalue": "UNIQUE constraint failed: student.stdid",
     "output_type": "error",
     "traceback": [
      "\u001b[1;31m---------------------------------------------------------------------------\u001b[0m",
      "\u001b[1;31mIntegrityError\u001b[0m                            Traceback (most recent call last)",
      "\u001b[1;32m<ipython-input-164-7bd835bfce05>\u001b[0m in \u001b[0;36m<module>\u001b[1;34m\u001b[0m\n\u001b[0;32m      6\u001b[0m \u001b[0msql3\u001b[0m \u001b[1;33m=\u001b[0m \u001b[1;34m\"insert into student values(6, '바바바')\"\u001b[0m\u001b[1;33m\u001b[0m\u001b[1;33m\u001b[0m\u001b[0m\n\u001b[0;32m      7\u001b[0m \u001b[1;33m\u001b[0m\u001b[0m\n\u001b[1;32m----> 8\u001b[1;33m \u001b[0mcursor\u001b[0m\u001b[1;33m.\u001b[0m\u001b[0mexecute\u001b[0m\u001b[1;33m(\u001b[0m\u001b[0msql1\u001b[0m\u001b[1;33m)\u001b[0m\u001b[1;33m\u001b[0m\u001b[1;33m\u001b[0m\u001b[0m\n\u001b[0m\u001b[0;32m      9\u001b[0m \u001b[0mcursor\u001b[0m\u001b[1;33m.\u001b[0m\u001b[0mexecute\u001b[0m\u001b[1;33m(\u001b[0m\u001b[0msql2\u001b[0m\u001b[1;33m)\u001b[0m\u001b[1;33m\u001b[0m\u001b[1;33m\u001b[0m\u001b[0m\n\u001b[0;32m     10\u001b[0m \u001b[0mcursor\u001b[0m\u001b[1;33m.\u001b[0m\u001b[0mexecute\u001b[0m\u001b[1;33m(\u001b[0m\u001b[0msql3\u001b[0m\u001b[1;33m)\u001b[0m\u001b[1;33m\u001b[0m\u001b[1;33m\u001b[0m\u001b[0m\n",
      "\u001b[1;31mIntegrityError\u001b[0m: UNIQUE constraint failed: student.stdid"
     ]
    }
   ],
   "source": [
    "conn = sqlite3.connect('mydb.db')\n",
    "cursor = conn.cursor()\n",
    "\n",
    "sql1 = \"insert into student values(4, '라라라')\"\n",
    "sql2 = \"insert into student values(5, '마마마')\"\n",
    "sql3 = \"insert into student values(6, '바바바')\"\n",
    "\n",
    "cursor.execute(sql1)\n",
    "cursor.execute(sql2)\n",
    "cursor.execute(sql3)\n",
    "conn.commit()\n",
    "\n",
    "cursor.execute(\"select * from student\")\n",
    "\n",
    "# cursor.fetchall()\n",
    "for row in cursor.fetchall():\n",
    "    print(row)\n",
    "\n",
    "\n",
    "cursor.close()\n",
    "conn.close()"
   ]
  },
  {
   "cell_type": "code",
   "execution_count": 165,
   "metadata": {},
   "outputs": [
    {
     "name": "stdout",
     "output_type": "stream",
     "text": [
      "(1, '가가가')\n",
      "(2, '나나나')\n",
      "(3, '다다다')\n",
      "(4, '라라라')\n",
      "(5, '마마마')\n",
      "(6, '바바바')\n"
     ]
    }
   ],
   "source": [
    "conn = sqlite3.connect('./mydb.db')\n",
    "cursor = conn.cursor()\n",
    "cursor.execute('select * from student')\n",
    "for row in cursor.fetchall():\n",
    "    print(row)\n",
    "\n",
    "cursor.close()\n",
    "conn.close()"
   ]
  },
  {
   "cell_type": "code",
   "execution_count": 166,
   "metadata": {},
   "outputs": [],
   "source": [
    "### oracle 사용하기\n",
    "# ! conda install cx_Oracle"
   ]
  },
  {
   "cell_type": "code",
   "execution_count": 167,
   "metadata": {},
   "outputs": [],
   "source": [
    "import cx_Oracle"
   ]
  },
  {
   "cell_type": "code",
   "execution_count": 168,
   "metadata": {},
   "outputs": [],
   "source": [
    "class Employee:\n",
    "    def __init__(self, empid, fname, lname, salary):\n",
    "        self.empid = empid\n",
    "        self.fname = fname\n",
    "        self.lname = lname\n",
    "        self.salary = salary\n",
    "        \n",
    "    def empinfo(self):\n",
    "        print('직원번호:{}'.format(self.empid))\n",
    "        print('직원 이름:{}'.format(self.fname))\n",
    "        print('직원 성:{}'.format(self.lname))\n",
    "        print('직원 연봉:{}'.format(self.salary))\n",
    "        print('='*50)"
   ]
  },
  {
   "cell_type": "code",
   "execution_count": 169,
   "metadata": {},
   "outputs": [],
   "source": [
    "#conn = cx_Oracle.connect('hr/hr@') \n",
    "conn = cx_Oracle.connect('hr/hr@localhost:1521/xe')\n",
    "# uri >> \n",
    "# 네트워크로 접근할때 @로 접근한다.\n",
    "\n",
    "cursor = conn.cursor()\n",
    "#cursor.execute('select * from student')\n",
    "cursor.execute('select * from employees where salary >= 15000')\n",
    "\n",
    "emplist = [] # db에서 가져올 것이다.\n",
    "\n",
    "# 데이터 수집하는 for 문\n",
    "for row in cursor.fetchall():\n",
    "    emp = Employee(row[0], row[1], row[2], row[7])\n",
    "    emplist.append(emp)\n",
    "\n",
    "cursor.close()\n",
    "conn.close()"
   ]
  },
  {
   "cell_type": "code",
   "execution_count": 170,
   "metadata": {},
   "outputs": [
    {
     "name": "stdout",
     "output_type": "stream",
     "text": [
      "직원번호:100\n",
      "직원 이름:Steven\n",
      "직원 성:King\n",
      "직원 연봉:24000.0\n",
      "==================================================\n",
      "직원번호:101\n",
      "직원 이름:Neena\n",
      "직원 성:Kochhar\n",
      "직원 연봉:17000.0\n",
      "==================================================\n",
      "직원번호:102\n",
      "직원 이름:Lex\n",
      "직원 성:De Haan\n",
      "직원 연봉:17000.0\n",
      "==================================================\n",
      "직원번호:120\n",
      "직원 이름:Matthew\n",
      "직원 성:Weiss\n",
      "직원 연봉:80000.0\n",
      "==================================================\n"
     ]
    }
   ],
   "source": [
    "for emp in emplist:\n",
    "    emp.empinfo()"
   ]
  },
  {
   "cell_type": "code",
   "execution_count": 171,
   "metadata": {},
   "outputs": [],
   "source": [
    "class Department:\n",
    "    def __init__(self, deptid, dname, manaid, locid):\n",
    "        self.deptid = deptid\n",
    "        self.dname = dname\n",
    "        self.manaid = manaid\n",
    "        self.locid = locid\n",
    "        \n",
    "    def deptinfo(self):\n",
    "        print('='*50)\n",
    "        print('부서 번호:{}'.format(self.deptid))\n",
    "        print('부서 이름:{}'.format(self.dname))\n",
    "        print('매니저 아이디{}'.format(self.manaid))\n",
    "        print('위치 아이디:{}'.format(self.locid))\n",
    "        print('='*50)"
   ]
  },
  {
   "cell_type": "code",
   "execution_count": 172,
   "metadata": {},
   "outputs": [],
   "source": [
    "# departments table의 모든 정보를 수집하기\n",
    "# 수집하고 list에 담기\n",
    "# list에 담은 데이터 출력\n",
    "\n",
    "conn = cx_Oracle.connect('hr/hr@localhost:1521/xe')\n",
    "\n",
    "cursor = conn.cursor()\n",
    "cursor.execute('select * from departments where location_id >= 1800')\n",
    "\n",
    "deptlist = [] # db에서 가져올 것이다.\n",
    "\n",
    "# 데이터 수집하는 for 문\n",
    "for row in cursor.fetchall():\n",
    "    dep = Department(row[0], row[1], row[2], row[3])\n",
    "    deptlist.append(dep)\n",
    "\n",
    "cursor.close()\n",
    "conn.close()"
   ]
  },
  {
   "cell_type": "code",
   "execution_count": 173,
   "metadata": {},
   "outputs": [
    {
     "name": "stdout",
     "output_type": "stream",
     "text": [
      "==================================================\n",
      "부서 번호:20\n",
      "부서 이름:Marketing\n",
      "매니저 아이디201\n",
      "위치 아이디:1800\n",
      "==================================================\n",
      "==================================================\n",
      "부서 번호:40\n",
      "부서 이름:Human Resources\n",
      "매니저 아이디203\n",
      "위치 아이디:2400\n",
      "==================================================\n",
      "==================================================\n",
      "부서 번호:80\n",
      "부서 이름:Sales\n",
      "매니저 아이디145\n",
      "위치 아이디:2500\n",
      "==================================================\n",
      "==================================================\n",
      "부서 번호:70\n",
      "부서 이름:Public Relations\n",
      "매니저 아이디204\n",
      "위치 아이디:2700\n",
      "==================================================\n"
     ]
    }
   ],
   "source": [
    "for dep in deptlist:\n",
    "    dep.deptinfo()"
   ]
  },
  {
   "cell_type": "code",
   "execution_count": 174,
   "metadata": {},
   "outputs": [
    {
     "data": {
      "text/html": [
       "<div>\n",
       "<style scoped>\n",
       "    .dataframe tbody tr th:only-of-type {\n",
       "        vertical-align: middle;\n",
       "    }\n",
       "\n",
       "    .dataframe tbody tr th {\n",
       "        vertical-align: top;\n",
       "    }\n",
       "\n",
       "    .dataframe thead th {\n",
       "        text-align: right;\n",
       "    }\n",
       "</style>\n",
       "<table border=\"1\" class=\"dataframe\">\n",
       "  <thead>\n",
       "    <tr style=\"text-align: right;\">\n",
       "      <th></th>\n",
       "      <th>DEPARTMENT_ID</th>\n",
       "      <th>DEPARTMENT_NAME</th>\n",
       "      <th>MANAGER_ID</th>\n",
       "      <th>LOCATION_ID</th>\n",
       "    </tr>\n",
       "  </thead>\n",
       "  <tbody>\n",
       "    <tr>\n",
       "      <td>0</td>\n",
       "      <td>10</td>\n",
       "      <td>Administration</td>\n",
       "      <td>200.0</td>\n",
       "      <td>1700</td>\n",
       "    </tr>\n",
       "    <tr>\n",
       "      <td>1</td>\n",
       "      <td>20</td>\n",
       "      <td>Marketing</td>\n",
       "      <td>201.0</td>\n",
       "      <td>1800</td>\n",
       "    </tr>\n",
       "    <tr>\n",
       "      <td>2</td>\n",
       "      <td>30</td>\n",
       "      <td>Purchasing</td>\n",
       "      <td>114.0</td>\n",
       "      <td>1700</td>\n",
       "    </tr>\n",
       "    <tr>\n",
       "      <td>3</td>\n",
       "      <td>40</td>\n",
       "      <td>Human Resources</td>\n",
       "      <td>203.0</td>\n",
       "      <td>2400</td>\n",
       "    </tr>\n",
       "    <tr>\n",
       "      <td>4</td>\n",
       "      <td>50</td>\n",
       "      <td>Shipping</td>\n",
       "      <td>121.0</td>\n",
       "      <td>1500</td>\n",
       "    </tr>\n",
       "    <tr>\n",
       "      <td>5</td>\n",
       "      <td>60</td>\n",
       "      <td>IT</td>\n",
       "      <td>103.0</td>\n",
       "      <td>1400</td>\n",
       "    </tr>\n",
       "    <tr>\n",
       "      <td>6</td>\n",
       "      <td>70</td>\n",
       "      <td>Public Relations</td>\n",
       "      <td>204.0</td>\n",
       "      <td>2700</td>\n",
       "    </tr>\n",
       "    <tr>\n",
       "      <td>7</td>\n",
       "      <td>80</td>\n",
       "      <td>Sales</td>\n",
       "      <td>145.0</td>\n",
       "      <td>2500</td>\n",
       "    </tr>\n",
       "    <tr>\n",
       "      <td>8</td>\n",
       "      <td>90</td>\n",
       "      <td>Executive</td>\n",
       "      <td>100.0</td>\n",
       "      <td>1700</td>\n",
       "    </tr>\n",
       "    <tr>\n",
       "      <td>9</td>\n",
       "      <td>100</td>\n",
       "      <td>Finance</td>\n",
       "      <td>108.0</td>\n",
       "      <td>1700</td>\n",
       "    </tr>\n",
       "    <tr>\n",
       "      <td>10</td>\n",
       "      <td>110</td>\n",
       "      <td>Accounting</td>\n",
       "      <td>205.0</td>\n",
       "      <td>1700</td>\n",
       "    </tr>\n",
       "    <tr>\n",
       "      <td>11</td>\n",
       "      <td>120</td>\n",
       "      <td>Treasury</td>\n",
       "      <td>NaN</td>\n",
       "      <td>1700</td>\n",
       "    </tr>\n",
       "    <tr>\n",
       "      <td>12</td>\n",
       "      <td>130</td>\n",
       "      <td>Corporate Tax</td>\n",
       "      <td>NaN</td>\n",
       "      <td>1700</td>\n",
       "    </tr>\n",
       "    <tr>\n",
       "      <td>13</td>\n",
       "      <td>140</td>\n",
       "      <td>Control And Credit</td>\n",
       "      <td>NaN</td>\n",
       "      <td>1700</td>\n",
       "    </tr>\n",
       "    <tr>\n",
       "      <td>14</td>\n",
       "      <td>150</td>\n",
       "      <td>Shareholder Services</td>\n",
       "      <td>NaN</td>\n",
       "      <td>1700</td>\n",
       "    </tr>\n",
       "    <tr>\n",
       "      <td>15</td>\n",
       "      <td>160</td>\n",
       "      <td>Benefits</td>\n",
       "      <td>NaN</td>\n",
       "      <td>1700</td>\n",
       "    </tr>\n",
       "    <tr>\n",
       "      <td>16</td>\n",
       "      <td>170</td>\n",
       "      <td>Manufacturing</td>\n",
       "      <td>NaN</td>\n",
       "      <td>1700</td>\n",
       "    </tr>\n",
       "    <tr>\n",
       "      <td>17</td>\n",
       "      <td>180</td>\n",
       "      <td>Construction</td>\n",
       "      <td>NaN</td>\n",
       "      <td>1700</td>\n",
       "    </tr>\n",
       "    <tr>\n",
       "      <td>18</td>\n",
       "      <td>190</td>\n",
       "      <td>Contracting</td>\n",
       "      <td>NaN</td>\n",
       "      <td>1700</td>\n",
       "    </tr>\n",
       "    <tr>\n",
       "      <td>19</td>\n",
       "      <td>200</td>\n",
       "      <td>Operations</td>\n",
       "      <td>NaN</td>\n",
       "      <td>1700</td>\n",
       "    </tr>\n",
       "    <tr>\n",
       "      <td>20</td>\n",
       "      <td>210</td>\n",
       "      <td>IT Support</td>\n",
       "      <td>NaN</td>\n",
       "      <td>1700</td>\n",
       "    </tr>\n",
       "    <tr>\n",
       "      <td>21</td>\n",
       "      <td>220</td>\n",
       "      <td>NOC</td>\n",
       "      <td>NaN</td>\n",
       "      <td>1700</td>\n",
       "    </tr>\n",
       "    <tr>\n",
       "      <td>22</td>\n",
       "      <td>230</td>\n",
       "      <td>IT Helpdesk</td>\n",
       "      <td>NaN</td>\n",
       "      <td>1700</td>\n",
       "    </tr>\n",
       "    <tr>\n",
       "      <td>23</td>\n",
       "      <td>240</td>\n",
       "      <td>Government Sales</td>\n",
       "      <td>NaN</td>\n",
       "      <td>1700</td>\n",
       "    </tr>\n",
       "    <tr>\n",
       "      <td>24</td>\n",
       "      <td>250</td>\n",
       "      <td>Retail Sales</td>\n",
       "      <td>NaN</td>\n",
       "      <td>1700</td>\n",
       "    </tr>\n",
       "    <tr>\n",
       "      <td>25</td>\n",
       "      <td>260</td>\n",
       "      <td>Recruiting</td>\n",
       "      <td>NaN</td>\n",
       "      <td>1700</td>\n",
       "    </tr>\n",
       "    <tr>\n",
       "      <td>26</td>\n",
       "      <td>270</td>\n",
       "      <td>Payroll</td>\n",
       "      <td>NaN</td>\n",
       "      <td>1700</td>\n",
       "    </tr>\n",
       "  </tbody>\n",
       "</table>\n",
       "</div>"
      ],
      "text/plain": [
       "    DEPARTMENT_ID       DEPARTMENT_NAME  MANAGER_ID  LOCATION_ID\n",
       "0              10        Administration       200.0         1700\n",
       "1              20             Marketing       201.0         1800\n",
       "2              30            Purchasing       114.0         1700\n",
       "3              40       Human Resources       203.0         2400\n",
       "4              50              Shipping       121.0         1500\n",
       "5              60                    IT       103.0         1400\n",
       "6              70      Public Relations       204.0         2700\n",
       "7              80                 Sales       145.0         2500\n",
       "8              90             Executive       100.0         1700\n",
       "9             100               Finance       108.0         1700\n",
       "10            110            Accounting       205.0         1700\n",
       "11            120              Treasury         NaN         1700\n",
       "12            130         Corporate Tax         NaN         1700\n",
       "13            140    Control And Credit         NaN         1700\n",
       "14            150  Shareholder Services         NaN         1700\n",
       "15            160              Benefits         NaN         1700\n",
       "16            170         Manufacturing         NaN         1700\n",
       "17            180          Construction         NaN         1700\n",
       "18            190           Contracting         NaN         1700\n",
       "19            200            Operations         NaN         1700\n",
       "20            210            IT Support         NaN         1700\n",
       "21            220                   NOC         NaN         1700\n",
       "22            230           IT Helpdesk         NaN         1700\n",
       "23            240      Government Sales         NaN         1700\n",
       "24            250          Retail Sales         NaN         1700\n",
       "25            260            Recruiting         NaN         1700\n",
       "26            270               Payroll         NaN         1700"
      ]
     },
     "execution_count": 174,
     "metadata": {},
     "output_type": "execute_result"
    }
   ],
   "source": [
    "import pandas as pd\n",
    "\n",
    "conn = cx_Oracle.connect('hr/hr@localhost:1521/xe')\n",
    "\n",
    "pd.read_sql('select * from departments', conn)"
   ]
  },
  {
   "cell_type": "code",
   "execution_count": 175,
   "metadata": {},
   "outputs": [
    {
     "data": {
      "text/plain": [
       "'\\n# 프로토콜 : HTTP, HTTPS(Hyper Text Transfer Protocol)\\n# 웹프로그램 : 요청하고 응답한다.\\n# 다양한 http(S) 클라이언트\\n# - gui(그래픽) 브라우저 : chrome, internet Explorer 등\\n# - cli(커맨드) 브라우저 : w3m, elinks, lynx 등\\n# - 파이썬 라이브러리/프레임워크 : requests, selenium, scrapy\\n\\n[get/post 방식] : http method의 get, post 방식이 크롤링에서 주로 사용된다.\\n- get: 조회목적\\n- post: 추가, 수정, 삭제 등의 요청시 사용\\n\\n# CRUD : create read update delete\\n\\n[request와 respons]\\n\\n[header]\\nhttp 요청 & 응답시에 사용된다.\\nkey/value 형식이다\\n* user-agent : 브라우저 종류\\n* referer: 이전페이지 url(어떤 페이지를 거쳐서 왔는가?)\\naccept-language ;어떤 언어의 응답을 원하는가?\\nauthorization: 인증 정보\\n크롤링시에는 user-agent 헤더와 referer를 커스텀하게 설정할 필요가 있다.\\n서비스에 따라 user-agent \\n\\n[웹스크래핑과 웹크롤링]\\n- \\n- 웹크롤링 : 자동화 봇인 웹 크롤러가 정해진 규치겡 따라 복수의 웹페이지를 브라우징 하는 행위(web spider0)\\n\\n[모듈 1 : requests]\\n첫 응답만 받고 추가 요청이 없다\\n\\n[모듈 2 : selenium 웹브라우저 자동화툴]\\n\\n'"
      ]
     },
     "execution_count": 175,
     "metadata": {},
     "output_type": "execute_result"
    }
   ],
   "source": [
    "'''\n",
    "# 프로토콜 : HTTP, HTTPS(Hyper Text Transfer Protocol)\n",
    "# 웹프로그램 : 요청하고 응답한다.\n",
    "# 다양한 http(S) 클라이언트\n",
    "# - gui(그래픽) 브라우저 : chrome, internet Explorer 등\n",
    "# - cli(커맨드) 브라우저 : w3m, elinks, lynx 등\n",
    "# - 파이썬 라이브러리/프레임워크 : requests, selenium, scrapy\n",
    "\n",
    "[get/post 방식] : http method의 get, post 방식이 크롤링에서 주로 사용된다.\n",
    "- get: 조회목적\n",
    "- post: 추가, 수정, 삭제 등의 요청시 사용\n",
    "\n",
    "# CRUD : create read update delete\n",
    "\n",
    "[request와 respons]\n",
    "\n",
    "[header]\n",
    "http 요청 & 응답시에 사용된다.\n",
    "key/value 형식이다\n",
    "* user-agent : 브라우저 종류\n",
    "* referer: 이전페이지 url(어떤 페이지를 거쳐서 왔는가?)\n",
    "accept-language ;어떤 언어의 응답을 원하는가?\n",
    "authorization: 인증 정보\n",
    "크롤링시에는 user-agent 헤더와 referer를 커스텀하게 설정할 필요가 있다.\n",
    "서비스에 따라 user-agent \n",
    "\n",
    "[웹스크래핑과 웹크롤링]\n",
    "- \n",
    "- 웹크롤링 : 자동화 봇인 웹 크롤러가 정해진 규치겡 따라 복수의 웹페이지를 브라우징 하는 행위(web spider0)\n",
    "\n",
    "[모듈 1 : requests]\n",
    "첫 응답만 받고 추가 요청이 없다\n",
    "\n",
    "[모듈 2 : selenium 웹브라우저 자동화툴]\n",
    "\n",
    "'''"
   ]
  },
  {
   "cell_type": "markdown",
   "metadata": {},
   "source": [
    "### 웹크롤링"
   ]
  },
  {
   "cell_type": "code",
   "execution_count": 176,
   "metadata": {},
   "outputs": [
    {
     "data": {
      "text/plain": [
       "['__attrs__',\n",
       " '__bool__',\n",
       " '__class__',\n",
       " '__delattr__',\n",
       " '__dict__',\n",
       " '__dir__',\n",
       " '__doc__',\n",
       " '__enter__',\n",
       " '__eq__',\n",
       " '__exit__',\n",
       " '__format__',\n",
       " '__ge__',\n",
       " '__getattribute__',\n",
       " '__getstate__',\n",
       " '__gt__',\n",
       " '__hash__',\n",
       " '__init__',\n",
       " '__init_subclass__',\n",
       " '__iter__',\n",
       " '__le__',\n",
       " '__lt__',\n",
       " '__module__',\n",
       " '__ne__',\n",
       " '__new__',\n",
       " '__nonzero__',\n",
       " '__reduce__',\n",
       " '__reduce_ex__',\n",
       " '__repr__',\n",
       " '__setattr__',\n",
       " '__setstate__',\n",
       " '__sizeof__',\n",
       " '__str__',\n",
       " '__subclasshook__',\n",
       " '__weakref__',\n",
       " '_content',\n",
       " '_content_consumed',\n",
       " '_next',\n",
       " 'apparent_encoding',\n",
       " 'close',\n",
       " 'connection',\n",
       " 'content',\n",
       " 'cookies',\n",
       " 'elapsed',\n",
       " 'encoding',\n",
       " 'headers',\n",
       " 'history',\n",
       " 'is_permanent_redirect',\n",
       " 'is_redirect',\n",
       " 'iter_content',\n",
       " 'iter_lines',\n",
       " 'json',\n",
       " 'links',\n",
       " 'next',\n",
       " 'ok',\n",
       " 'raise_for_status',\n",
       " 'raw',\n",
       " 'reason',\n",
       " 'request',\n",
       " 'status_code',\n",
       " 'text',\n",
       " 'url']"
      ]
     },
     "execution_count": 176,
     "metadata": {},
     "output_type": "execute_result"
    }
   ],
   "source": [
    "# [http 응답과 요청]\n",
    "\n",
    "import requests\n",
    "response = requests.get('https://www.daum.net/')\n",
    "dir(response)"
   ]
  },
  {
   "cell_type": "code",
   "execution_count": 177,
   "metadata": {},
   "outputs": [
    {
     "data": {
      "text/plain": [
       "200"
      ]
     },
     "execution_count": 177,
     "metadata": {},
     "output_type": "execute_result"
    }
   ],
   "source": [
    "response.status_code"
   ]
  },
  {
   "cell_type": "code",
   "execution_count": 178,
   "metadata": {},
   "outputs": [
    {
     "data": {
      "text/plain": [
       "'en-US'"
      ]
     },
     "execution_count": 178,
     "metadata": {},
     "output_type": "execute_result"
    }
   ],
   "source": [
    "response.headers['Content-Language']"
   ]
  },
  {
   "cell_type": "code",
   "execution_count": 179,
   "metadata": {},
   "outputs": [],
   "source": [
    "# response.text"
   ]
  },
  {
   "cell_type": "code",
   "execution_count": 180,
   "metadata": {},
   "outputs": [
    {
     "data": {
      "text/plain": [
       "<Response [200]>"
      ]
     },
     "execution_count": 180,
     "metadata": {},
     "output_type": "execute_result"
    }
   ],
   "source": [
    "# requests : 파이썬에서 기본라이브러리로 urllib가 제공됨\n",
    "# urllib보다 간결한 코드로 다양한 http요청할 수 있는 최고의 ...\n",
    "\n",
    "# get 요청 시에 커스텀 헤더 지정\n",
    "# https://news.naver.com/main/main.nhn?mode=LSD&mid=shm&sid1=105\n",
    "# url = 'https://news.naver.com/main/main.nhn?mode=LSD&mid=shm&sid1=105' # 좋은 방법이 아니다. 가변값이라서\n",
    "url = 'https://news.naver.com/main/main.nhn'\n",
    "\n",
    "pp = {\n",
    "    'mode' : 'LSD', \n",
    "    'mid' : 'shm',\n",
    "    'sid1' : '105'\n",
    "}\n",
    "\n",
    "# chrome > f12 > network > 맨위에꺼 누르기 > headers --- 트래픽 확인할 수 있음\n",
    "# referrer policy에서 referrer만 가져오기\n",
    "# 딕셔너리 형태로 referrer 과 user-agent 를 'key'로 하고 'value값'을 가져오기\n",
    "\n",
    "header_hh = {\n",
    "    'Referrer' : 'https://news.naver.com',\n",
    "    'user-agent': 'Mozilla/5.0 (Windows NT 10.0; Win64; x64) AppleWebKit/537.36 (KHTML, like Gecko) Chrome/79.0.3945.130 Safari/537.36'}\n",
    "\n",
    "resp = requests.get(url, headers = header_hh, params= pp)\n",
    "resp"
   ]
  },
  {
   "cell_type": "code",
   "execution_count": 181,
   "metadata": {},
   "outputs": [],
   "source": [
    "url = 'https://imgnews.pstatic.net/image/018/2020/01/31/0004565864_001_20200131095503503.jpg?type=w647'\n",
    "\n",
    "response = requests.get(url)\n",
    "\n",
    "with open('graph_news.jpg', 'wb') as f: # binary write\n",
    "                                        #with open 은 write & close 동시에 하는 것임\n",
    "    f.write(response.content)\n",
    "    "
   ]
  },
  {
   "cell_type": "code",
   "execution_count": 182,
   "metadata": {},
   "outputs": [],
   "source": [
    "from IPython.display import Image"
   ]
  },
  {
   "cell_type": "code",
   "execution_count": 183,
   "metadata": {},
   "outputs": [
    {
     "data": {
      "image/jpeg": "[encoded data removed]",
      "text/plain": [
       "<IPython.core.display.Image object>"
      ]
     },
     "execution_count": 183,
     "metadata": {
      "image/jpeg": {
       "height": 100,
       "width": 200
      }
     },
     "output_type": "execute_result"
    }
   ],
   "source": [
    "Image(filename = 'graph_news.jpg', width = 200, height=100)"
   ]
  },
  {
   "cell_type": "markdown",
   "metadata": {},
   "source": [
    "<img src=\"https://imgnews.pstatic.net/image/018/2020/01/31/0004565864_001_20200131095503503.jpg?type=w647\" alt=\"\"  width = 200, height=100>\n",
    "\n",
    "#### ↑  마크다운으로 이미지 띄우기"
   ]
  },
  {
   "cell_type": "code",
   "execution_count": 184,
   "metadata": {},
   "outputs": [],
   "source": [
    "# json data 크롤링\n",
    "# import json\n",
    "# json.loads(response.text)\n",
    "# response.json()\n",
    "\n",
    "# api : 다른 어플리케이션에서 사용가능한 형태로 제공함"
   ]
  },
  {
   "cell_type": "code",
   "execution_count": 185,
   "metadata": {},
   "outputs": [
    {
     "data": {
      "text/plain": [
       "{'opening_price': '10638000',\n",
       " 'closing_price': '10738000',\n",
       " 'min_price': '10568000',\n",
       " 'max_price': '10862000',\n",
       " 'units_traded': '2983.17699694',\n",
       " 'acc_trade_value': '32057140555.7553',\n",
       " 'prev_closing_price': '10638000',\n",
       " 'units_traded_24H': '4573.60779663',\n",
       " 'acc_trade_value_24H': '49002836913.5221',\n",
       " 'fluctate_24H': '122000',\n",
       " 'fluctate_rate_24H': '1.15',\n",
       " 'date': '1580452784631'}"
      ]
     },
     "execution_count": 185,
     "metadata": {},
     "output_type": "execute_result"
    }
   ],
   "source": [
    "url = 'https://api.bithumb.com/public/ticker/'\n",
    "\n",
    "response = requests.get(url)\n",
    "s= response.text\n",
    "# s['data']\n",
    "jsonObj = response.json()\n",
    "jsonObj\n",
    "type(jsonObj) # dictionary\n",
    "\n",
    "jsonObj['data']"
   ]
  },
  {
   "cell_type": "code",
   "execution_count": 186,
   "metadata": {},
   "outputs": [
    {
     "data": {
      "text/plain": [
       "'10638000'"
      ]
     },
     "execution_count": 186,
     "metadata": {},
     "output_type": "execute_result"
    }
   ],
   "source": [
    "jsonObj['data']['opening_price']"
   ]
  },
  {
   "cell_type": "code",
   "execution_count": 200,
   "metadata": {},
   "outputs": [],
   "source": [
    "# 모든 종목의 종가를 출력하기 __ closing_price 만 추출하기\n",
    "# 빗썸사이트에서 \n",
    "\n",
    "url = 'https://api.bithumb.com/public/ticker/ALL'\n",
    "\n",
    "response = requests.get(url)\n",
    "result = response.json()\n",
    "# result         # 104개지만 closing_price는 103개만 갖고 있다"
   ]
  },
  {
   "cell_type": "code",
   "execution_count": 201,
   "metadata": {},
   "outputs": [
    {
     "name": "stdout",
     "output_type": "stream",
     "text": [
      "104\n",
      "1----->>>>BTC----->>>>10734000\n",
      "2----->>>>ETH----->>>>209500\n",
      "3----->>>>DASH----->>>>136300\n",
      "4----->>>>LTC----->>>>77250\n",
      "5----->>>>ETC----->>>>13710\n",
      "6----->>>>XRP----->>>>277.7\n",
      "7----->>>>BCH----->>>>440500\n",
      "8----->>>>XMR----->>>>81150\n",
      "9----->>>>ZEC----->>>>75000\n",
      "10----->>>>QTUM----->>>>2465\n",
      "11----->>>>BTG----->>>>12920\n",
      "12----->>>>EOS----->>>>4854\n",
      "13----->>>>ICX----->>>>272.8\n",
      "14----->>>>TRX----->>>>21.9\n",
      "15----->>>>ELF----->>>>76.94\n",
      "16----->>>>MCO----->>>>5700\n",
      "17----->>>>OMG----->>>>1040\n",
      "18----->>>>KNC----->>>>329.6\n",
      "19----->>>>GNT----->>>>43.21\n",
      "20----->>>>ZIL----->>>>6.61\n",
      "21----->>>>PAY----->>>>43.2\n",
      "22----->>>>WAXP----->>>>23.59\n",
      "23----->>>>POWR----->>>>49.06\n",
      "24----->>>>LRC----->>>>33.15\n",
      "25----->>>>STEEM----->>>>188.8\n",
      "26----->>>>STRAT----->>>>391.9\n",
      "27----->>>>AE----->>>>199.1\n",
      "28----->>>>ZRX----->>>>267.4\n",
      "29----->>>>REP----->>>>16220\n",
      "30----->>>>XEM----->>>>47.5\n",
      "31----->>>>SNT----->>>>12.47\n",
      "32----->>>>ADA----->>>>62\n",
      "33----->>>>PPT----->>>>382.5\n",
      "34----->>>>CTXC----->>>>94.44\n",
      "35----->>>>BAT----->>>>251.3\n",
      "36----->>>>WTC----->>>>463\n",
      "37----->>>>CMT----->>>>14.27\n",
      "38----->>>>THETA----->>>>120.3\n",
      "39----->>>>LOOM----->>>>19.69\n",
      "40----->>>>WAVES----->>>>1000\n",
      "41----->>>>ITC----->>>>151.7\n",
      "42----->>>>TRUE----->>>>362\n",
      "43----->>>>ABT----->>>>165\n",
      "44----->>>>LINK----->>>>3295\n",
      "45----->>>>RNT----->>>>9.83\n",
      "46----->>>>ENJ----->>>>113.2\n",
      "47----->>>>PLY----->>>>3.913\n",
      "48----->>>>VET----->>>>6.608\n",
      "49----->>>>MTL----->>>>277.9\n",
      "50----->>>>RDN----->>>>141.8\n",
      "51----->>>>INS----->>>>182.7\n",
      "52----->>>>IOST----->>>>6.516\n",
      "53----->>>>TMTG----->>>>4.064\n",
      "54----->>>>QKC----->>>>3.072\n",
      "55----->>>>BZNT----->>>>5.89\n",
      "56----->>>>HDAC----->>>>26.93\n",
      "57----->>>>NPXS----->>>>0.1551\n",
      "58----->>>>LBA----->>>>25.85\n",
      "59----->>>>WET----->>>>3.919\n",
      "60----->>>>AMO----->>>>0.2522\n",
      "61----->>>>BSV----->>>>331300\n",
      "62----->>>>APIS----->>>>0.5308\n",
      "63----->>>>DAC----->>>>1.937\n",
      "64----->>>>ORBS----->>>>7.08\n",
      "65----->>>>VALOR----->>>>249\n",
      "66----->>>>CON----->>>>3.121\n",
      "67----->>>>ANKR----->>>>1.489\n",
      "68----->>>>MIX----->>>>2.875\n",
      "69----->>>>LAMB----->>>>37.37\n",
      "70----->>>>CRO----->>>>60.29\n",
      "71----->>>>FX----->>>>93\n",
      "72----->>>>CHR----->>>>18.18\n",
      "73----->>>>MBL----->>>>2.117\n",
      "74----->>>>MXC----->>>>1.897\n",
      "75----->>>>FAB----->>>>16.7\n",
      "76----->>>>OGO----->>>>15.93\n",
      "77----->>>>DVP----->>>>4.4\n",
      "78----->>>>FCT----->>>>33.69\n",
      "79----->>>>FNB----->>>>3.397\n",
      "80----->>>>FZZ----->>>>4.6\n",
      "81----->>>>TRV----->>>>13.22\n",
      "82----->>>>PCM----->>>>8.112\n",
      "83----->>>>DAD----->>>>210\n",
      "84----->>>>AOA----->>>>1.82\n",
      "85----->>>>XSR----->>>>4.454\n",
      "86----->>>>WOM----->>>>79.99\n",
      "87----->>>>SOC----->>>>12.2\n",
      "88----->>>>WPX----->>>>40.01\n",
      "89----->>>>BNP----->>>>0.63\n",
      "90----->>>>SXP----->>>>2175\n",
      "91----->>>>HC----->>>>1856\n",
      "92----->>>>BCD----->>>>711.6\n",
      "93----->>>>XVG----->>>>4.301\n",
      "94----->>>>XLM----->>>>71.2\n",
      "95----->>>>PIVX----->>>>329\n",
      "96----->>>>ETZ----->>>>11.22\n",
      "97----->>>>GXC----->>>>549.9\n",
      "98----->>>>BHP----->>>>936.9\n",
      "99----->>>>BTT----->>>>0.4303\n",
      "100----->>>>HYC----->>>>1.838\n",
      "101----->>>>IPX----->>>>138.7\n",
      "102----->>>>WICC----->>>>145.6\n",
      "103----->>>>LUNA----->>>>220.9\n"
     ]
    }
   ],
   "source": [
    "#for itemname, iteminfo in result['data'].items(): # 키랑 값이 같이 온다.\n",
    "#    if 'closing_price' in iteminfo:\n",
    "#        print(itemname, iteminfo['closing_price'], sep = '----->>>>')\n",
    "        \n",
    "\n",
    "print(len(result['data']))\n",
    "i = 0\n",
    "\n",
    "for itemname, iteminfo in result['data'].items(): # 키랑 값이 같이 온다.\n",
    "    i += 1\n",
    "    if 'closing_price' in iteminfo:\n",
    "        print(i, itemname, iteminfo['closing_price'], sep = '----->>>>')\n",
    "        "
   ]
  },
  {
   "cell_type": "code",
   "execution_count": 214,
   "metadata": {},
   "outputs": [
    {
     "name": "stdout",
     "output_type": "stream",
     "text": [
      "Requirement already satisfied: bs4 in c:\\users\\student\\anaconda3\\lib\\site-packages (0.0.1)\n",
      "Requirement already satisfied: beautifulsoup4 in c:\\users\\student\\anaconda3\\lib\\site-packages (from bs4) (4.8.0)\n",
      "Requirement already satisfied: soupsieve>=1.2 in c:\\users\\student\\anaconda3\\lib\\site-packages (from beautifulsoup4->bs4) (1.9.3)\n"
     ]
    }
   ],
   "source": [
    "! pip install bs4 \n",
    "# 뷰리풀 숩 모듈 설치 하기"
   ]
  },
  {
   "cell_type": "code",
   "execution_count": 215,
   "metadata": {},
   "outputs": [
    {
     "name": "stdout",
     "output_type": "stream",
     "text": [
      "[다음 실시간 검색어 top 10]\n",
      "https://search.daum.net/search?w=tot&q=%EC%BD%94%EB%A1%9C%EB%82%98+%ED%99%95%EC%A7%84%EC%9E%90&DA=ATG&rtmaxcoll=1TH 코로나 확진자\n",
      "https://search.daum.net/search?w=tot&q=%EC%9E%A5%EB%AF%B8%EC%9D%B8%EC%95%A0&DA=ATG&rtmaxcoll=1TH 장미인애\n",
      "https://search.daum.net/search?w=tot&q=%EB%AF%B8%EA%B5%AD+%EB%8F%85%EA%B0%90&DA=ATG&rtmaxcoll=1TH 미국 독감\n",
      "https://search.daum.net/search?w=tot&q=3%EC%B0%A8+%EA%B0%90%EC%97%BC&DA=ATG&rtmaxcoll=1TH 3차 감염\n",
      "https://search.daum.net/search?w=tot&q=%EC%9B%90%EA%B4%91%EB%8C%80%ED%95%99%EA%B5%90+%EB%B3%91%EC%9B%90&DA=ATG&rtmaxcoll=1TH 원광대학교 병원\n",
      "https://search.daum.net/search?w=tot&q=%EC%A7%88%EB%B3%91%EA%B4%80%EB%A6%AC%EB%B3%B8%EB%B6%80&DA=ATG&rtmaxcoll=1TH 질병관리본부\n",
      "https://search.daum.net/search?w=tot&q=8%EB%B2%88%EC%A7%B8+%EC%BD%94%EB%A1%9C%EB%82%98+%ED%99%98%EC%9E%90&DA=ATG&rtmaxcoll=1TH 8번째 코로나 환자\n",
      "https://search.daum.net/search?w=tot&q=%EB%B0%95%EC%84%A0%EC%98%81&DA=ATG&rtmaxcoll=1TH 박선영\n",
      "https://search.daum.net/search?w=tot&q=6%EB%B2%88%EC%A7%B8+%ED%99%98%EC%9E%90&DA=ATG&rtmaxcoll=1TH 6번째 환자\n",
      "https://search.daum.net/search?w=tot&q=%ED%95%9C%EC%9D%BC%EA%B4%80&DA=ATG&rtmaxcoll=1TH 한일관\n"
     ]
    }
   ],
   "source": [
    "from bs4 import BeautifulSoup\n",
    "\n",
    "url = 'https://www.daum.net/'\n",
    "response = requests.get(url)\n",
    "html =  response.text # 이거를 돔트리로 만들기 >> 뷰리풀 숩을 이용해야한다.\n",
    "soup = BeautifulSoup(html, 'html.parser') # 파서의 종류를 하나 넣어줘야함\n",
    "# html을 html.파서로 객체를 만든다.\n",
    "# soup은 DOM 객체라고 한다.\n",
    "# DOM >> document object\n",
    "\n",
    "# 참고\n",
    "# alist = [1,2,3,4,5] # 이것은 객체다\n",
    "# alist = {'name':'aaa'} # 이것은 객체다\n",
    "\n",
    "\n",
    "# CSS SELECTOR :: \n",
    "# # (샾)은 ID 를 의미\n",
    "# .은 클래스(CLASS)를 의미\n",
    "# > 은 자식을 의미 ... 하위항목\n",
    "# 공백은 자손을 의미\n",
    "\n",
    "# div 태그가 class 속성값이 realtime_part 다\n",
    "# 그리고 자식이 ol이다\n",
    "# ol 밑에 li가 있다\n",
    "\n",
    "#search ='#mArticle > div.cmain_tmp > div.section_media > div.hotissue_builtin.hide > div.realtime_part > ol'\n",
    "search = \"#mArticle div.realtime_part > ol > li a[tabindex = '-1']\" # li 안에 a 들만 나온다.\n",
    "# mArticle이라는 ID의 자손중에 DIV를 찾는데, REALPART 클래스 안에 OL 밑에있는 LI의 자식인 a를 갖고와라\n",
    "# 중복되는 글자가 있어서 tabindex = -1인 값들만 가져오기\n",
    "\n",
    "\n",
    "print('[다음 실시간 검색어 top 10]')\n",
    "\n",
    "alist = soup.select(search)\n",
    "\n",
    "for tag in alist:\n",
    "    #print(tag.text)\n",
    "    print(tag['href'], tag.text)\n",
    "\n",
    "# 돔트리형태에서 검색하기"
   ]
  },
  {
   "cell_type": "code",
   "execution_count": 216,
   "metadata": {},
   "outputs": [
    {
     "name": "stdout",
     "output_type": "stream",
     "text": [
      "[다음 실시간 검색어 top 10]\n"
     ]
    }
   ],
   "source": [
    "realdata = {}\n",
    "\n",
    "print('[다음 실시간 검색어 top 10]')\n",
    "for tag in alist:\n",
    "    realdata[tag.text] = tag['href']\n"
   ]
  },
  {
   "cell_type": "code",
   "execution_count": 217,
   "metadata": {},
   "outputs": [
    {
     "data": {
      "text/plain": [
       "{'코로나 확진자': 'https://search.daum.net/search?w=tot&q=%EC%BD%94%EB%A1%9C%EB%82%98+%ED%99%95%EC%A7%84%EC%9E%90&DA=ATG&rtmaxcoll=1TH',\n",
       " '장미인애': 'https://search.daum.net/search?w=tot&q=%EC%9E%A5%EB%AF%B8%EC%9D%B8%EC%95%A0&DA=ATG&rtmaxcoll=1TH',\n",
       " '미국 독감': 'https://search.daum.net/search?w=tot&q=%EB%AF%B8%EA%B5%AD+%EB%8F%85%EA%B0%90&DA=ATG&rtmaxcoll=1TH',\n",
       " '3차 감염': 'https://search.daum.net/search?w=tot&q=3%EC%B0%A8+%EA%B0%90%EC%97%BC&DA=ATG&rtmaxcoll=1TH',\n",
       " '원광대학교 병원': 'https://search.daum.net/search?w=tot&q=%EC%9B%90%EA%B4%91%EB%8C%80%ED%95%99%EA%B5%90+%EB%B3%91%EC%9B%90&DA=ATG&rtmaxcoll=1TH',\n",
       " '질병관리본부': 'https://search.daum.net/search?w=tot&q=%EC%A7%88%EB%B3%91%EA%B4%80%EB%A6%AC%EB%B3%B8%EB%B6%80&DA=ATG&rtmaxcoll=1TH',\n",
       " '8번째 코로나 환자': 'https://search.daum.net/search?w=tot&q=8%EB%B2%88%EC%A7%B8+%EC%BD%94%EB%A1%9C%EB%82%98+%ED%99%98%EC%9E%90&DA=ATG&rtmaxcoll=1TH',\n",
       " '박선영': 'https://search.daum.net/search?w=tot&q=%EB%B0%95%EC%84%A0%EC%98%81&DA=ATG&rtmaxcoll=1TH',\n",
       " '6번째 환자': 'https://search.daum.net/search?w=tot&q=6%EB%B2%88%EC%A7%B8+%ED%99%98%EC%9E%90&DA=ATG&rtmaxcoll=1TH',\n",
       " '한일관': 'https://search.daum.net/search?w=tot&q=%ED%95%9C%EC%9D%BC%EA%B4%80&DA=ATG&rtmaxcoll=1TH'}"
      ]
     },
     "execution_count": 217,
     "metadata": {},
     "output_type": "execute_result"
    }
   ],
   "source": [
    "realdata.keys()\n",
    "realdata.values()\n",
    "realdata.items()\n",
    "realdata\n",
    "\n",
    "# 무조건 print 하지말고 데이터를 만들자,.\n",
    "# print는 1회성이다"
   ]
  },
  {
   "cell_type": "code",
   "execution_count": 218,
   "metadata": {},
   "outputs": [],
   "source": [
    "# [ beautiful 모듈 ??? ]\n",
    "\n",
    "# html과 xmㅣ 파일로부터 데이터를 뽑아내기 위한 파이써 ㄴ라이브러리\n",
    "# 파서 트리를 탐ㅂ색 검색 수정하는데 간편하고..\n",
    "\n",
    "# [파서]\n",
    "# 1. lxml (매우빠름) : pip install lxml\n",
    "# 2. html.parser (괜찮은 속도)\n",
    "# 3. html5lib ()"
   ]
  },
  {
   "cell_type": "code",
   "execution_count": 219,
   "metadata": {},
   "outputs": [],
   "source": [
    "# css selector 는 중요함!!!!\n"
   ]
  },
  {
   "cell_type": "code",
   "execution_count": 220,
   "metadata": {},
   "outputs": [],
   "source": [
    "# [태그를 찾는 2가지 방법]"
   ]
  },
  {
   "cell_type": "code",
   "execution_count": 221,
   "metadata": {},
   "outputs": [],
   "source": [
    "from bs4 import BeautifulSoup\n",
    "\n",
    "url = 'https://www.daum.net/'\n",
    "response = requests.get(url)\n",
    "html =  response.text # 이거를 돔트리로 만들기 >> 뷰리풀 숩을 이용해야한다.\n",
    "soup = BeautifulSoup(html, 'html.parser') \n",
    "\n",
    "alist = soup.find_all('a', {'tabindex' : '-1'})\n",
    "\n",
    "realdata = {}\n",
    "\n",
    "for tag in alist:\n",
    "    realdata[tag.text] = tag['href']"
   ]
  },
  {
   "cell_type": "code",
   "execution_count": 222,
   "metadata": {},
   "outputs": [
    {
     "data": {
      "text/plain": [
       "{'코로나 확진자': 'https://search.daum.net/search?w=tot&q=%EC%BD%94%EB%A1%9C%EB%82%98+%ED%99%95%EC%A7%84%EC%9E%90&DA=ATG&rtmaxcoll=1TH',\n",
       " '장미인애': 'https://search.daum.net/search?w=tot&q=%EC%9E%A5%EB%AF%B8%EC%9D%B8%EC%95%A0&DA=ATG&rtmaxcoll=1TH',\n",
       " '미국 독감': 'https://search.daum.net/search?w=tot&q=%EB%AF%B8%EA%B5%AD+%EB%8F%85%EA%B0%90&DA=ATG&rtmaxcoll=1TH',\n",
       " '3차 감염': 'https://search.daum.net/search?w=tot&q=3%EC%B0%A8+%EA%B0%90%EC%97%BC&DA=ATG&rtmaxcoll=1TH',\n",
       " '원광대학교 병원': 'https://search.daum.net/search?w=tot&q=%EC%9B%90%EA%B4%91%EB%8C%80%ED%95%99%EA%B5%90+%EB%B3%91%EC%9B%90&DA=ATG&rtmaxcoll=1TH',\n",
       " '질병관리본부': 'https://search.daum.net/search?w=tot&q=%EC%A7%88%EB%B3%91%EA%B4%80%EB%A6%AC%EB%B3%B8%EB%B6%80&DA=ATG&rtmaxcoll=1TH',\n",
       " '8번째 코로나 환자': 'https://search.daum.net/search?w=tot&q=8%EB%B2%88%EC%A7%B8+%EC%BD%94%EB%A1%9C%EB%82%98+%ED%99%98%EC%9E%90&DA=ATG&rtmaxcoll=1TH',\n",
       " '박선영': 'https://search.daum.net/search?w=tot&q=%EB%B0%95%EC%84%A0%EC%98%81&DA=ATG&rtmaxcoll=1TH',\n",
       " '6번째 환자': 'https://search.daum.net/search?w=tot&q=6%EB%B2%88%EC%A7%B8+%ED%99%98%EC%9E%90&DA=ATG&rtmaxcoll=1TH',\n",
       " '한일관': 'https://search.daum.net/search?w=tot&q=%ED%95%9C%EC%9D%BC%EA%B4%80&DA=ATG&rtmaxcoll=1TH'}"
      ]
     },
     "execution_count": 222,
     "metadata": {},
     "output_type": "execute_result"
    }
   ],
   "source": [
    "realdata"
   ]
  },
  {
   "cell_type": "code",
   "execution_count": 223,
   "metadata": {},
   "outputs": [
    {
     "name": "stdout",
     "output_type": "stream",
     "text": [
      "%ED%8C%8C%EC%9D%B4%EC%8D%AC\n",
      "파이썬\n"
     ]
    }
   ],
   "source": [
    "import urllib.parse\n",
    "\n",
    "s= '파이썬'\n",
    "\n",
    "# encoding\n",
    "s2 = urllib.parse.quote_plus(s)\n",
    "print(s2)\n",
    "\n",
    "\n",
    "# decoding\n",
    "s3 = urllib.parse.unquote_plus(s2)\n",
    "print(s3)\n",
    "\n",
    "\n",
    "soup = BeautifulSoup(html, 'html.parser') \n",
    "\n",
    "alist = soup.find_all('a', {'tabindex' : '-1'})\n",
    "\n",
    "realdata = {}\n",
    "\n",
    "for tag in alist:\n",
    "    realdata[tag.text] = tag['href']"
   ]
  },
  {
   "cell_type": "code",
   "execution_count": 224,
   "metadata": {},
   "outputs": [
    {
     "name": "stdout",
     "output_type": "stream",
     "text": [
      "155. 단골가게\n",
      "154. 나름 데이트\n",
      "153. 스토리 툰을 그려보자 2\n",
      "152. 로망 in 자취\n",
      "151. 온가족이 다같이 연말연시 파티\n",
      "150. 프리랜서로 자취한다는 것은\n",
      "149. 크리스마스의 악몽(?)\n",
      "148. 반려묘와 투닥투닥\n",
      "147. 천하제일 서러움 자취생 대회\n",
      "146. 츄카피의 일정 패턴\n"
     ]
    }
   ],
   "source": [
    "# 네이버 웹툰 가져오기\n",
    "\n",
    "url = 'https://comic.naver.com/webtoon/list.nhn?titleId=714834'\n",
    "response = requests.get(url)\n",
    "html = response.text\n",
    "soup = BeautifulSoup(html, 'html.parser')\n",
    "\n",
    "#search = '#content > table > tbody > tr:nth-child(3) > td.title > a'\n",
    "# soup.select(search)\n",
    "\n",
    "tdlist = soup.find_all('td', {'class' : 'title'})\n",
    "\n",
    "for tag in tdlist:\n",
    "    #print(tag)\n",
    "    print(tag.select('a')[0].text)"
   ]
  },
  {
   "cell_type": "code",
   "execution_count": 259,
   "metadata": {},
   "outputs": [],
   "source": [
    "from urllib.request import urlretrieve"
   ]
  },
  {
   "cell_type": "code",
   "execution_count": 267,
   "metadata": {},
   "outputs": [
    {
     "data": {
      "text/plain": [
       "'https://shared-comic.pstatic.net/thumb/webtoon/714834/156/thumbnail_202x120_9d7141e6-b5fb-4da5-9b32-305b69932567.jpg'"
      ]
     },
     "execution_count": 267,
     "metadata": {},
     "output_type": "execute_result"
    }
   ],
   "source": [
    "search = '#content  td > a > img'\n",
    "imglist = soup.select(search)\n",
    "\n",
    "#tdlist = soup.find_all('td', {'class' : 'title'})\n",
    "\n",
    "imglist[0]['src']"
   ]
  },
  {
   "cell_type": "code",
   "execution_count": 289,
   "metadata": {},
   "outputs": [],
   "source": [
    "import requests, re\n",
    "\n",
    "for tag in imglist:\n",
    "#    print(tag['title'], tag['src'])\n",
    "#    print(tag[\"title\"] + '.jpg')\n",
    "    title = tag['title']\n",
    "    title = re.sub('[^0-9a-zA-Zㄱ-힗]', '', title)\n",
    "    urlretrieve(tag['src'], 'C:/Users/student/Desktop/test/' + title + '.jpg')"
   ]
  },
  {
   "cell_type": "code",
   "execution_count": 320,
   "metadata": {},
   "outputs": [
    {
     "data": {
      "text/plain": [
       "[]"
      ]
     },
     "execution_count": 320,
     "metadata": {},
     "output_type": "execute_result"
    }
   ],
   "source": []
  },
  {
   "cell_type": "code",
   "execution_count": null,
   "metadata": {},
   "outputs": [],
   "source": []
  },
  {
   "cell_type": "code",
   "execution_count": null,
   "metadata": {},
   "outputs": [],
   "source": []
  }
 ],
 "metadata": {
  "kernelspec": {
   "display_name": "Python 3",
   "language": "python",
   "name": "python3"
  },
  "language_info": {
   "codemirror_mode": {
    "name": "ipython",
    "version": 3
   },
   "file_extension": ".py",
   "mimetype": "text/x-python",
   "name": "python",
   "nbconvert_exporter": "python",
   "pygments_lexer": "ipython3",
   "version": "3.7.4"
  }
 },
 "nbformat": 4,
 "nbformat_minor": 4
}
